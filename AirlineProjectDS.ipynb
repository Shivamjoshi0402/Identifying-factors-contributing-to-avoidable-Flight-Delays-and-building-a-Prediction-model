{
 "cells": [
  {
   "cell_type": "markdown",
   "id": "09354deb",
   "metadata": {},
   "source": [
    "#                             United States Airlines Analysis\n",
    "\n",
    "\n",
    "\n",
    "    \n",
    "Problem Statement:\n",
    " \n",
    "   According to air travel consumer reports, a large proportion of consumer complaints are\n",
    "about frequent flight delays.\n",
    "\n",
    "Out of all the complaints received from consumers about airline services, 32% were related to\n",
    "cancellations, delays, or other deviations from the airlines’ schedules.\n",
    "There are unavoidable delays that can be caused by air traffic, no passengers at the airport,\n",
    "weather conditions, mechanical issues, passengers coming from delayed connecting flights,\n",
    "security clearance, and aircraft preparation."
   ]
  },
  {
   "cell_type": "code",
   "execution_count": 207,
   "id": "8dcd5c7b",
   "metadata": {},
   "outputs": [],
   "source": [
    "import pandas as pd\n",
    "import seaborn as sns\n",
    "import numpy as np\n",
    "import requests\n",
    "from bs4 import BeautifulSoup\n",
    "import matplotlib.pyplot as plt\n",
    "from sklearn.metrics import mean_absolute_percentage_error\n",
    "import statsmodels.api as sm\n",
    "import scipy.stats as stats\n",
    "from sklearn.linear_model import SGDClassifier\n",
    "from sklearn.model_selection import StratifiedKFold, RandomizedSearchCV, train_test_split\n",
    "from statsmodels.formula.api import glm\n",
    "import statsmodels.api as sm\n",
    "from sklearn.preprocessing import OrdinalEncoder, StandardScaler\n",
    "from sklearn.pipeline import Pipeline\n",
    "from sklearn.metrics import classification_report, accuracy_score\n",
    "from sklearn.tree import DecisionTreeClassifier\n",
    "from xgboost import XGBClassifier"
   ]
  },
  {
   "cell_type": "markdown",
   "id": "e65edcd9",
   "metadata": {},
   "source": [
    "## Data import and aggregation steps:\n",
    "\n",
    "I. Collate the information specific to flights, airports (like type of airport, elevation etc) and runway(length_ft, width_ft, surface etc.). Get all those fields in single dataset which you believe may impact the delay."
   ]
  },
  {
   "cell_type": "code",
   "execution_count": 13,
   "id": "2e6cb5cf",
   "metadata": {},
   "outputs": [],
   "source": [
    "airlines = pd.read_excel(\"Airlines.xlsx\")\n",
    "airports = pd.read_excel(\"airports.xlsx\")\n",
    "runways = pd.read_excel(\"runways.xlsx\")"
   ]
  },
  {
   "cell_type": "code",
   "execution_count": 14,
   "id": "afc5d63f",
   "metadata": {},
   "outputs": [
    {
     "data": {
      "text/html": [
       "<div>\n",
       "<style scoped>\n",
       "    .dataframe tbody tr th:only-of-type {\n",
       "        vertical-align: middle;\n",
       "    }\n",
       "\n",
       "    .dataframe tbody tr th {\n",
       "        vertical-align: top;\n",
       "    }\n",
       "\n",
       "    .dataframe thead th {\n",
       "        text-align: right;\n",
       "    }\n",
       "</style>\n",
       "<table border=\"1\" class=\"dataframe\">\n",
       "  <thead>\n",
       "    <tr style=\"text-align: right;\">\n",
       "      <th></th>\n",
       "      <th>id</th>\n",
       "      <th>Airline</th>\n",
       "      <th>Flight</th>\n",
       "      <th>AirportFrom</th>\n",
       "      <th>AirportTo</th>\n",
       "      <th>DayOfWeek</th>\n",
       "      <th>Time</th>\n",
       "      <th>Length</th>\n",
       "      <th>Delay</th>\n",
       "    </tr>\n",
       "  </thead>\n",
       "  <tbody>\n",
       "    <tr>\n",
       "      <th>0</th>\n",
       "      <td>1</td>\n",
       "      <td>CO</td>\n",
       "      <td>269</td>\n",
       "      <td>SFO</td>\n",
       "      <td>IAH</td>\n",
       "      <td>3</td>\n",
       "      <td>15</td>\n",
       "      <td>205</td>\n",
       "      <td>1</td>\n",
       "    </tr>\n",
       "    <tr>\n",
       "      <th>1</th>\n",
       "      <td>2</td>\n",
       "      <td>US</td>\n",
       "      <td>1558</td>\n",
       "      <td>PHX</td>\n",
       "      <td>CLT</td>\n",
       "      <td>3</td>\n",
       "      <td>15</td>\n",
       "      <td>222</td>\n",
       "      <td>1</td>\n",
       "    </tr>\n",
       "    <tr>\n",
       "      <th>2</th>\n",
       "      <td>3</td>\n",
       "      <td>AA</td>\n",
       "      <td>2400</td>\n",
       "      <td>LAX</td>\n",
       "      <td>DFW</td>\n",
       "      <td>3</td>\n",
       "      <td>20</td>\n",
       "      <td>165</td>\n",
       "      <td>1</td>\n",
       "    </tr>\n",
       "    <tr>\n",
       "      <th>3</th>\n",
       "      <td>4</td>\n",
       "      <td>AA</td>\n",
       "      <td>2466</td>\n",
       "      <td>SFO</td>\n",
       "      <td>DFW</td>\n",
       "      <td>3</td>\n",
       "      <td>20</td>\n",
       "      <td>195</td>\n",
       "      <td>1</td>\n",
       "    </tr>\n",
       "    <tr>\n",
       "      <th>4</th>\n",
       "      <td>5</td>\n",
       "      <td>AS</td>\n",
       "      <td>108</td>\n",
       "      <td>ANC</td>\n",
       "      <td>SEA</td>\n",
       "      <td>3</td>\n",
       "      <td>30</td>\n",
       "      <td>202</td>\n",
       "      <td>0</td>\n",
       "    </tr>\n",
       "  </tbody>\n",
       "</table>\n",
       "</div>"
      ],
      "text/plain": [
       "   id Airline  Flight AirportFrom AirportTo  DayOfWeek  Time  Length  Delay\n",
       "0   1      CO     269         SFO       IAH          3    15     205      1\n",
       "1   2      US    1558         PHX       CLT          3    15     222      1\n",
       "2   3      AA    2400         LAX       DFW          3    20     165      1\n",
       "3   4      AA    2466         SFO       DFW          3    20     195      1\n",
       "4   5      AS     108         ANC       SEA          3    30     202      0"
      ]
     },
     "execution_count": 14,
     "metadata": {},
     "output_type": "execute_result"
    }
   ],
   "source": [
    "airlines.head()"
   ]
  },
  {
   "cell_type": "code",
   "execution_count": 15,
   "id": "1bdaf88d",
   "metadata": {},
   "outputs": [
    {
     "data": {
      "text/html": [
       "<div>\n",
       "<style scoped>\n",
       "    .dataframe tbody tr th:only-of-type {\n",
       "        vertical-align: middle;\n",
       "    }\n",
       "\n",
       "    .dataframe tbody tr th {\n",
       "        vertical-align: top;\n",
       "    }\n",
       "\n",
       "    .dataframe thead th {\n",
       "        text-align: right;\n",
       "    }\n",
       "</style>\n",
       "<table border=\"1\" class=\"dataframe\">\n",
       "  <thead>\n",
       "    <tr style=\"text-align: right;\">\n",
       "      <th></th>\n",
       "      <th>id</th>\n",
       "      <th>ident</th>\n",
       "      <th>type</th>\n",
       "      <th>name</th>\n",
       "      <th>latitude_deg</th>\n",
       "      <th>longitude_deg</th>\n",
       "      <th>elevation_ft</th>\n",
       "      <th>continent</th>\n",
       "      <th>iso_country</th>\n",
       "      <th>iso_region</th>\n",
       "      <th>municipality</th>\n",
       "      <th>scheduled_service</th>\n",
       "      <th>gps_code</th>\n",
       "      <th>iata_code</th>\n",
       "      <th>local_code</th>\n",
       "      <th>home_link</th>\n",
       "      <th>wikipedia_link</th>\n",
       "      <th>keywords</th>\n",
       "    </tr>\n",
       "  </thead>\n",
       "  <tbody>\n",
       "    <tr>\n",
       "      <th>0</th>\n",
       "      <td>6523</td>\n",
       "      <td>00A</td>\n",
       "      <td>heliport</td>\n",
       "      <td>Total Rf Heliport</td>\n",
       "      <td>40.070801</td>\n",
       "      <td>-74.933601</td>\n",
       "      <td>11.0</td>\n",
       "      <td>NaN</td>\n",
       "      <td>US</td>\n",
       "      <td>US-PA</td>\n",
       "      <td>Bensalem</td>\n",
       "      <td>no</td>\n",
       "      <td>00A</td>\n",
       "      <td>NaN</td>\n",
       "      <td>00A</td>\n",
       "      <td>NaN</td>\n",
       "      <td>NaN</td>\n",
       "      <td>NaN</td>\n",
       "    </tr>\n",
       "    <tr>\n",
       "      <th>1</th>\n",
       "      <td>323361</td>\n",
       "      <td>00AA</td>\n",
       "      <td>small_airport</td>\n",
       "      <td>Aero B Ranch Airport</td>\n",
       "      <td>38.704022</td>\n",
       "      <td>-101.473911</td>\n",
       "      <td>3435.0</td>\n",
       "      <td>NaN</td>\n",
       "      <td>US</td>\n",
       "      <td>US-KS</td>\n",
       "      <td>Leoti</td>\n",
       "      <td>no</td>\n",
       "      <td>00AA</td>\n",
       "      <td>NaN</td>\n",
       "      <td>00AA</td>\n",
       "      <td>NaN</td>\n",
       "      <td>NaN</td>\n",
       "      <td>NaN</td>\n",
       "    </tr>\n",
       "    <tr>\n",
       "      <th>2</th>\n",
       "      <td>6524</td>\n",
       "      <td>00AK</td>\n",
       "      <td>small_airport</td>\n",
       "      <td>Lowell Field</td>\n",
       "      <td>59.947733</td>\n",
       "      <td>-151.692524</td>\n",
       "      <td>450.0</td>\n",
       "      <td>NaN</td>\n",
       "      <td>US</td>\n",
       "      <td>US-AK</td>\n",
       "      <td>Anchor Point</td>\n",
       "      <td>no</td>\n",
       "      <td>00AK</td>\n",
       "      <td>NaN</td>\n",
       "      <td>00AK</td>\n",
       "      <td>NaN</td>\n",
       "      <td>NaN</td>\n",
       "      <td>NaN</td>\n",
       "    </tr>\n",
       "    <tr>\n",
       "      <th>3</th>\n",
       "      <td>6525</td>\n",
       "      <td>00AL</td>\n",
       "      <td>small_airport</td>\n",
       "      <td>Epps Airpark</td>\n",
       "      <td>34.864799</td>\n",
       "      <td>-86.770302</td>\n",
       "      <td>820.0</td>\n",
       "      <td>NaN</td>\n",
       "      <td>US</td>\n",
       "      <td>US-AL</td>\n",
       "      <td>Harvest</td>\n",
       "      <td>no</td>\n",
       "      <td>00AL</td>\n",
       "      <td>NaN</td>\n",
       "      <td>00AL</td>\n",
       "      <td>NaN</td>\n",
       "      <td>NaN</td>\n",
       "      <td>NaN</td>\n",
       "    </tr>\n",
       "    <tr>\n",
       "      <th>4</th>\n",
       "      <td>6526</td>\n",
       "      <td>00AR</td>\n",
       "      <td>closed</td>\n",
       "      <td>Newport Hospital &amp; Clinic Heliport</td>\n",
       "      <td>35.608700</td>\n",
       "      <td>-91.254898</td>\n",
       "      <td>237.0</td>\n",
       "      <td>NaN</td>\n",
       "      <td>US</td>\n",
       "      <td>US-AR</td>\n",
       "      <td>Newport</td>\n",
       "      <td>no</td>\n",
       "      <td>NaN</td>\n",
       "      <td>NaN</td>\n",
       "      <td>NaN</td>\n",
       "      <td>NaN</td>\n",
       "      <td>NaN</td>\n",
       "      <td>00AR</td>\n",
       "    </tr>\n",
       "  </tbody>\n",
       "</table>\n",
       "</div>"
      ],
      "text/plain": [
       "       id ident           type                                name  \\\n",
       "0    6523   00A       heliport                   Total Rf Heliport   \n",
       "1  323361  00AA  small_airport                Aero B Ranch Airport   \n",
       "2    6524  00AK  small_airport                        Lowell Field   \n",
       "3    6525  00AL  small_airport                        Epps Airpark   \n",
       "4    6526  00AR         closed  Newport Hospital & Clinic Heliport   \n",
       "\n",
       "   latitude_deg  longitude_deg  elevation_ft continent iso_country iso_region  \\\n",
       "0     40.070801     -74.933601          11.0       NaN          US      US-PA   \n",
       "1     38.704022    -101.473911        3435.0       NaN          US      US-KS   \n",
       "2     59.947733    -151.692524         450.0       NaN          US      US-AK   \n",
       "3     34.864799     -86.770302         820.0       NaN          US      US-AL   \n",
       "4     35.608700     -91.254898         237.0       NaN          US      US-AR   \n",
       "\n",
       "   municipality scheduled_service gps_code iata_code local_code home_link  \\\n",
       "0      Bensalem                no      00A       NaN        00A       NaN   \n",
       "1         Leoti                no     00AA       NaN       00AA       NaN   \n",
       "2  Anchor Point                no     00AK       NaN       00AK       NaN   \n",
       "3       Harvest                no     00AL       NaN       00AL       NaN   \n",
       "4       Newport                no      NaN       NaN        NaN       NaN   \n",
       "\n",
       "  wikipedia_link keywords  \n",
       "0            NaN      NaN  \n",
       "1            NaN      NaN  \n",
       "2            NaN      NaN  \n",
       "3            NaN      NaN  \n",
       "4            NaN     00AR  "
      ]
     },
     "execution_count": 15,
     "metadata": {},
     "output_type": "execute_result"
    }
   ],
   "source": [
    "airports.head()"
   ]
  },
  {
   "cell_type": "code",
   "execution_count": 16,
   "id": "d951fbb3",
   "metadata": {},
   "outputs": [
    {
     "data": {
      "text/html": [
       "<div>\n",
       "<style scoped>\n",
       "    .dataframe tbody tr th:only-of-type {\n",
       "        vertical-align: middle;\n",
       "    }\n",
       "\n",
       "    .dataframe tbody tr th {\n",
       "        vertical-align: top;\n",
       "    }\n",
       "\n",
       "    .dataframe thead th {\n",
       "        text-align: right;\n",
       "    }\n",
       "</style>\n",
       "<table border=\"1\" class=\"dataframe\">\n",
       "  <thead>\n",
       "    <tr style=\"text-align: right;\">\n",
       "      <th></th>\n",
       "      <th>id</th>\n",
       "      <th>airport_ref</th>\n",
       "      <th>airport_ident</th>\n",
       "      <th>length_ft</th>\n",
       "      <th>width_ft</th>\n",
       "      <th>surface</th>\n",
       "      <th>lighted</th>\n",
       "      <th>closed</th>\n",
       "      <th>le_ident</th>\n",
       "      <th>le_latitude_deg</th>\n",
       "      <th>le_longitude_deg</th>\n",
       "      <th>le_elevation_ft</th>\n",
       "      <th>le_heading_degT</th>\n",
       "      <th>le_displaced_threshold_ft</th>\n",
       "      <th>he_ident</th>\n",
       "      <th>he_latitude_deg</th>\n",
       "      <th>he_longitude_deg</th>\n",
       "      <th>he_elevation_ft</th>\n",
       "      <th>he_heading_degT</th>\n",
       "      <th>he_displaced_threshold_ft</th>\n",
       "    </tr>\n",
       "  </thead>\n",
       "  <tbody>\n",
       "    <tr>\n",
       "      <th>0</th>\n",
       "      <td>269408</td>\n",
       "      <td>6523</td>\n",
       "      <td>00A</td>\n",
       "      <td>80.0</td>\n",
       "      <td>80.0</td>\n",
       "      <td>ASPH-G</td>\n",
       "      <td>1</td>\n",
       "      <td>0</td>\n",
       "      <td>H1</td>\n",
       "      <td>NaN</td>\n",
       "      <td>NaN</td>\n",
       "      <td>NaN</td>\n",
       "      <td>NaN</td>\n",
       "      <td>NaN</td>\n",
       "      <td>NaN</td>\n",
       "      <td>NaN</td>\n",
       "      <td>NaN</td>\n",
       "      <td>NaN</td>\n",
       "      <td>NaN</td>\n",
       "      <td>NaN</td>\n",
       "    </tr>\n",
       "    <tr>\n",
       "      <th>1</th>\n",
       "      <td>255155</td>\n",
       "      <td>6524</td>\n",
       "      <td>00AK</td>\n",
       "      <td>2500.0</td>\n",
       "      <td>70.0</td>\n",
       "      <td>GRVL</td>\n",
       "      <td>0</td>\n",
       "      <td>0</td>\n",
       "      <td>N</td>\n",
       "      <td>NaN</td>\n",
       "      <td>NaN</td>\n",
       "      <td>NaN</td>\n",
       "      <td>NaN</td>\n",
       "      <td>NaN</td>\n",
       "      <td>S</td>\n",
       "      <td>NaN</td>\n",
       "      <td>NaN</td>\n",
       "      <td>NaN</td>\n",
       "      <td>NaN</td>\n",
       "      <td>NaN</td>\n",
       "    </tr>\n",
       "    <tr>\n",
       "      <th>2</th>\n",
       "      <td>254165</td>\n",
       "      <td>6525</td>\n",
       "      <td>00AL</td>\n",
       "      <td>2300.0</td>\n",
       "      <td>200.0</td>\n",
       "      <td>TURF</td>\n",
       "      <td>0</td>\n",
       "      <td>0</td>\n",
       "      <td>1</td>\n",
       "      <td>NaN</td>\n",
       "      <td>NaN</td>\n",
       "      <td>NaN</td>\n",
       "      <td>NaN</td>\n",
       "      <td>NaN</td>\n",
       "      <td>19</td>\n",
       "      <td>NaN</td>\n",
       "      <td>NaN</td>\n",
       "      <td>NaN</td>\n",
       "      <td>NaN</td>\n",
       "      <td>NaN</td>\n",
       "    </tr>\n",
       "    <tr>\n",
       "      <th>3</th>\n",
       "      <td>270932</td>\n",
       "      <td>6526</td>\n",
       "      <td>00AR</td>\n",
       "      <td>40.0</td>\n",
       "      <td>40.0</td>\n",
       "      <td>GRASS</td>\n",
       "      <td>0</td>\n",
       "      <td>0</td>\n",
       "      <td>H1</td>\n",
       "      <td>NaN</td>\n",
       "      <td>NaN</td>\n",
       "      <td>NaN</td>\n",
       "      <td>NaN</td>\n",
       "      <td>NaN</td>\n",
       "      <td>H1</td>\n",
       "      <td>NaN</td>\n",
       "      <td>NaN</td>\n",
       "      <td>NaN</td>\n",
       "      <td>NaN</td>\n",
       "      <td>NaN</td>\n",
       "    </tr>\n",
       "    <tr>\n",
       "      <th>4</th>\n",
       "      <td>322128</td>\n",
       "      <td>322127</td>\n",
       "      <td>00AS</td>\n",
       "      <td>1450.0</td>\n",
       "      <td>60.0</td>\n",
       "      <td>Turf</td>\n",
       "      <td>0</td>\n",
       "      <td>0</td>\n",
       "      <td>1</td>\n",
       "      <td>NaN</td>\n",
       "      <td>NaN</td>\n",
       "      <td>NaN</td>\n",
       "      <td>NaN</td>\n",
       "      <td>NaN</td>\n",
       "      <td>19</td>\n",
       "      <td>NaN</td>\n",
       "      <td>NaN</td>\n",
       "      <td>NaN</td>\n",
       "      <td>NaN</td>\n",
       "      <td>NaN</td>\n",
       "    </tr>\n",
       "  </tbody>\n",
       "</table>\n",
       "</div>"
      ],
      "text/plain": [
       "       id  airport_ref airport_ident  length_ft  width_ft surface  lighted  \\\n",
       "0  269408         6523           00A       80.0      80.0  ASPH-G        1   \n",
       "1  255155         6524          00AK     2500.0      70.0    GRVL        0   \n",
       "2  254165         6525          00AL     2300.0     200.0    TURF        0   \n",
       "3  270932         6526          00AR       40.0      40.0   GRASS        0   \n",
       "4  322128       322127          00AS     1450.0      60.0    Turf        0   \n",
       "\n",
       "   closed le_ident  le_latitude_deg  le_longitude_deg  le_elevation_ft  \\\n",
       "0       0       H1              NaN               NaN              NaN   \n",
       "1       0        N              NaN               NaN              NaN   \n",
       "2       0        1              NaN               NaN              NaN   \n",
       "3       0       H1              NaN               NaN              NaN   \n",
       "4       0        1              NaN               NaN              NaN   \n",
       "\n",
       "   le_heading_degT  le_displaced_threshold_ft he_ident  he_latitude_deg  \\\n",
       "0              NaN                        NaN      NaN              NaN   \n",
       "1              NaN                        NaN        S              NaN   \n",
       "2              NaN                        NaN       19              NaN   \n",
       "3              NaN                        NaN       H1              NaN   \n",
       "4              NaN                        NaN       19              NaN   \n",
       "\n",
       "   he_longitude_deg  he_elevation_ft  he_heading_degT  \\\n",
       "0               NaN              NaN              NaN   \n",
       "1               NaN              NaN              NaN   \n",
       "2               NaN              NaN              NaN   \n",
       "3               NaN              NaN              NaN   \n",
       "4               NaN              NaN              NaN   \n",
       "\n",
       "   he_displaced_threshold_ft  \n",
       "0                        NaN  \n",
       "1                        NaN  \n",
       "2                        NaN  \n",
       "3                        NaN  \n",
       "4                        NaN  "
      ]
     },
     "execution_count": 16,
     "metadata": {},
     "output_type": "execute_result"
    }
   ],
   "source": [
    "runways.head()"
   ]
  },
  {
   "cell_type": "code",
   "execution_count": 17,
   "id": "feecef8e",
   "metadata": {},
   "outputs": [
    {
     "data": {
      "text/html": [
       "<div>\n",
       "<style scoped>\n",
       "    .dataframe tbody tr th:only-of-type {\n",
       "        vertical-align: middle;\n",
       "    }\n",
       "\n",
       "    .dataframe tbody tr th {\n",
       "        vertical-align: top;\n",
       "    }\n",
       "\n",
       "    .dataframe thead th {\n",
       "        text-align: right;\n",
       "    }\n",
       "</style>\n",
       "<table border=\"1\" class=\"dataframe\">\n",
       "  <thead>\n",
       "    <tr style=\"text-align: right;\">\n",
       "      <th></th>\n",
       "      <th>id_x</th>\n",
       "      <th>ident</th>\n",
       "      <th>type</th>\n",
       "      <th>name</th>\n",
       "      <th>latitude_deg</th>\n",
       "      <th>longitude_deg</th>\n",
       "      <th>elevation_ft</th>\n",
       "      <th>continent</th>\n",
       "      <th>iso_country</th>\n",
       "      <th>iso_region</th>\n",
       "      <th>...</th>\n",
       "      <th>le_longitude_deg</th>\n",
       "      <th>le_elevation_ft</th>\n",
       "      <th>le_heading_degT</th>\n",
       "      <th>le_displaced_threshold_ft</th>\n",
       "      <th>he_ident</th>\n",
       "      <th>he_latitude_deg</th>\n",
       "      <th>he_longitude_deg</th>\n",
       "      <th>he_elevation_ft</th>\n",
       "      <th>he_heading_degT</th>\n",
       "      <th>he_displaced_threshold_ft</th>\n",
       "    </tr>\n",
       "  </thead>\n",
       "  <tbody>\n",
       "    <tr>\n",
       "      <th>0</th>\n",
       "      <td>6523</td>\n",
       "      <td>00A</td>\n",
       "      <td>heliport</td>\n",
       "      <td>Total Rf Heliport</td>\n",
       "      <td>40.070801</td>\n",
       "      <td>-74.933601</td>\n",
       "      <td>11.0</td>\n",
       "      <td>NaN</td>\n",
       "      <td>US</td>\n",
       "      <td>US-PA</td>\n",
       "      <td>...</td>\n",
       "      <td>NaN</td>\n",
       "      <td>NaN</td>\n",
       "      <td>NaN</td>\n",
       "      <td>NaN</td>\n",
       "      <td>NaN</td>\n",
       "      <td>NaN</td>\n",
       "      <td>NaN</td>\n",
       "      <td>NaN</td>\n",
       "      <td>NaN</td>\n",
       "      <td>NaN</td>\n",
       "    </tr>\n",
       "    <tr>\n",
       "      <th>1</th>\n",
       "      <td>323361</td>\n",
       "      <td>00AA</td>\n",
       "      <td>small_airport</td>\n",
       "      <td>Aero B Ranch Airport</td>\n",
       "      <td>38.704022</td>\n",
       "      <td>-101.473911</td>\n",
       "      <td>3435.0</td>\n",
       "      <td>NaN</td>\n",
       "      <td>US</td>\n",
       "      <td>US-KS</td>\n",
       "      <td>...</td>\n",
       "      <td>NaN</td>\n",
       "      <td>NaN</td>\n",
       "      <td>NaN</td>\n",
       "      <td>NaN</td>\n",
       "      <td>NaN</td>\n",
       "      <td>NaN</td>\n",
       "      <td>NaN</td>\n",
       "      <td>NaN</td>\n",
       "      <td>NaN</td>\n",
       "      <td>NaN</td>\n",
       "    </tr>\n",
       "  </tbody>\n",
       "</table>\n",
       "<p>2 rows × 38 columns</p>\n",
       "</div>"
      ],
      "text/plain": [
       "     id_x ident           type                  name  latitude_deg  \\\n",
       "0    6523   00A       heliport     Total Rf Heliport     40.070801   \n",
       "1  323361  00AA  small_airport  Aero B Ranch Airport     38.704022   \n",
       "\n",
       "   longitude_deg  elevation_ft continent iso_country iso_region  ...  \\\n",
       "0     -74.933601          11.0       NaN          US      US-PA  ...   \n",
       "1    -101.473911        3435.0       NaN          US      US-KS  ...   \n",
       "\n",
       "  le_longitude_deg le_elevation_ft le_heading_degT le_displaced_threshold_ft  \\\n",
       "0              NaN             NaN             NaN                       NaN   \n",
       "1              NaN             NaN             NaN                       NaN   \n",
       "\n",
       "  he_ident he_latitude_deg he_longitude_deg he_elevation_ft  he_heading_degT  \\\n",
       "0      NaN             NaN              NaN             NaN              NaN   \n",
       "1      NaN             NaN              NaN             NaN              NaN   \n",
       "\n",
       "   he_displaced_threshold_ft  \n",
       "0                        NaN  \n",
       "1                        NaN  \n",
       "\n",
       "[2 rows x 38 columns]"
      ]
     },
     "execution_count": 17,
     "metadata": {},
     "output_type": "execute_result"
    }
   ],
   "source": [
    "airport_run = pd.merge(airports, runways, left_on = 'ident', right_on = 'airport_ident', how = \"left\")\n",
    "airport_run.head(2)"
   ]
  },
  {
   "cell_type": "code",
   "execution_count": 18,
   "id": "f3abc5b8",
   "metadata": {},
   "outputs": [
    {
     "data": {
      "text/html": [
       "<div>\n",
       "<style scoped>\n",
       "    .dataframe tbody tr th:only-of-type {\n",
       "        vertical-align: middle;\n",
       "    }\n",
       "\n",
       "    .dataframe tbody tr th {\n",
       "        vertical-align: top;\n",
       "    }\n",
       "\n",
       "    .dataframe thead th {\n",
       "        text-align: right;\n",
       "    }\n",
       "</style>\n",
       "<table border=\"1\" class=\"dataframe\">\n",
       "  <thead>\n",
       "    <tr style=\"text-align: right;\">\n",
       "      <th></th>\n",
       "      <th>airport_ident</th>\n",
       "      <th>id_y</th>\n",
       "    </tr>\n",
       "  </thead>\n",
       "  <tbody>\n",
       "    <tr>\n",
       "      <th>0</th>\n",
       "      <td>KORD</td>\n",
       "      <td>11</td>\n",
       "    </tr>\n",
       "    <tr>\n",
       "      <th>1</th>\n",
       "      <td>KNHU</td>\n",
       "      <td>10</td>\n",
       "    </tr>\n",
       "  </tbody>\n",
       "</table>\n",
       "</div>"
      ],
      "text/plain": [
       "  airport_ident  id_y\n",
       "0          KORD    11\n",
       "1          KNHU    10"
      ]
     },
     "execution_count": 18,
     "metadata": {},
     "output_type": "execute_result"
    }
   ],
   "source": [
    "count_runway = airport_run.groupby('airport_ident')[['id_y']].count().sort_values(by = 'id_y', ascending = False).reset_index()\n",
    "count_runway.head(2)"
   ]
  },
  {
   "cell_type": "code",
   "execution_count": 19,
   "id": "986c6f79",
   "metadata": {},
   "outputs": [
    {
     "data": {
      "text/html": [
       "<div>\n",
       "<style scoped>\n",
       "    .dataframe tbody tr th:only-of-type {\n",
       "        vertical-align: middle;\n",
       "    }\n",
       "\n",
       "    .dataframe tbody tr th {\n",
       "        vertical-align: top;\n",
       "    }\n",
       "\n",
       "    .dataframe thead th {\n",
       "        text-align: right;\n",
       "    }\n",
       "</style>\n",
       "<table border=\"1\" class=\"dataframe\">\n",
       "  <thead>\n",
       "    <tr style=\"text-align: right;\">\n",
       "      <th></th>\n",
       "      <th>iata_code</th>\n",
       "      <th>type</th>\n",
       "      <th>elevation_ft</th>\n",
       "      <th>runway_count</th>\n",
       "    </tr>\n",
       "  </thead>\n",
       "  <tbody>\n",
       "    <tr>\n",
       "      <th>0</th>\n",
       "      <td>NaN</td>\n",
       "      <td>heliport</td>\n",
       "      <td>11.0</td>\n",
       "      <td>1.0</td>\n",
       "    </tr>\n",
       "    <tr>\n",
       "      <th>1</th>\n",
       "      <td>NaN</td>\n",
       "      <td>small_airport</td>\n",
       "      <td>3435.0</td>\n",
       "      <td>NaN</td>\n",
       "    </tr>\n",
       "  </tbody>\n",
       "</table>\n",
       "</div>"
      ],
      "text/plain": [
       "  iata_code           type  elevation_ft  runway_count\n",
       "0       NaN       heliport          11.0           1.0\n",
       "1       NaN  small_airport        3435.0           NaN"
      ]
     },
     "execution_count": 19,
     "metadata": {},
     "output_type": "execute_result"
    }
   ],
   "source": [
    "air_run = pd.merge(airports, count_runway, how = 'left', left_on = 'ident', right_on = 'airport_ident')[['iata_code', 'type', 'elevation_ft','id_y']]\n",
    "air_run.rename(columns = {'id_y': 'runway_count'}, inplace = True)\n",
    "air_run.head(2)"
   ]
  },
  {
   "cell_type": "code",
   "execution_count": 20,
   "id": "95a6bb72",
   "metadata": {},
   "outputs": [],
   "source": [
    "air_run.dropna().to_csv('run_2.csv', index = False)"
   ]
  },
  {
   "cell_type": "code",
   "execution_count": 21,
   "id": "a5dc665d",
   "metadata": {},
   "outputs": [
    {
     "data": {
      "text/html": [
       "<div>\n",
       "<style scoped>\n",
       "    .dataframe tbody tr th:only-of-type {\n",
       "        vertical-align: middle;\n",
       "    }\n",
       "\n",
       "    .dataframe tbody tr th {\n",
       "        vertical-align: top;\n",
       "    }\n",
       "\n",
       "    .dataframe thead th {\n",
       "        text-align: right;\n",
       "    }\n",
       "</style>\n",
       "<table border=\"1\" class=\"dataframe\">\n",
       "  <thead>\n",
       "    <tr style=\"text-align: right;\">\n",
       "      <th></th>\n",
       "      <th>id</th>\n",
       "      <th>Airline</th>\n",
       "      <th>Flight</th>\n",
       "      <th>AirportFrom</th>\n",
       "      <th>AirportTo</th>\n",
       "      <th>DayOfWeek</th>\n",
       "      <th>Time</th>\n",
       "      <th>Length</th>\n",
       "      <th>Delay</th>\n",
       "    </tr>\n",
       "  </thead>\n",
       "  <tbody>\n",
       "    <tr>\n",
       "      <th>0</th>\n",
       "      <td>1</td>\n",
       "      <td>CO</td>\n",
       "      <td>269</td>\n",
       "      <td>SFO</td>\n",
       "      <td>IAH</td>\n",
       "      <td>3</td>\n",
       "      <td>15</td>\n",
       "      <td>205</td>\n",
       "      <td>1</td>\n",
       "    </tr>\n",
       "    <tr>\n",
       "      <th>1</th>\n",
       "      <td>2</td>\n",
       "      <td>US</td>\n",
       "      <td>1558</td>\n",
       "      <td>PHX</td>\n",
       "      <td>CLT</td>\n",
       "      <td>3</td>\n",
       "      <td>15</td>\n",
       "      <td>222</td>\n",
       "      <td>1</td>\n",
       "    </tr>\n",
       "  </tbody>\n",
       "</table>\n",
       "</div>"
      ],
      "text/plain": [
       "   id Airline  Flight AirportFrom AirportTo  DayOfWeek  Time  Length  Delay\n",
       "0   1      CO     269         SFO       IAH          3    15     205      1\n",
       "1   2      US    1558         PHX       CLT          3    15     222      1"
      ]
     },
     "execution_count": 21,
     "metadata": {},
     "output_type": "execute_result"
    }
   ],
   "source": [
    "airlines.head(2)\n"
   ]
  },
  {
   "cell_type": "code",
   "execution_count": 22,
   "id": "36628d10",
   "metadata": {},
   "outputs": [
    {
     "data": {
      "text/html": [
       "<div>\n",
       "<style scoped>\n",
       "    .dataframe tbody tr th:only-of-type {\n",
       "        vertical-align: middle;\n",
       "    }\n",
       "\n",
       "    .dataframe tbody tr th {\n",
       "        vertical-align: top;\n",
       "    }\n",
       "\n",
       "    .dataframe thead th {\n",
       "        text-align: right;\n",
       "    }\n",
       "</style>\n",
       "<table border=\"1\" class=\"dataframe\">\n",
       "  <thead>\n",
       "    <tr style=\"text-align: right;\">\n",
       "      <th></th>\n",
       "      <th>id</th>\n",
       "      <th>Airline</th>\n",
       "      <th>Flight</th>\n",
       "      <th>AirportFrom</th>\n",
       "      <th>AirportTo</th>\n",
       "      <th>DayOfWeek</th>\n",
       "      <th>Time</th>\n",
       "      <th>Length</th>\n",
       "      <th>Delay</th>\n",
       "      <th>iata_code_source_airport</th>\n",
       "      <th>type_source_airport</th>\n",
       "      <th>elevation_ft_source_airport</th>\n",
       "      <th>runway_count_source_airport</th>\n",
       "    </tr>\n",
       "  </thead>\n",
       "  <tbody>\n",
       "    <tr>\n",
       "      <th>0</th>\n",
       "      <td>1</td>\n",
       "      <td>CO</td>\n",
       "      <td>269</td>\n",
       "      <td>SFO</td>\n",
       "      <td>IAH</td>\n",
       "      <td>3</td>\n",
       "      <td>15</td>\n",
       "      <td>205</td>\n",
       "      <td>1</td>\n",
       "      <td>SFO</td>\n",
       "      <td>large_airport</td>\n",
       "      <td>13.0</td>\n",
       "      <td>4.0</td>\n",
       "    </tr>\n",
       "    <tr>\n",
       "      <th>1</th>\n",
       "      <td>2</td>\n",
       "      <td>US</td>\n",
       "      <td>1558</td>\n",
       "      <td>PHX</td>\n",
       "      <td>CLT</td>\n",
       "      <td>3</td>\n",
       "      <td>15</td>\n",
       "      <td>222</td>\n",
       "      <td>1</td>\n",
       "      <td>PHX</td>\n",
       "      <td>large_airport</td>\n",
       "      <td>1135.0</td>\n",
       "      <td>3.0</td>\n",
       "    </tr>\n",
       "  </tbody>\n",
       "</table>\n",
       "</div>"
      ],
      "text/plain": [
       "   id Airline  Flight AirportFrom AirportTo  DayOfWeek  Time  Length  Delay  \\\n",
       "0   1      CO     269         SFO       IAH          3    15     205      1   \n",
       "1   2      US    1558         PHX       CLT          3    15     222      1   \n",
       "\n",
       "  iata_code_source_airport type_source_airport  elevation_ft_source_airport  \\\n",
       "0                      SFO       large_airport                         13.0   \n",
       "1                      PHX       large_airport                       1135.0   \n",
       "\n",
       "   runway_count_source_airport  \n",
       "0                          4.0  \n",
       "1                          3.0  "
      ]
     },
     "execution_count": 22,
     "metadata": {},
     "output_type": "execute_result"
    }
   ],
   "source": [
    "combined_data = pd.merge(airlines, air_run, how = 'left', left_on = 'AirportFrom', right_on = 'iata_code')\n",
    "\n",
    "new_names = list(combined_data[air_run.columns].columns + '_source_airport')\n",
    "old_names = list(combined_data[air_run.columns].columns)\n",
    "\n",
    "combined_data.rename(columns = {old:new for old,new in zip(old_names, new_names)}, inplace = True)\n",
    "combined_data.head(2)"
   ]
  },
  {
   "cell_type": "code",
   "execution_count": 23,
   "id": "99687462",
   "metadata": {},
   "outputs": [
    {
     "data": {
      "text/plain": [
       "Index(['id', 'Airline', 'Flight', 'AirportFrom', 'AirportTo', 'DayOfWeek',\n",
       "       'Time', 'Length', 'Delay', 'iata_code_source_airport',\n",
       "       'type_source_airport', 'elevation_ft_source_airport',\n",
       "       'runway_count_source_airport'],\n",
       "      dtype='object')"
      ]
     },
     "execution_count": 23,
     "metadata": {},
     "output_type": "execute_result"
    }
   ],
   "source": [
    "combined_data.columns"
   ]
  },
  {
   "cell_type": "code",
   "execution_count": 24,
   "id": "a01def70",
   "metadata": {},
   "outputs": [],
   "source": [
    "combined_data = pd.merge(combined_data, air_run, how = 'left', left_on = 'AirportTo', right_on = 'iata_code')\n"
   ]
  },
  {
   "cell_type": "code",
   "execution_count": 25,
   "id": "5446ff8c",
   "metadata": {},
   "outputs": [
    {
     "data": {
      "text/html": [
       "<div>\n",
       "<style scoped>\n",
       "    .dataframe tbody tr th:only-of-type {\n",
       "        vertical-align: middle;\n",
       "    }\n",
       "\n",
       "    .dataframe tbody tr th {\n",
       "        vertical-align: top;\n",
       "    }\n",
       "\n",
       "    .dataframe thead th {\n",
       "        text-align: right;\n",
       "    }\n",
       "</style>\n",
       "<table border=\"1\" class=\"dataframe\">\n",
       "  <thead>\n",
       "    <tr style=\"text-align: right;\">\n",
       "      <th></th>\n",
       "      <th>id</th>\n",
       "      <th>Airline</th>\n",
       "      <th>Flight</th>\n",
       "      <th>AirportFrom</th>\n",
       "      <th>AirportTo</th>\n",
       "      <th>DayOfWeek</th>\n",
       "      <th>Time</th>\n",
       "      <th>Length</th>\n",
       "      <th>Delay</th>\n",
       "      <th>iata_code_source_airport</th>\n",
       "      <th>type_source_airport</th>\n",
       "      <th>elevation_ft_source_airport</th>\n",
       "      <th>runway_count_source_airport</th>\n",
       "      <th>iata_code_dest_airport</th>\n",
       "      <th>type_dest_airport</th>\n",
       "      <th>elevation_ft_dest_airport</th>\n",
       "      <th>runway_count_dest_airport</th>\n",
       "    </tr>\n",
       "  </thead>\n",
       "  <tbody>\n",
       "    <tr>\n",
       "      <th>0</th>\n",
       "      <td>1</td>\n",
       "      <td>CO</td>\n",
       "      <td>269</td>\n",
       "      <td>SFO</td>\n",
       "      <td>IAH</td>\n",
       "      <td>3</td>\n",
       "      <td>15</td>\n",
       "      <td>205</td>\n",
       "      <td>1</td>\n",
       "      <td>SFO</td>\n",
       "      <td>large_airport</td>\n",
       "      <td>13.0</td>\n",
       "      <td>4.0</td>\n",
       "      <td>IAH</td>\n",
       "      <td>large_airport</td>\n",
       "      <td>97.0</td>\n",
       "      <td>5.0</td>\n",
       "    </tr>\n",
       "    <tr>\n",
       "      <th>1</th>\n",
       "      <td>2</td>\n",
       "      <td>US</td>\n",
       "      <td>1558</td>\n",
       "      <td>PHX</td>\n",
       "      <td>CLT</td>\n",
       "      <td>3</td>\n",
       "      <td>15</td>\n",
       "      <td>222</td>\n",
       "      <td>1</td>\n",
       "      <td>PHX</td>\n",
       "      <td>large_airport</td>\n",
       "      <td>1135.0</td>\n",
       "      <td>3.0</td>\n",
       "      <td>CLT</td>\n",
       "      <td>large_airport</td>\n",
       "      <td>748.0</td>\n",
       "      <td>4.0</td>\n",
       "    </tr>\n",
       "  </tbody>\n",
       "</table>\n",
       "</div>"
      ],
      "text/plain": [
       "   id Airline  Flight AirportFrom AirportTo  DayOfWeek  Time  Length  Delay  \\\n",
       "0   1      CO     269         SFO       IAH          3    15     205      1   \n",
       "1   2      US    1558         PHX       CLT          3    15     222      1   \n",
       "\n",
       "  iata_code_source_airport type_source_airport  elevation_ft_source_airport  \\\n",
       "0                      SFO       large_airport                         13.0   \n",
       "1                      PHX       large_airport                       1135.0   \n",
       "\n",
       "   runway_count_source_airport iata_code_dest_airport type_dest_airport  \\\n",
       "0                          4.0                    IAH     large_airport   \n",
       "1                          3.0                    CLT     large_airport   \n",
       "\n",
       "   elevation_ft_dest_airport  runway_count_dest_airport  \n",
       "0                       97.0                        5.0  \n",
       "1                      748.0                        4.0  "
      ]
     },
     "execution_count": 25,
     "metadata": {},
     "output_type": "execute_result"
    }
   ],
   "source": [
    "new_names = list(combined_data[air_run.columns].columns + '_dest_airport')\n",
    "old_names = list(combined_data[air_run.columns].columns)\n",
    "combined_data.rename(columns = {old:new for old,new in zip(old_names, new_names)}, inplace = True)\n",
    "combined_data.head(2)"
   ]
  },
  {
   "cell_type": "code",
   "execution_count": 27,
   "id": "86b74216",
   "metadata": {},
   "outputs": [],
   "source": [
    "# drop iata_code columns \n",
    "\n",
    "combined_data.drop(columns =  list(combined_data.columns[combined_data.columns.str.startswith('iata_code')]), inplace = True)# drop iata_code columns \n",
    "combined_data.drop(columns =  list(combined_data.columns[combined_data.columns.str.startswith('iata_code')]), inplace = True)"
   ]
  },
  {
   "cell_type": "markdown",
   "id": "0a14b0e5",
   "metadata": {},
   "source": [
    "## II. Different airline companies may perform differently in terms of on time arrival. The performance may depend on the experience of the airline company. Pull the information specific to different airlines from the Wikipedia page https://en.wikipedia.org/wiki/List_of_airlines_of_the_United_States. Use web scaping to fetch the information about how long the airlines has been in the business."
   ]
  },
  {
   "cell_type": "code",
   "execution_count": 28,
   "id": "38182a53",
   "metadata": {},
   "outputs": [],
   "source": [
    "website_url = requests.get('https://en.wikipedia.org/wiki/List_of_airlines_of_the_United_States').text\n",
    "soup = BeautifulSoup(website_url,'lxml')\n",
    "My_table = soup.findAll(\"table\",{\"class\":\"wikitable\"})"
   ]
  },
  {
   "cell_type": "code",
   "execution_count": 29,
   "id": "17193693",
   "metadata": {},
   "outputs": [
    {
     "data": {
      "text/plain": [
       "7"
      ]
     },
     "execution_count": 29,
     "metadata": {},
     "output_type": "execute_result"
    }
   ],
   "source": [
    "len(My_table) "
   ]
  },
  {
   "cell_type": "code",
   "execution_count": 30,
   "id": "6b5c5de5",
   "metadata": {},
   "outputs": [],
   "source": [
    "airlines_wiki_list = []\n",
    "for tab in My_table:\n",
    "    temp = pd.read_html(str(tab))\n",
    "    temp = pd.DataFrame(temp[0])\n",
    "    airlines_wiki_list.append(temp)"
   ]
  },
  {
   "cell_type": "code",
   "execution_count": 31,
   "id": "6c3c8862",
   "metadata": {},
   "outputs": [],
   "source": [
    "airlines_wiki = pd.concat(airlines_wiki_list)"
   ]
  },
  {
   "cell_type": "markdown",
   "id": "0e30dbc8",
   "metadata": {},
   "source": [
    "# III. Get all the information pulled so far in one table."
   ]
  },
  {
   "cell_type": "code",
   "execution_count": 32,
   "id": "5ea03dab",
   "metadata": {},
   "outputs": [
    {
     "data": {
      "text/html": [
       "<div>\n",
       "<style scoped>\n",
       "    .dataframe tbody tr th:only-of-type {\n",
       "        vertical-align: middle;\n",
       "    }\n",
       "\n",
       "    .dataframe tbody tr th {\n",
       "        vertical-align: top;\n",
       "    }\n",
       "\n",
       "    .dataframe thead th {\n",
       "        text-align: right;\n",
       "    }\n",
       "</style>\n",
       "<table border=\"1\" class=\"dataframe\">\n",
       "  <thead>\n",
       "    <tr style=\"text-align: right;\">\n",
       "      <th></th>\n",
       "      <th>id</th>\n",
       "      <th>Airline</th>\n",
       "      <th>Flight</th>\n",
       "      <th>AirportFrom</th>\n",
       "      <th>AirportTo</th>\n",
       "      <th>DayOfWeek</th>\n",
       "      <th>Time</th>\n",
       "      <th>Length</th>\n",
       "      <th>Delay</th>\n",
       "      <th>type_source_airport</th>\n",
       "      <th>elevation_ft_source_airport</th>\n",
       "      <th>runway_count_source_airport</th>\n",
       "      <th>type_dest_airport</th>\n",
       "      <th>elevation_ft_dest_airport</th>\n",
       "      <th>runway_count_dest_airport</th>\n",
       "    </tr>\n",
       "  </thead>\n",
       "  <tbody>\n",
       "    <tr>\n",
       "      <th>0</th>\n",
       "      <td>1</td>\n",
       "      <td>CO</td>\n",
       "      <td>269</td>\n",
       "      <td>SFO</td>\n",
       "      <td>IAH</td>\n",
       "      <td>3</td>\n",
       "      <td>15</td>\n",
       "      <td>205</td>\n",
       "      <td>1</td>\n",
       "      <td>large_airport</td>\n",
       "      <td>13.0</td>\n",
       "      <td>4.0</td>\n",
       "      <td>large_airport</td>\n",
       "      <td>97.0</td>\n",
       "      <td>5.0</td>\n",
       "    </tr>\n",
       "    <tr>\n",
       "      <th>1</th>\n",
       "      <td>2</td>\n",
       "      <td>US</td>\n",
       "      <td>1558</td>\n",
       "      <td>PHX</td>\n",
       "      <td>CLT</td>\n",
       "      <td>3</td>\n",
       "      <td>15</td>\n",
       "      <td>222</td>\n",
       "      <td>1</td>\n",
       "      <td>large_airport</td>\n",
       "      <td>1135.0</td>\n",
       "      <td>3.0</td>\n",
       "      <td>large_airport</td>\n",
       "      <td>748.0</td>\n",
       "      <td>4.0</td>\n",
       "    </tr>\n",
       "  </tbody>\n",
       "</table>\n",
       "</div>"
      ],
      "text/plain": [
       "   id Airline  Flight AirportFrom AirportTo  DayOfWeek  Time  Length  Delay  \\\n",
       "0   1      CO     269         SFO       IAH          3    15     205      1   \n",
       "1   2      US    1558         PHX       CLT          3    15     222      1   \n",
       "\n",
       "  type_source_airport  elevation_ft_source_airport  \\\n",
       "0       large_airport                         13.0   \n",
       "1       large_airport                       1135.0   \n",
       "\n",
       "   runway_count_source_airport type_dest_airport  elevation_ft_dest_airport  \\\n",
       "0                          4.0     large_airport                       97.0   \n",
       "1                          3.0     large_airport                      748.0   \n",
       "\n",
       "   runway_count_dest_airport  \n",
       "0                        5.0  \n",
       "1                        4.0  "
      ]
     },
     "execution_count": 32,
     "metadata": {},
     "output_type": "execute_result"
    }
   ],
   "source": [
    "combined_data.head(2)"
   ]
  },
  {
   "cell_type": "code",
   "execution_count": 33,
   "id": "0cf09bf8",
   "metadata": {},
   "outputs": [],
   "source": [
    "#finding the year founded of airlines\n",
    "\n",
    "airlines_founded = pd.merge(combined_data[['Airline']].drop_duplicates(),airlines_wiki[['IATA', 'Founded']].drop_duplicates(), \n",
    "         how = 'left', left_on = 'Airline', right_on = 'IATA')"
   ]
  },
  {
   "cell_type": "code",
   "execution_count": 34,
   "id": "5a4103e1",
   "metadata": {},
   "outputs": [
    {
     "data": {
      "text/html": [
       "<div>\n",
       "<style scoped>\n",
       "    .dataframe tbody tr th:only-of-type {\n",
       "        vertical-align: middle;\n",
       "    }\n",
       "\n",
       "    .dataframe tbody tr th {\n",
       "        vertical-align: top;\n",
       "    }\n",
       "\n",
       "    .dataframe thead th {\n",
       "        text-align: right;\n",
       "    }\n",
       "</style>\n",
       "<table border=\"1\" class=\"dataframe\">\n",
       "  <thead>\n",
       "    <tr style=\"text-align: right;\">\n",
       "      <th></th>\n",
       "      <th>Airline</th>\n",
       "      <th>IATA</th>\n",
       "      <th>Founded</th>\n",
       "    </tr>\n",
       "  </thead>\n",
       "  <tbody>\n",
       "    <tr>\n",
       "      <th>0</th>\n",
       "      <td>CO</td>\n",
       "      <td>NaN</td>\n",
       "      <td>NaN</td>\n",
       "    </tr>\n",
       "    <tr>\n",
       "      <th>1</th>\n",
       "      <td>US</td>\n",
       "      <td>NaN</td>\n",
       "      <td>NaN</td>\n",
       "    </tr>\n",
       "    <tr>\n",
       "      <th>2</th>\n",
       "      <td>AA</td>\n",
       "      <td>AA</td>\n",
       "      <td>1926.0</td>\n",
       "    </tr>\n",
       "    <tr>\n",
       "      <th>3</th>\n",
       "      <td>AS</td>\n",
       "      <td>AS</td>\n",
       "      <td>1932.0</td>\n",
       "    </tr>\n",
       "    <tr>\n",
       "      <th>4</th>\n",
       "      <td>DL</td>\n",
       "      <td>DL</td>\n",
       "      <td>1924.0</td>\n",
       "    </tr>\n",
       "    <tr>\n",
       "      <th>5</th>\n",
       "      <td>B6</td>\n",
       "      <td>B6</td>\n",
       "      <td>1998.0</td>\n",
       "    </tr>\n",
       "    <tr>\n",
       "      <th>6</th>\n",
       "      <td>HA</td>\n",
       "      <td>HA</td>\n",
       "      <td>1929.0</td>\n",
       "    </tr>\n",
       "    <tr>\n",
       "      <th>7</th>\n",
       "      <td>OO</td>\n",
       "      <td>OO</td>\n",
       "      <td>1972.0</td>\n",
       "    </tr>\n",
       "    <tr>\n",
       "      <th>8</th>\n",
       "      <td>9E</td>\n",
       "      <td>9E</td>\n",
       "      <td>1985.0</td>\n",
       "    </tr>\n",
       "    <tr>\n",
       "      <th>9</th>\n",
       "      <td>OH</td>\n",
       "      <td>OH</td>\n",
       "      <td>1979.0</td>\n",
       "    </tr>\n",
       "    <tr>\n",
       "      <th>10</th>\n",
       "      <td>EV</td>\n",
       "      <td>NaN</td>\n",
       "      <td>NaN</td>\n",
       "    </tr>\n",
       "    <tr>\n",
       "      <th>11</th>\n",
       "      <td>XE</td>\n",
       "      <td>XE</td>\n",
       "      <td>2016.0</td>\n",
       "    </tr>\n",
       "    <tr>\n",
       "      <th>12</th>\n",
       "      <td>YV</td>\n",
       "      <td>YV</td>\n",
       "      <td>1980.0</td>\n",
       "    </tr>\n",
       "    <tr>\n",
       "      <th>13</th>\n",
       "      <td>UA</td>\n",
       "      <td>UA</td>\n",
       "      <td>1926.0</td>\n",
       "    </tr>\n",
       "    <tr>\n",
       "      <th>14</th>\n",
       "      <td>MQ</td>\n",
       "      <td>MQ</td>\n",
       "      <td>1984.0</td>\n",
       "    </tr>\n",
       "    <tr>\n",
       "      <th>15</th>\n",
       "      <td>F9</td>\n",
       "      <td>F9</td>\n",
       "      <td>1994.0</td>\n",
       "    </tr>\n",
       "    <tr>\n",
       "      <th>16</th>\n",
       "      <td>WN</td>\n",
       "      <td>WN</td>\n",
       "      <td>1967.0</td>\n",
       "    </tr>\n",
       "  </tbody>\n",
       "</table>\n",
       "</div>"
      ],
      "text/plain": [
       "   Airline IATA  Founded\n",
       "0       CO  NaN      NaN\n",
       "1       US  NaN      NaN\n",
       "2       AA   AA   1926.0\n",
       "3       AS   AS   1932.0\n",
       "4       DL   DL   1924.0\n",
       "5       B6   B6   1998.0\n",
       "6       HA   HA   1929.0\n",
       "7       OO   OO   1972.0\n",
       "8       9E   9E   1985.0\n",
       "9       OH   OH   1979.0\n",
       "10      EV  NaN      NaN\n",
       "11      XE   XE   2016.0\n",
       "12      YV   YV   1980.0\n",
       "13      UA   UA   1926.0\n",
       "14      MQ   MQ   1984.0\n",
       "15      F9   F9   1994.0\n",
       "16      WN   WN   1967.0"
      ]
     },
     "execution_count": 34,
     "metadata": {},
     "output_type": "execute_result"
    }
   ],
   "source": [
    "airlines_founded"
   ]
  },
  {
   "cell_type": "code",
   "execution_count": 35,
   "id": "ccb31f91",
   "metadata": {},
   "outputs": [],
   "source": [
    "# will fill in missing values later\n",
    "\n"
   ]
  },
  {
   "cell_type": "markdown",
   "id": "1318ee4e",
   "metadata": {},
   "source": [
    "IV. Look into Wikipedia page: https://en.wikipedia.org/wiki/List_of_the_busiest_airports_in_the_United_States Total passenger traffic may also contribute to the delay of flights. The term hub is used to identify busy commercial airports. Large hubs are the airports that each account for at least one percent of total U.S. passenger enplanements. Medium hubs are defined as airports that each account for between 0.25 percent and 1 percent of the total passenger enplanements.\n",
    "\n",
    "Pull passenger traffic data using web scraping and collate in a table."
   ]
  },
  {
   "cell_type": "code",
   "execution_count": 36,
   "id": "cc9a2b06",
   "metadata": {},
   "outputs": [],
   "source": [
    "website_url = requests.get('https://en.wikipedia.org/wiki/List_of_the_busiest_airports_in_the_United_States').text\n",
    "soup = BeautifulSoup(website_url,'lxml')\n",
    "My_table = soup.findAll(\"table\",{\"class\":\"wikitable\"})"
   ]
  },
  {
   "cell_type": "code",
   "execution_count": 37,
   "id": "ab65bfaa",
   "metadata": {},
   "outputs": [],
   "source": [
    "hub_data = {}\n",
    "i = 0\n",
    "for tab in My_table:\n",
    "    hub_data[i] = pd.read_html(str(tab))\n",
    "    hub_data[i] = pd.DataFrame(hub_data[i][0])\n",
    "    i +=1"
   ]
  },
  {
   "cell_type": "markdown",
   "id": "e53ed549",
   "metadata": {},
   "source": [
    "# We need only hub data hence first two table"
   ]
  },
  {
   "cell_type": "code",
   "execution_count": 39,
   "id": "4e43ebc4",
   "metadata": {},
   "outputs": [],
   "source": [
    "large_hub = hub_data[0].copy()\n",
    "med_hub = hub_data[1].copy()"
   ]
  },
  {
   "cell_type": "code",
   "execution_count": 40,
   "id": "24febe4f",
   "metadata": {},
   "outputs": [],
   "source": [
    "large_hub.insert(loc =1, column= 'Hub_type', value = 'large')\n",
    "med_hub.insert(loc =1, column= 'Hub_type', value = 'medium')"
   ]
  },
  {
   "cell_type": "code",
   "execution_count": 41,
   "id": "6fe6e92e",
   "metadata": {},
   "outputs": [],
   "source": [
    "# before combinig lets work with column names \n",
    "\n",
    "# remove any special characters or things in bracket"
   ]
  },
  {
   "cell_type": "code",
   "execution_count": 42,
   "id": "6ca49f9a",
   "metadata": {},
   "outputs": [
    {
     "data": {
      "text/plain": [
       "Index(['rank', 'hub_type', 'airports', 'iatacode', 'major_cities_served',\n",
       "       'state', 'data_2021', 'data_2020', 'data_2019', 'data_2018',\n",
       "       'data_2017', 'data_2016', 'data_2015', 'data_2014', 'data_2013',\n",
       "       'data_2012'],\n",
       "      dtype='object')"
      ]
     },
     "execution_count": 42,
     "metadata": {},
     "output_type": "execute_result"
    }
   ],
   "source": [
    "# remove refrences from brackets \n",
    "column_temp = large_hub.columns.str.split('[([]').str[0].str.strip().str.lower().str.replace(' ','_').values\n",
    "column_temp[list(map( lambda x : x.isnumeric(), column_temp))]  = 'data_' + column_temp[list(map( lambda x : x.isnumeric(), column_temp))] \n",
    "large_hub.columns = column_temp\n",
    "large_hub.columns"
   ]
  },
  {
   "cell_type": "code",
   "execution_count": 43,
   "id": "3734134d",
   "metadata": {},
   "outputs": [
    {
     "data": {
      "text/plain": [
       "Index(['rank', 'hub_type', 'airports', 'iatacode', 'city_served', 'state',\n",
       "       'data_2021', 'data_2020', 'data_2019', 'data_2018', 'data_2017',\n",
       "       'data_2016', 'data_2015', 'data_2014', 'data_2013', 'data_2012'],\n",
       "      dtype='object')"
      ]
     },
     "execution_count": 43,
     "metadata": {},
     "output_type": "execute_result"
    }
   ],
   "source": [
    "# remove refrences from brackets \n",
    "column_temp = med_hub.columns.str.split('[([]').str[0].str.strip().str.lower().str.replace(' ','_').values\n",
    "column_temp[list(map( lambda x : x.isnumeric(), column_temp))]  = 'data_' + column_temp[list(map( lambda x : x.isnumeric(), column_temp))] \n",
    "med_hub.columns = column_temp\n",
    "med_hub.columns"
   ]
  },
  {
   "cell_type": "code",
   "execution_count": 44,
   "id": "f899f8e7",
   "metadata": {},
   "outputs": [],
   "source": [
    "large_hub.rename(columns = {'major_cities_served':'city_served'}, inplace = True)"
   ]
  },
  {
   "cell_type": "code",
   "execution_count": 45,
   "id": "53089407",
   "metadata": {},
   "outputs": [],
   "source": [
    "final_hub_data = pd.concat([large_hub, med_hub])"
   ]
  },
  {
   "cell_type": "code",
   "execution_count": 46,
   "id": "2e7259d3",
   "metadata": {},
   "outputs": [
    {
     "data": {
      "text/html": [
       "<div>\n",
       "<style scoped>\n",
       "    .dataframe tbody tr th:only-of-type {\n",
       "        vertical-align: middle;\n",
       "    }\n",
       "\n",
       "    .dataframe tbody tr th {\n",
       "        vertical-align: top;\n",
       "    }\n",
       "\n",
       "    .dataframe thead th {\n",
       "        text-align: right;\n",
       "    }\n",
       "</style>\n",
       "<table border=\"1\" class=\"dataframe\">\n",
       "  <thead>\n",
       "    <tr style=\"text-align: right;\">\n",
       "      <th></th>\n",
       "      <th>rank</th>\n",
       "      <th>hub_type</th>\n",
       "      <th>airports</th>\n",
       "      <th>iatacode</th>\n",
       "      <th>city_served</th>\n",
       "      <th>state</th>\n",
       "      <th>data_2021</th>\n",
       "      <th>data_2020</th>\n",
       "      <th>data_2019</th>\n",
       "      <th>data_2018</th>\n",
       "      <th>data_2017</th>\n",
       "      <th>data_2016</th>\n",
       "      <th>data_2015</th>\n",
       "      <th>data_2014</th>\n",
       "      <th>data_2013</th>\n",
       "      <th>data_2012</th>\n",
       "    </tr>\n",
       "  </thead>\n",
       "  <tbody>\n",
       "    <tr>\n",
       "      <th>0</th>\n",
       "      <td>1</td>\n",
       "      <td>large</td>\n",
       "      <td>Hartsfield–Jackson Atlanta International Airport</td>\n",
       "      <td>ATL</td>\n",
       "      <td>Atlanta</td>\n",
       "      <td>GA</td>\n",
       "      <td>36676010</td>\n",
       "      <td>20559866</td>\n",
       "      <td>53505795</td>\n",
       "      <td>51865797</td>\n",
       "      <td>50251964</td>\n",
       "      <td>50501858</td>\n",
       "      <td>49340732</td>\n",
       "      <td>46604273</td>\n",
       "      <td>45308407</td>\n",
       "      <td>45798928</td>\n",
       "    </tr>\n",
       "    <tr>\n",
       "      <th>1</th>\n",
       "      <td>2</td>\n",
       "      <td>large</td>\n",
       "      <td>Dallas/Fort Worth International Airport</td>\n",
       "      <td>DFW</td>\n",
       "      <td>Dallas &amp; Ft. Worth</td>\n",
       "      <td>TX</td>\n",
       "      <td>30005266</td>\n",
       "      <td>18593421</td>\n",
       "      <td>35778573</td>\n",
       "      <td>32821799</td>\n",
       "      <td>31816933</td>\n",
       "      <td>31283579</td>\n",
       "      <td>31589839</td>\n",
       "      <td>30804567</td>\n",
       "      <td>29038128</td>\n",
       "      <td>28022904</td>\n",
       "    </tr>\n",
       "  </tbody>\n",
       "</table>\n",
       "</div>"
      ],
      "text/plain": [
       "   rank hub_type                                          airports iatacode  \\\n",
       "0     1    large  Hartsfield–Jackson Atlanta International Airport      ATL   \n",
       "1     2    large           Dallas/Fort Worth International Airport      DFW   \n",
       "\n",
       "          city_served state  data_2021  data_2020  data_2019  data_2018  \\\n",
       "0             Atlanta    GA   36676010   20559866   53505795   51865797   \n",
       "1  Dallas & Ft. Worth    TX   30005266   18593421   35778573   32821799   \n",
       "\n",
       "   data_2017  data_2016  data_2015  data_2014  data_2013  data_2012  \n",
       "0   50251964   50501858   49340732   46604273   45308407   45798928  \n",
       "1   31816933   31283579   31589839   30804567   29038128   28022904  "
      ]
     },
     "execution_count": 46,
     "metadata": {},
     "output_type": "execute_result"
    }
   ],
   "source": [
    "final_hub_data.head(2)"
   ]
  },
  {
   "cell_type": "code",
   "execution_count": 47,
   "id": "7b78a66e",
   "metadata": {},
   "outputs": [
    {
     "data": {
      "text/plain": [
       "0"
      ]
     },
     "execution_count": 47,
     "metadata": {},
     "output_type": "execute_result"
    }
   ],
   "source": [
    "final_hub_data.data_2019.isnull().sum()"
   ]
  },
  {
   "cell_type": "code",
   "execution_count": 48,
   "id": "53938fd5",
   "metadata": {},
   "outputs": [],
   "source": [
    "combined_data_pax = pd.merge(combined_data, final_hub_data[['iatacode', 'data_2019']],how = 'left' , left_on = 'AirportFrom', right_on = 'iatacode')"
   ]
  },
  {
   "cell_type": "code",
   "execution_count": 49,
   "id": "6b00d633",
   "metadata": {},
   "outputs": [],
   "source": [
    "combined_data_pax.rename(columns = {'iatacode': 'iatacode_source' ,'data_2019': 'data_2019_source_airport'}, inplace = True)"
   ]
  },
  {
   "cell_type": "code",
   "execution_count": 50,
   "id": "d6526a35",
   "metadata": {},
   "outputs": [],
   "source": [
    "combined_data_pax = pd.merge(combined_data_pax, final_hub_data[['iatacode', 'data_2019']],how = 'left' , left_on = 'AirportTo', right_on = 'iatacode')"
   ]
  },
  {
   "cell_type": "code",
   "execution_count": 51,
   "id": "e14fa3ff",
   "metadata": {},
   "outputs": [],
   "source": [
    "combined_data_pax.rename(columns = {'iatacode': 'iatacode_dest' ,'data_2019': 'data_2019_dest_airport'}, inplace = True)"
   ]
  },
  {
   "cell_type": "code",
   "execution_count": 52,
   "id": "33d95098",
   "metadata": {},
   "outputs": [],
   "source": [
    "combined_data_pax = combined_data_pax.loc[:,~combined_data_pax.columns.str.startswith('iatacode')].copy()"
   ]
  },
  {
   "cell_type": "code",
   "execution_count": 53,
   "id": "7031a0f6",
   "metadata": {},
   "outputs": [
    {
     "data": {
      "text/html": [
       "<div>\n",
       "<style scoped>\n",
       "    .dataframe tbody tr th:only-of-type {\n",
       "        vertical-align: middle;\n",
       "    }\n",
       "\n",
       "    .dataframe tbody tr th {\n",
       "        vertical-align: top;\n",
       "    }\n",
       "\n",
       "    .dataframe thead th {\n",
       "        text-align: right;\n",
       "    }\n",
       "</style>\n",
       "<table border=\"1\" class=\"dataframe\">\n",
       "  <thead>\n",
       "    <tr style=\"text-align: right;\">\n",
       "      <th></th>\n",
       "      <th>id</th>\n",
       "      <th>Airline</th>\n",
       "      <th>Flight</th>\n",
       "      <th>AirportFrom</th>\n",
       "      <th>AirportTo</th>\n",
       "      <th>DayOfWeek</th>\n",
       "      <th>Time</th>\n",
       "      <th>Length</th>\n",
       "      <th>Delay</th>\n",
       "      <th>type_source_airport</th>\n",
       "      <th>elevation_ft_source_airport</th>\n",
       "      <th>runway_count_source_airport</th>\n",
       "      <th>type_dest_airport</th>\n",
       "      <th>elevation_ft_dest_airport</th>\n",
       "      <th>runway_count_dest_airport</th>\n",
       "      <th>data_2019_source_airport</th>\n",
       "      <th>data_2019_dest_airport</th>\n",
       "    </tr>\n",
       "  </thead>\n",
       "  <tbody>\n",
       "    <tr>\n",
       "      <th>0</th>\n",
       "      <td>1</td>\n",
       "      <td>CO</td>\n",
       "      <td>269</td>\n",
       "      <td>SFO</td>\n",
       "      <td>IAH</td>\n",
       "      <td>3</td>\n",
       "      <td>15</td>\n",
       "      <td>205</td>\n",
       "      <td>1</td>\n",
       "      <td>large_airport</td>\n",
       "      <td>13.0</td>\n",
       "      <td>4.0</td>\n",
       "      <td>large_airport</td>\n",
       "      <td>97.0</td>\n",
       "      <td>5.0</td>\n",
       "      <td>27779230.0</td>\n",
       "      <td>21905309.0</td>\n",
       "    </tr>\n",
       "    <tr>\n",
       "      <th>1</th>\n",
       "      <td>2</td>\n",
       "      <td>US</td>\n",
       "      <td>1558</td>\n",
       "      <td>PHX</td>\n",
       "      <td>CLT</td>\n",
       "      <td>3</td>\n",
       "      <td>15</td>\n",
       "      <td>222</td>\n",
       "      <td>1</td>\n",
       "      <td>large_airport</td>\n",
       "      <td>1135.0</td>\n",
       "      <td>3.0</td>\n",
       "      <td>large_airport</td>\n",
       "      <td>748.0</td>\n",
       "      <td>4.0</td>\n",
       "      <td>22433552.0</td>\n",
       "      <td>24199688.0</td>\n",
       "    </tr>\n",
       "    <tr>\n",
       "      <th>2</th>\n",
       "      <td>3</td>\n",
       "      <td>AA</td>\n",
       "      <td>2400</td>\n",
       "      <td>LAX</td>\n",
       "      <td>DFW</td>\n",
       "      <td>3</td>\n",
       "      <td>20</td>\n",
       "      <td>165</td>\n",
       "      <td>1</td>\n",
       "      <td>large_airport</td>\n",
       "      <td>125.0</td>\n",
       "      <td>4.0</td>\n",
       "      <td>large_airport</td>\n",
       "      <td>607.0</td>\n",
       "      <td>7.0</td>\n",
       "      <td>42939104.0</td>\n",
       "      <td>35778573.0</td>\n",
       "    </tr>\n",
       "    <tr>\n",
       "      <th>3</th>\n",
       "      <td>4</td>\n",
       "      <td>AA</td>\n",
       "      <td>2466</td>\n",
       "      <td>SFO</td>\n",
       "      <td>DFW</td>\n",
       "      <td>3</td>\n",
       "      <td>20</td>\n",
       "      <td>195</td>\n",
       "      <td>1</td>\n",
       "      <td>large_airport</td>\n",
       "      <td>13.0</td>\n",
       "      <td>4.0</td>\n",
       "      <td>large_airport</td>\n",
       "      <td>607.0</td>\n",
       "      <td>7.0</td>\n",
       "      <td>27779230.0</td>\n",
       "      <td>35778573.0</td>\n",
       "    </tr>\n",
       "    <tr>\n",
       "      <th>4</th>\n",
       "      <td>5</td>\n",
       "      <td>AS</td>\n",
       "      <td>108</td>\n",
       "      <td>ANC</td>\n",
       "      <td>SEA</td>\n",
       "      <td>3</td>\n",
       "      <td>30</td>\n",
       "      <td>202</td>\n",
       "      <td>0</td>\n",
       "      <td>large_airport</td>\n",
       "      <td>152.0</td>\n",
       "      <td>3.0</td>\n",
       "      <td>large_airport</td>\n",
       "      <td>433.0</td>\n",
       "      <td>4.0</td>\n",
       "      <td>2713843.0</td>\n",
       "      <td>25001762.0</td>\n",
       "    </tr>\n",
       "    <tr>\n",
       "      <th>...</th>\n",
       "      <td>...</td>\n",
       "      <td>...</td>\n",
       "      <td>...</td>\n",
       "      <td>...</td>\n",
       "      <td>...</td>\n",
       "      <td>...</td>\n",
       "      <td>...</td>\n",
       "      <td>...</td>\n",
       "      <td>...</td>\n",
       "      <td>...</td>\n",
       "      <td>...</td>\n",
       "      <td>...</td>\n",
       "      <td>...</td>\n",
       "      <td>...</td>\n",
       "      <td>...</td>\n",
       "      <td>...</td>\n",
       "      <td>...</td>\n",
       "    </tr>\n",
       "    <tr>\n",
       "      <th>518551</th>\n",
       "      <td>539377</td>\n",
       "      <td>B6</td>\n",
       "      <td>717</td>\n",
       "      <td>JFK</td>\n",
       "      <td>SJU</td>\n",
       "      <td>5</td>\n",
       "      <td>1439</td>\n",
       "      <td>220</td>\n",
       "      <td>1</td>\n",
       "      <td>large_airport</td>\n",
       "      <td>13.0</td>\n",
       "      <td>4.0</td>\n",
       "      <td>large_airport</td>\n",
       "      <td>9.0</td>\n",
       "      <td>2.0</td>\n",
       "      <td>31036655.0</td>\n",
       "      <td>4590117.0</td>\n",
       "    </tr>\n",
       "    <tr>\n",
       "      <th>518552</th>\n",
       "      <td>539378</td>\n",
       "      <td>B6</td>\n",
       "      <td>739</td>\n",
       "      <td>JFK</td>\n",
       "      <td>PSE</td>\n",
       "      <td>5</td>\n",
       "      <td>1439</td>\n",
       "      <td>223</td>\n",
       "      <td>1</td>\n",
       "      <td>large_airport</td>\n",
       "      <td>13.0</td>\n",
       "      <td>4.0</td>\n",
       "      <td>medium_airport</td>\n",
       "      <td>29.0</td>\n",
       "      <td>1.0</td>\n",
       "      <td>31036655.0</td>\n",
       "      <td>NaN</td>\n",
       "    </tr>\n",
       "    <tr>\n",
       "      <th>518553</th>\n",
       "      <td>539379</td>\n",
       "      <td>CO</td>\n",
       "      <td>178</td>\n",
       "      <td>OGG</td>\n",
       "      <td>SNA</td>\n",
       "      <td>5</td>\n",
       "      <td>1439</td>\n",
       "      <td>326</td>\n",
       "      <td>0</td>\n",
       "      <td>medium_airport</td>\n",
       "      <td>54.0</td>\n",
       "      <td>2.0</td>\n",
       "      <td>large_airport</td>\n",
       "      <td>56.0</td>\n",
       "      <td>2.0</td>\n",
       "      <td>3791807.0</td>\n",
       "      <td>5153276.0</td>\n",
       "    </tr>\n",
       "    <tr>\n",
       "      <th>518554</th>\n",
       "      <td>539382</td>\n",
       "      <td>UA</td>\n",
       "      <td>78</td>\n",
       "      <td>HNL</td>\n",
       "      <td>SFO</td>\n",
       "      <td>5</td>\n",
       "      <td>1439</td>\n",
       "      <td>313</td>\n",
       "      <td>1</td>\n",
       "      <td>large_airport</td>\n",
       "      <td>13.0</td>\n",
       "      <td>6.0</td>\n",
       "      <td>large_airport</td>\n",
       "      <td>13.0</td>\n",
       "      <td>4.0</td>\n",
       "      <td>9988678.0</td>\n",
       "      <td>27779230.0</td>\n",
       "    </tr>\n",
       "    <tr>\n",
       "      <th>518555</th>\n",
       "      <td>539383</td>\n",
       "      <td>US</td>\n",
       "      <td>1442</td>\n",
       "      <td>LAX</td>\n",
       "      <td>PHL</td>\n",
       "      <td>5</td>\n",
       "      <td>1439</td>\n",
       "      <td>301</td>\n",
       "      <td>1</td>\n",
       "      <td>large_airport</td>\n",
       "      <td>125.0</td>\n",
       "      <td>4.0</td>\n",
       "      <td>large_airport</td>\n",
       "      <td>36.0</td>\n",
       "      <td>4.0</td>\n",
       "      <td>42939104.0</td>\n",
       "      <td>16006389.0</td>\n",
       "    </tr>\n",
       "  </tbody>\n",
       "</table>\n",
       "<p>518556 rows × 17 columns</p>\n",
       "</div>"
      ],
      "text/plain": [
       "            id Airline  Flight AirportFrom AirportTo  DayOfWeek  Time  Length  \\\n",
       "0            1      CO     269         SFO       IAH          3    15     205   \n",
       "1            2      US    1558         PHX       CLT          3    15     222   \n",
       "2            3      AA    2400         LAX       DFW          3    20     165   \n",
       "3            4      AA    2466         SFO       DFW          3    20     195   \n",
       "4            5      AS     108         ANC       SEA          3    30     202   \n",
       "...        ...     ...     ...         ...       ...        ...   ...     ...   \n",
       "518551  539377      B6     717         JFK       SJU          5  1439     220   \n",
       "518552  539378      B6     739         JFK       PSE          5  1439     223   \n",
       "518553  539379      CO     178         OGG       SNA          5  1439     326   \n",
       "518554  539382      UA      78         HNL       SFO          5  1439     313   \n",
       "518555  539383      US    1442         LAX       PHL          5  1439     301   \n",
       "\n",
       "        Delay type_source_airport  elevation_ft_source_airport  \\\n",
       "0           1       large_airport                         13.0   \n",
       "1           1       large_airport                       1135.0   \n",
       "2           1       large_airport                        125.0   \n",
       "3           1       large_airport                         13.0   \n",
       "4           0       large_airport                        152.0   \n",
       "...       ...                 ...                          ...   \n",
       "518551      1       large_airport                         13.0   \n",
       "518552      1       large_airport                         13.0   \n",
       "518553      0      medium_airport                         54.0   \n",
       "518554      1       large_airport                         13.0   \n",
       "518555      1       large_airport                        125.0   \n",
       "\n",
       "        runway_count_source_airport type_dest_airport  \\\n",
       "0                               4.0     large_airport   \n",
       "1                               3.0     large_airport   \n",
       "2                               4.0     large_airport   \n",
       "3                               4.0     large_airport   \n",
       "4                               3.0     large_airport   \n",
       "...                             ...               ...   \n",
       "518551                          4.0     large_airport   \n",
       "518552                          4.0    medium_airport   \n",
       "518553                          2.0     large_airport   \n",
       "518554                          6.0     large_airport   \n",
       "518555                          4.0     large_airport   \n",
       "\n",
       "        elevation_ft_dest_airport  runway_count_dest_airport  \\\n",
       "0                            97.0                        5.0   \n",
       "1                           748.0                        4.0   \n",
       "2                           607.0                        7.0   \n",
       "3                           607.0                        7.0   \n",
       "4                           433.0                        4.0   \n",
       "...                           ...                        ...   \n",
       "518551                        9.0                        2.0   \n",
       "518552                       29.0                        1.0   \n",
       "518553                       56.0                        2.0   \n",
       "518554                       13.0                        4.0   \n",
       "518555                       36.0                        4.0   \n",
       "\n",
       "        data_2019_source_airport  data_2019_dest_airport  \n",
       "0                     27779230.0              21905309.0  \n",
       "1                     22433552.0              24199688.0  \n",
       "2                     42939104.0              35778573.0  \n",
       "3                     27779230.0              35778573.0  \n",
       "4                      2713843.0              25001762.0  \n",
       "...                          ...                     ...  \n",
       "518551                31036655.0               4590117.0  \n",
       "518552                31036655.0                     NaN  \n",
       "518553                 3791807.0               5153276.0  \n",
       "518554                 9988678.0              27779230.0  \n",
       "518555                42939104.0              16006389.0  \n",
       "\n",
       "[518556 rows x 17 columns]"
      ]
     },
     "execution_count": 53,
     "metadata": {},
     "output_type": "execute_result"
    }
   ],
   "source": [
    "combined_data_pax"
   ]
  },
  {
   "cell_type": "markdown",
   "id": "dd4ce19e",
   "metadata": {},
   "source": [
    "\n",
    "# addd founded column"
   ]
  },
  {
   "cell_type": "code",
   "execution_count": 54,
   "id": "7b2bc962",
   "metadata": {},
   "outputs": [
    {
     "data": {
      "text/html": [
       "<div>\n",
       "<style scoped>\n",
       "    .dataframe tbody tr th:only-of-type {\n",
       "        vertical-align: middle;\n",
       "    }\n",
       "\n",
       "    .dataframe tbody tr th {\n",
       "        vertical-align: top;\n",
       "    }\n",
       "\n",
       "    .dataframe thead th {\n",
       "        text-align: right;\n",
       "    }\n",
       "</style>\n",
       "<table border=\"1\" class=\"dataframe\">\n",
       "  <thead>\n",
       "    <tr style=\"text-align: right;\">\n",
       "      <th></th>\n",
       "      <th>Airline</th>\n",
       "      <th>IATA</th>\n",
       "      <th>Founded</th>\n",
       "    </tr>\n",
       "  </thead>\n",
       "  <tbody>\n",
       "    <tr>\n",
       "      <th>0</th>\n",
       "      <td>CO</td>\n",
       "      <td>NaN</td>\n",
       "      <td>NaN</td>\n",
       "    </tr>\n",
       "    <tr>\n",
       "      <th>1</th>\n",
       "      <td>US</td>\n",
       "      <td>NaN</td>\n",
       "      <td>NaN</td>\n",
       "    </tr>\n",
       "    <tr>\n",
       "      <th>2</th>\n",
       "      <td>AA</td>\n",
       "      <td>AA</td>\n",
       "      <td>1926.0</td>\n",
       "    </tr>\n",
       "    <tr>\n",
       "      <th>3</th>\n",
       "      <td>AS</td>\n",
       "      <td>AS</td>\n",
       "      <td>1932.0</td>\n",
       "    </tr>\n",
       "    <tr>\n",
       "      <th>4</th>\n",
       "      <td>DL</td>\n",
       "      <td>DL</td>\n",
       "      <td>1924.0</td>\n",
       "    </tr>\n",
       "    <tr>\n",
       "      <th>5</th>\n",
       "      <td>B6</td>\n",
       "      <td>B6</td>\n",
       "      <td>1998.0</td>\n",
       "    </tr>\n",
       "    <tr>\n",
       "      <th>6</th>\n",
       "      <td>HA</td>\n",
       "      <td>HA</td>\n",
       "      <td>1929.0</td>\n",
       "    </tr>\n",
       "    <tr>\n",
       "      <th>7</th>\n",
       "      <td>OO</td>\n",
       "      <td>OO</td>\n",
       "      <td>1972.0</td>\n",
       "    </tr>\n",
       "    <tr>\n",
       "      <th>8</th>\n",
       "      <td>9E</td>\n",
       "      <td>9E</td>\n",
       "      <td>1985.0</td>\n",
       "    </tr>\n",
       "    <tr>\n",
       "      <th>9</th>\n",
       "      <td>OH</td>\n",
       "      <td>OH</td>\n",
       "      <td>1979.0</td>\n",
       "    </tr>\n",
       "    <tr>\n",
       "      <th>10</th>\n",
       "      <td>EV</td>\n",
       "      <td>NaN</td>\n",
       "      <td>NaN</td>\n",
       "    </tr>\n",
       "    <tr>\n",
       "      <th>11</th>\n",
       "      <td>XE</td>\n",
       "      <td>XE</td>\n",
       "      <td>2016.0</td>\n",
       "    </tr>\n",
       "    <tr>\n",
       "      <th>12</th>\n",
       "      <td>YV</td>\n",
       "      <td>YV</td>\n",
       "      <td>1980.0</td>\n",
       "    </tr>\n",
       "    <tr>\n",
       "      <th>13</th>\n",
       "      <td>UA</td>\n",
       "      <td>UA</td>\n",
       "      <td>1926.0</td>\n",
       "    </tr>\n",
       "    <tr>\n",
       "      <th>14</th>\n",
       "      <td>MQ</td>\n",
       "      <td>MQ</td>\n",
       "      <td>1984.0</td>\n",
       "    </tr>\n",
       "    <tr>\n",
       "      <th>15</th>\n",
       "      <td>F9</td>\n",
       "      <td>F9</td>\n",
       "      <td>1994.0</td>\n",
       "    </tr>\n",
       "    <tr>\n",
       "      <th>16</th>\n",
       "      <td>WN</td>\n",
       "      <td>WN</td>\n",
       "      <td>1967.0</td>\n",
       "    </tr>\n",
       "  </tbody>\n",
       "</table>\n",
       "</div>"
      ],
      "text/plain": [
       "   Airline IATA  Founded\n",
       "0       CO  NaN      NaN\n",
       "1       US  NaN      NaN\n",
       "2       AA   AA   1926.0\n",
       "3       AS   AS   1932.0\n",
       "4       DL   DL   1924.0\n",
       "5       B6   B6   1998.0\n",
       "6       HA   HA   1929.0\n",
       "7       OO   OO   1972.0\n",
       "8       9E   9E   1985.0\n",
       "9       OH   OH   1979.0\n",
       "10      EV  NaN      NaN\n",
       "11      XE   XE   2016.0\n",
       "12      YV   YV   1980.0\n",
       "13      UA   UA   1926.0\n",
       "14      MQ   MQ   1984.0\n",
       "15      F9   F9   1994.0\n",
       "16      WN   WN   1967.0"
      ]
     },
     "execution_count": 54,
     "metadata": {},
     "output_type": "execute_result"
    }
   ],
   "source": [
    "airlines_founded"
   ]
  },
  {
   "cell_type": "code",
   "execution_count": 55,
   "id": "7c9a1345",
   "metadata": {},
   "outputs": [],
   "source": [
    "combined_data_pax = pd.merge(combined_data_pax, airlines_founded[['Airline', 'Founded']], on = 'Airline')"
   ]
  },
  {
   "cell_type": "code",
   "execution_count": 56,
   "id": "4209c8b1",
   "metadata": {},
   "outputs": [
    {
     "data": {
      "text/html": [
       "<div>\n",
       "<style scoped>\n",
       "    .dataframe tbody tr th:only-of-type {\n",
       "        vertical-align: middle;\n",
       "    }\n",
       "\n",
       "    .dataframe tbody tr th {\n",
       "        vertical-align: top;\n",
       "    }\n",
       "\n",
       "    .dataframe thead th {\n",
       "        text-align: right;\n",
       "    }\n",
       "</style>\n",
       "<table border=\"1\" class=\"dataframe\">\n",
       "  <thead>\n",
       "    <tr style=\"text-align: right;\">\n",
       "      <th></th>\n",
       "      <th>id</th>\n",
       "      <th>Airline</th>\n",
       "      <th>Flight</th>\n",
       "      <th>AirportFrom</th>\n",
       "      <th>AirportTo</th>\n",
       "      <th>DayOfWeek</th>\n",
       "      <th>Time</th>\n",
       "      <th>Length</th>\n",
       "      <th>Delay</th>\n",
       "      <th>type_source_airport</th>\n",
       "      <th>elevation_ft_source_airport</th>\n",
       "      <th>runway_count_source_airport</th>\n",
       "      <th>type_dest_airport</th>\n",
       "      <th>elevation_ft_dest_airport</th>\n",
       "      <th>runway_count_dest_airport</th>\n",
       "      <th>data_2019_source_airport</th>\n",
       "      <th>data_2019_dest_airport</th>\n",
       "      <th>Founded</th>\n",
       "    </tr>\n",
       "  </thead>\n",
       "  <tbody>\n",
       "    <tr>\n",
       "      <th>0</th>\n",
       "      <td>1</td>\n",
       "      <td>CO</td>\n",
       "      <td>269</td>\n",
       "      <td>SFO</td>\n",
       "      <td>IAH</td>\n",
       "      <td>3</td>\n",
       "      <td>15</td>\n",
       "      <td>205</td>\n",
       "      <td>1</td>\n",
       "      <td>large_airport</td>\n",
       "      <td>13.0</td>\n",
       "      <td>4.0</td>\n",
       "      <td>large_airport</td>\n",
       "      <td>97.0</td>\n",
       "      <td>5.0</td>\n",
       "      <td>27779230.0</td>\n",
       "      <td>21905309.0</td>\n",
       "      <td>NaN</td>\n",
       "    </tr>\n",
       "    <tr>\n",
       "      <th>1</th>\n",
       "      <td>6</td>\n",
       "      <td>CO</td>\n",
       "      <td>1094</td>\n",
       "      <td>LAX</td>\n",
       "      <td>IAH</td>\n",
       "      <td>3</td>\n",
       "      <td>30</td>\n",
       "      <td>181</td>\n",
       "      <td>1</td>\n",
       "      <td>large_airport</td>\n",
       "      <td>125.0</td>\n",
       "      <td>4.0</td>\n",
       "      <td>large_airport</td>\n",
       "      <td>97.0</td>\n",
       "      <td>5.0</td>\n",
       "      <td>42939104.0</td>\n",
       "      <td>21905309.0</td>\n",
       "      <td>NaN</td>\n",
       "    </tr>\n",
       "  </tbody>\n",
       "</table>\n",
       "</div>"
      ],
      "text/plain": [
       "   id Airline  Flight AirportFrom AirportTo  DayOfWeek  Time  Length  Delay  \\\n",
       "0   1      CO     269         SFO       IAH          3    15     205      1   \n",
       "1   6      CO    1094         LAX       IAH          3    30     181      1   \n",
       "\n",
       "  type_source_airport  elevation_ft_source_airport  \\\n",
       "0       large_airport                         13.0   \n",
       "1       large_airport                        125.0   \n",
       "\n",
       "   runway_count_source_airport type_dest_airport  elevation_ft_dest_airport  \\\n",
       "0                          4.0     large_airport                       97.0   \n",
       "1                          4.0     large_airport                       97.0   \n",
       "\n",
       "   runway_count_dest_airport  data_2019_source_airport  \\\n",
       "0                        5.0                27779230.0   \n",
       "1                        5.0                42939104.0   \n",
       "\n",
       "   data_2019_dest_airport  Founded  \n",
       "0              21905309.0      NaN  \n",
       "1              21905309.0      NaN  "
      ]
     },
     "execution_count": 56,
     "metadata": {},
     "output_type": "execute_result"
    }
   ],
   "source": [
    "combined_data_pax.head(2)"
   ]
  },
  {
   "cell_type": "markdown",
   "id": "788d076f",
   "metadata": {},
   "source": [
    "# 1. Check the missing values in each field. Perform missing value treatment. Justify your actions"
   ]
  },
  {
   "cell_type": "code",
   "execution_count": 58,
   "id": "5e55b64b",
   "metadata": {},
   "outputs": [
    {
     "data": {
      "text/plain": [
       "Founded                        83601\n",
       "data_2019_source_airport       83582\n",
       "data_2019_dest_airport         83531\n",
       "elevation_ft_source_airport       31\n",
       "runway_count_dest_airport         31\n",
       "elevation_ft_dest_airport         31\n",
       "type_dest_airport                 31\n",
       "runway_count_source_airport       31\n",
       "type_source_airport               31\n",
       "Airline                            0\n",
       "Delay                              0\n",
       "Length                             0\n",
       "Time                               0\n",
       "DayOfWeek                          0\n",
       "AirportTo                          0\n",
       "AirportFrom                        0\n",
       "Flight                             0\n",
       "id                                 0\n",
       "dtype: int64"
      ]
     },
     "execution_count": 58,
     "metadata": {},
     "output_type": "execute_result"
    }
   ],
   "source": [
    "# Combined Pax\n",
    "\n",
    "combined_data_pax.isna().sum().sort_values(ascending = False)"
   ]
  },
  {
   "cell_type": "markdown",
   "id": "c9ebe003",
   "metadata": {},
   "source": [
    "for type runway count and elevation lets get the airports for which information is missing"
   ]
  },
  {
   "cell_type": "code",
   "execution_count": 60,
   "id": "2fa06cc6",
   "metadata": {},
   "outputs": [
    {
     "data": {
      "text/plain": [
       "array(['CYS'], dtype=object)"
      ]
     },
     "execution_count": 60,
     "metadata": {},
     "output_type": "execute_result"
    }
   ],
   "source": [
    "combined_data_pax[combined_data_pax.type_source_airport.isna()].AirportFrom.unique()"
   ]
  },
  {
   "cell_type": "code",
   "execution_count": 61,
   "id": "49dd94fd",
   "metadata": {},
   "outputs": [
    {
     "data": {
      "text/plain": [
       "array(['CYS'], dtype=object)"
      ]
     },
     "execution_count": 61,
     "metadata": {},
     "output_type": "execute_result"
    }
   ],
   "source": [
    "combined_data_pax[combined_data_pax.type_dest_airport.isna()].AirportTo.unique()"
   ]
  },
  {
   "cell_type": "markdown",
   "id": "cf637fa9",
   "metadata": {},
   "source": [
    "As we see information for only CYS is missing Lets check for this information using data dictionary and match the description and name of the airport to fetch information"
   ]
  },
  {
   "cell_type": "markdown",
   "id": "a45cda28",
   "metadata": {},
   "source": [
    "airport_dict = pd.read_excel('/content/drive/MyDrive/capstone 3/Data Dictionary.xlsx', sheet_name = 'airlines',header = 29)\n",
    "airport_dict.head(2)"
   ]
  },
  {
   "cell_type": "code",
   "execution_count": 65,
   "id": "b377ca46",
   "metadata": {},
   "outputs": [
    {
     "data": {
      "text/html": [
       "<div>\n",
       "<style scoped>\n",
       "    .dataframe tbody tr th:only-of-type {\n",
       "        vertical-align: middle;\n",
       "    }\n",
       "\n",
       "    .dataframe tbody tr th {\n",
       "        vertical-align: top;\n",
       "    }\n",
       "\n",
       "    .dataframe thead th {\n",
       "        text-align: right;\n",
       "    }\n",
       "</style>\n",
       "<table border=\"1\" class=\"dataframe\">\n",
       "  <thead>\n",
       "    <tr style=\"text-align: right;\">\n",
       "      <th></th>\n",
       "      <th>Aiport ID</th>\n",
       "      <th>Description</th>\n",
       "    </tr>\n",
       "  </thead>\n",
       "  <tbody>\n",
       "    <tr>\n",
       "      <th>0</th>\n",
       "      <td>ABE</td>\n",
       "      <td>RAF Calveley</td>\n",
       "    </tr>\n",
       "    <tr>\n",
       "      <th>1</th>\n",
       "      <td>ABE</td>\n",
       "      <td>Bisho Airport</td>\n",
       "    </tr>\n",
       "  </tbody>\n",
       "</table>\n",
       "</div>"
      ],
      "text/plain": [
       "  Aiport ID    Description\n",
       "0       ABE   RAF Calveley\n",
       "1       ABE  Bisho Airport"
      ]
     },
     "execution_count": 65,
     "metadata": {},
     "output_type": "execute_result"
    }
   ],
   "source": [
    "airport_dict = pd.read_excel('Data Dictionary.xlsx', sheet_name = 'airlines',header = 29, usecols = [0,1])\n",
    "airport_dict.head(2)"
   ]
  },
  {
   "cell_type": "code",
   "execution_count": 66,
   "id": "4c7e4146",
   "metadata": {},
   "outputs": [
    {
     "data": {
      "text/plain": [
       "'cheyenne regional jerry olson field'"
      ]
     },
     "execution_count": 66,
     "metadata": {},
     "output_type": "execute_result"
    }
   ],
   "source": [
    "name = airport_dict[airport_dict['Aiport ID'] == 'CYS'].Description.values[0]\n",
    "name.lower()"
   ]
  },
  {
   "cell_type": "code",
   "execution_count": 67,
   "id": "843b5fec",
   "metadata": {},
   "outputs": [],
   "source": [
    "air_miss = airports.loc[name.lower() == airports.name.str.lower(), ['ident', 'name', 'iata_code', 'type', 'elevation_ft']]"
   ]
  },
  {
   "cell_type": "code",
   "execution_count": 68,
   "id": "f9fe04b0",
   "metadata": {},
   "outputs": [
    {
     "data": {
      "text/html": [
       "<div>\n",
       "<style scoped>\n",
       "    .dataframe tbody tr th:only-of-type {\n",
       "        vertical-align: middle;\n",
       "    }\n",
       "\n",
       "    .dataframe tbody tr th {\n",
       "        vertical-align: top;\n",
       "    }\n",
       "\n",
       "    .dataframe thead th {\n",
       "        text-align: right;\n",
       "    }\n",
       "</style>\n",
       "<table border=\"1\" class=\"dataframe\">\n",
       "  <thead>\n",
       "    <tr style=\"text-align: right;\">\n",
       "      <th></th>\n",
       "      <th>ident</th>\n",
       "      <th>id</th>\n",
       "    </tr>\n",
       "  </thead>\n",
       "  <tbody>\n",
       "    <tr>\n",
       "      <th>0</th>\n",
       "      <td>KCYS</td>\n",
       "      <td>2</td>\n",
       "    </tr>\n",
       "  </tbody>\n",
       "</table>\n",
       "</div>"
      ],
      "text/plain": [
       "  ident  id\n",
       "0  KCYS   2"
      ]
     },
     "execution_count": 68,
     "metadata": {},
     "output_type": "execute_result"
    }
   ],
   "source": [
    "air_miss_comb = pd.merge(air_miss, runways[['airport_ident', 'id']], how = 'left', left_on = 'ident', right_on = 'airport_ident')\n",
    "runway_count_miss = air_miss_comb.groupby('ident')[['id']].count().sort_values(by = 'id', ascending = False).reset_index()\n",
    "runway_count_miss"
   ]
  },
  {
   "cell_type": "code",
   "execution_count": 69,
   "id": "2ac76973",
   "metadata": {},
   "outputs": [],
   "source": [
    "air_miss_data = pd.merge(air_miss,runway_count_miss ).rename(columns = {'id' : 'runway_count'})[['iata_code', 'type', 'elevation_ft', 'runway_count']]"
   ]
  },
  {
   "cell_type": "code",
   "execution_count": 70,
   "id": "d9d61b11",
   "metadata": {},
   "outputs": [],
   "source": [
    "combined_data_pax.loc[combined_data_pax.AirportFrom == 'CYS', 'type_source_airport'] = air_miss_data.type.values[0]\n",
    "combined_data_pax.loc[combined_data_pax.AirportFrom == 'CYS', 'elevation_ft_source_airport'] = air_miss_data.elevation_ft.values[0]\n",
    "combined_data_pax.loc[combined_data_pax.AirportFrom == 'CYS', 'runway_count_source_airport'] = air_miss_data.runway_count.values[0]"
   ]
  },
  {
   "cell_type": "code",
   "execution_count": 71,
   "id": "e402c41d",
   "metadata": {},
   "outputs": [],
   "source": [
    "combined_data_pax.loc[combined_data_pax.AirportTo == 'CYS', 'type_dest_airport'] = air_miss_data.type.values[0]\n",
    "combined_data_pax.loc[combined_data_pax.AirportTo == 'CYS', 'elevation_ft_dest_airport'] = air_miss_data.elevation_ft.values[0]\n",
    "combined_data_pax.loc[combined_data_pax.AirportTo == 'CYS', 'runway_count_dest_airport'] = air_miss_data.runway_count.values[0]"
   ]
  },
  {
   "cell_type": "code",
   "execution_count": 72,
   "id": "fee01386",
   "metadata": {},
   "outputs": [
    {
     "data": {
      "text/plain": [
       "Founded                        83601\n",
       "data_2019_source_airport       83582\n",
       "data_2019_dest_airport         83531\n",
       "Airline                            0\n",
       "runway_count_dest_airport          0\n",
       "elevation_ft_dest_airport          0\n",
       "type_dest_airport                  0\n",
       "runway_count_source_airport        0\n",
       "elevation_ft_source_airport        0\n",
       "id                                 0\n",
       "Delay                              0\n",
       "Length                             0\n",
       "Time                               0\n",
       "DayOfWeek                          0\n",
       "AirportTo                          0\n",
       "AirportFrom                        0\n",
       "Flight                             0\n",
       "type_source_airport                0\n",
       "dtype: int64"
      ]
     },
     "execution_count": 72,
     "metadata": {},
     "output_type": "execute_result"
    }
   ],
   "source": [
    "combined_data_pax.isna().sum().sort_values(ascending = False)"
   ]
  },
  {
   "cell_type": "code",
   "execution_count": 74,
   "id": "e99a931f",
   "metadata": {},
   "outputs": [
    {
     "data": {
      "text/html": [
       "<div>\n",
       "<style scoped>\n",
       "    .dataframe tbody tr th:only-of-type {\n",
       "        vertical-align: middle;\n",
       "    }\n",
       "\n",
       "    .dataframe tbody tr th {\n",
       "        vertical-align: top;\n",
       "    }\n",
       "\n",
       "    .dataframe thead th {\n",
       "        text-align: right;\n",
       "    }\n",
       "</style>\n",
       "<table border=\"1\" class=\"dataframe\">\n",
       "  <thead>\n",
       "    <tr style=\"text-align: right;\">\n",
       "      <th></th>\n",
       "      <th>Airlines ID</th>\n",
       "      <th>Description</th>\n",
       "    </tr>\n",
       "  </thead>\n",
       "  <tbody>\n",
       "    <tr>\n",
       "      <th>0</th>\n",
       "      <td>WN</td>\n",
       "      <td>Southwest</td>\n",
       "    </tr>\n",
       "    <tr>\n",
       "      <th>1</th>\n",
       "      <td>DL</td>\n",
       "      <td>Delta</td>\n",
       "    </tr>\n",
       "  </tbody>\n",
       "</table>\n",
       "</div>"
      ],
      "text/plain": [
       "  Airlines ID Description\n",
       "0          WN   Southwest\n",
       "1          DL       Delta"
      ]
     },
     "execution_count": 74,
     "metadata": {},
     "output_type": "execute_result"
    }
   ],
   "source": [
    "airline_dict = pd.read_excel('Data Dictionary.xlsx', sheet_name = 'airlines',header = 10, usecols = [0,1])\n",
    "airline_dict.head(2)"
   ]
  },
  {
   "cell_type": "code",
   "execution_count": 75,
   "id": "8fe4bd02",
   "metadata": {},
   "outputs": [
    {
     "name": "stdout",
     "output_type": "stream",
     "text": [
      "  Airlines ID                        Description\n",
      "5          US  PSA (initially US Airway Express)\n",
      "7          EV                         ExpressJet\n",
      "9          CO     United Airlines (initially CO)\n"
     ]
    }
   ],
   "source": [
    "miss_founded = combined_data_pax[combined_data_pax.Founded.isna()].Airline.unique()\n",
    "print(airline_dict[airline_dict['Airlines ID'].isin( ['EV', 'CO', 'US'])])"
   ]
  },
  {
   "cell_type": "markdown",
   "id": "a9959a6b",
   "metadata": {},
   "source": [
    "US - 1967\n",
    "\n",
    "CO - 1934\n",
    "\n",
    "EV - 1986\n",
    "\n",
    "#use google for these years"
   ]
  },
  {
   "cell_type": "code",
   "execution_count": 76,
   "id": "1b9860cc",
   "metadata": {},
   "outputs": [],
   "source": [
    "miss_val = {'US' : 1967, 'CO' : 1934, 'EV' : 1986}\n",
    "for aline in miss_founded:\n",
    "    combined_data_pax.loc[(combined_data_pax.Founded.isna()) & \n",
    "                      (combined_data_pax.Airline == aline), 'Founded'] = miss_val[aline] "
   ]
  },
  {
   "cell_type": "code",
   "execution_count": 77,
   "id": "93e64384",
   "metadata": {},
   "outputs": [
    {
     "data": {
      "text/plain": [
       "data_2019_source_airport       16.118221\n",
       "data_2019_dest_airport         16.108386\n",
       "id                              0.000000\n",
       "Airline                         0.000000\n",
       "runway_count_dest_airport       0.000000\n",
       "elevation_ft_dest_airport       0.000000\n",
       "type_dest_airport               0.000000\n",
       "runway_count_source_airport     0.000000\n",
       "elevation_ft_source_airport     0.000000\n",
       "type_source_airport             0.000000\n",
       "Delay                           0.000000\n",
       "Length                          0.000000\n",
       "Time                            0.000000\n",
       "DayOfWeek                       0.000000\n",
       "AirportTo                       0.000000\n",
       "AirportFrom                     0.000000\n",
       "Flight                          0.000000\n",
       "Founded                         0.000000\n",
       "dtype: float64"
      ]
     },
     "execution_count": 77,
     "metadata": {},
     "output_type": "execute_result"
    }
   ],
   "source": [
    "(combined_data_pax.isna().sum().sort_values(ascending = False)/combined_data_pax.shape[0])*100"
   ]
  },
  {
   "cell_type": "markdown",
   "id": "e6659073",
   "metadata": {},
   "source": [
    "For missing pax data use median value based on 'type' of airport"
   ]
  },
  {
   "cell_type": "code",
   "execution_count": 80,
   "id": "a7bfe756",
   "metadata": {},
   "outputs": [
    {
     "data": {
      "text/html": [
       "<div>\n",
       "<style scoped>\n",
       "    .dataframe tbody tr th:only-of-type {\n",
       "        vertical-align: middle;\n",
       "    }\n",
       "\n",
       "    .dataframe tbody tr th {\n",
       "        vertical-align: top;\n",
       "    }\n",
       "\n",
       "    .dataframe thead th {\n",
       "        text-align: right;\n",
       "    }\n",
       "</style>\n",
       "<table border=\"1\" class=\"dataframe\">\n",
       "  <thead>\n",
       "    <tr style=\"text-align: right;\">\n",
       "      <th></th>\n",
       "      <th>data_2019_source_airport</th>\n",
       "    </tr>\n",
       "    <tr>\n",
       "      <th>type_source_airport</th>\n",
       "      <th></th>\n",
       "    </tr>\n",
       "  </thead>\n",
       "  <tbody>\n",
       "    <tr>\n",
       "      <th>large_airport</th>\n",
       "      <td>21905309.0</td>\n",
       "    </tr>\n",
       "    <tr>\n",
       "      <th>medium_airport</th>\n",
       "      <td>3323614.0</td>\n",
       "    </tr>\n",
       "    <tr>\n",
       "      <th>small_airport</th>\n",
       "      <td>NaN</td>\n",
       "    </tr>\n",
       "  </tbody>\n",
       "</table>\n",
       "</div>"
      ],
      "text/plain": [
       "                     data_2019_source_airport\n",
       "type_source_airport                          \n",
       "large_airport                      21905309.0\n",
       "medium_airport                      3323614.0\n",
       "small_airport                             NaN"
      ]
     },
     "execution_count": 80,
     "metadata": {},
     "output_type": "execute_result"
    }
   ],
   "source": [
    "combined_data_pax.groupby('type_source_airport')[['data_2019_source_airport']].median()"
   ]
  },
  {
   "cell_type": "code",
   "execution_count": 81,
   "id": "4b00837f",
   "metadata": {},
   "outputs": [
    {
     "data": {
      "text/html": [
       "<div>\n",
       "<style scoped>\n",
       "    .dataframe tbody tr th:only-of-type {\n",
       "        vertical-align: middle;\n",
       "    }\n",
       "\n",
       "    .dataframe tbody tr th {\n",
       "        vertical-align: top;\n",
       "    }\n",
       "\n",
       "    .dataframe thead th {\n",
       "        text-align: right;\n",
       "    }\n",
       "</style>\n",
       "<table border=\"1\" class=\"dataframe\">\n",
       "  <thead>\n",
       "    <tr style=\"text-align: right;\">\n",
       "      <th></th>\n",
       "      <th>data_2019_source_airport</th>\n",
       "    </tr>\n",
       "    <tr>\n",
       "      <th>type_source_airport</th>\n",
       "      <th></th>\n",
       "    </tr>\n",
       "  </thead>\n",
       "  <tbody>\n",
       "    <tr>\n",
       "      <th>large_airport</th>\n",
       "      <td>21905309.0</td>\n",
       "    </tr>\n",
       "    <tr>\n",
       "      <th>medium_airport</th>\n",
       "      <td>3323614.0</td>\n",
       "    </tr>\n",
       "    <tr>\n",
       "      <th>small_airport</th>\n",
       "      <td>NaN</td>\n",
       "    </tr>\n",
       "  </tbody>\n",
       "</table>\n",
       "</div>"
      ],
      "text/plain": [
       "                     data_2019_source_airport\n",
       "type_source_airport                          \n",
       "large_airport                      21905309.0\n",
       "medium_airport                      3323614.0\n",
       "small_airport                             NaN"
      ]
     },
     "execution_count": 81,
     "metadata": {},
     "output_type": "execute_result"
    }
   ],
   "source": [
    "med_val = combined_data_pax.groupby('type_source_airport')[['data_2019_source_airport']].median()\n",
    "med_val"
   ]
  },
  {
   "cell_type": "code",
   "execution_count": 82,
   "id": "9704e7a8",
   "metadata": {},
   "outputs": [],
   "source": [
    "for typ in combined_data_pax.type_source_airport.unique():\n",
    "      combined_data_pax.loc[(combined_data_pax.type_source_airport == typ)& (combined_data_pax.data_2019_source_airport.isna()),\n",
    "                      'data_2019_source_airport'] = med_val.loc[typ].values[0]"
   ]
  },
  {
   "cell_type": "code",
   "execution_count": 83,
   "id": "cdaa26c2",
   "metadata": {},
   "outputs": [
    {
     "data": {
      "text/html": [
       "<div>\n",
       "<style scoped>\n",
       "    .dataframe tbody tr th:only-of-type {\n",
       "        vertical-align: middle;\n",
       "    }\n",
       "\n",
       "    .dataframe tbody tr th {\n",
       "        vertical-align: top;\n",
       "    }\n",
       "\n",
       "    .dataframe thead th {\n",
       "        text-align: right;\n",
       "    }\n",
       "</style>\n",
       "<table border=\"1\" class=\"dataframe\">\n",
       "  <thead>\n",
       "    <tr style=\"text-align: right;\">\n",
       "      <th></th>\n",
       "      <th>data_2019_dest_airport</th>\n",
       "    </tr>\n",
       "    <tr>\n",
       "      <th>type_dest_airport</th>\n",
       "      <th></th>\n",
       "    </tr>\n",
       "  </thead>\n",
       "  <tbody>\n",
       "    <tr>\n",
       "      <th>large_airport</th>\n",
       "      <td>21905309.0</td>\n",
       "    </tr>\n",
       "    <tr>\n",
       "      <th>medium_airport</th>\n",
       "      <td>3323614.0</td>\n",
       "    </tr>\n",
       "    <tr>\n",
       "      <th>small_airport</th>\n",
       "      <td>NaN</td>\n",
       "    </tr>\n",
       "  </tbody>\n",
       "</table>\n",
       "</div>"
      ],
      "text/plain": [
       "                   data_2019_dest_airport\n",
       "type_dest_airport                        \n",
       "large_airport                  21905309.0\n",
       "medium_airport                  3323614.0\n",
       "small_airport                         NaN"
      ]
     },
     "execution_count": 83,
     "metadata": {},
     "output_type": "execute_result"
    }
   ],
   "source": [
    "med_val_dest = combined_data_pax.groupby('type_dest_airport')[['data_2019_dest_airport']].median()\n",
    "med_val_dest"
   ]
  },
  {
   "cell_type": "code",
   "execution_count": 84,
   "id": "d1bcd962",
   "metadata": {},
   "outputs": [],
   "source": [
    "for typ in combined_data_pax.type_source_airport.unique():\n",
    "      combined_data_pax.loc[(combined_data_pax.type_dest_airport == typ)& (combined_data_pax.data_2019_dest_airport.isna()),\n",
    "                      'data_2019_dest_airport'] = med_val.loc[typ].values[0]"
   ]
  },
  {
   "cell_type": "code",
   "execution_count": 85,
   "id": "3d43c880",
   "metadata": {},
   "outputs": [
    {
     "data": {
      "text/html": [
       "<div>\n",
       "<style scoped>\n",
       "    .dataframe tbody tr th:only-of-type {\n",
       "        vertical-align: middle;\n",
       "    }\n",
       "\n",
       "    .dataframe tbody tr th {\n",
       "        vertical-align: top;\n",
       "    }\n",
       "\n",
       "    .dataframe thead th {\n",
       "        text-align: right;\n",
       "    }\n",
       "</style>\n",
       "<table border=\"1\" class=\"dataframe\">\n",
       "  <thead>\n",
       "    <tr style=\"text-align: right;\">\n",
       "      <th></th>\n",
       "      <th>id</th>\n",
       "      <th>Airline</th>\n",
       "      <th>Flight</th>\n",
       "      <th>AirportFrom</th>\n",
       "      <th>AirportTo</th>\n",
       "      <th>DayOfWeek</th>\n",
       "      <th>Time</th>\n",
       "      <th>Length</th>\n",
       "      <th>Delay</th>\n",
       "      <th>type_source_airport</th>\n",
       "      <th>elevation_ft_source_airport</th>\n",
       "      <th>runway_count_source_airport</th>\n",
       "      <th>type_dest_airport</th>\n",
       "      <th>elevation_ft_dest_airport</th>\n",
       "      <th>runway_count_dest_airport</th>\n",
       "      <th>data_2019_source_airport</th>\n",
       "      <th>data_2019_dest_airport</th>\n",
       "      <th>Founded</th>\n",
       "    </tr>\n",
       "  </thead>\n",
       "  <tbody>\n",
       "    <tr>\n",
       "      <th>0</th>\n",
       "      <td>1</td>\n",
       "      <td>CO</td>\n",
       "      <td>269</td>\n",
       "      <td>SFO</td>\n",
       "      <td>IAH</td>\n",
       "      <td>3</td>\n",
       "      <td>15</td>\n",
       "      <td>205</td>\n",
       "      <td>1</td>\n",
       "      <td>large_airport</td>\n",
       "      <td>13.0</td>\n",
       "      <td>4.0</td>\n",
       "      <td>large_airport</td>\n",
       "      <td>97.0</td>\n",
       "      <td>5.0</td>\n",
       "      <td>27779230.0</td>\n",
       "      <td>21905309.0</td>\n",
       "      <td>1934.0</td>\n",
       "    </tr>\n",
       "    <tr>\n",
       "      <th>1</th>\n",
       "      <td>6</td>\n",
       "      <td>CO</td>\n",
       "      <td>1094</td>\n",
       "      <td>LAX</td>\n",
       "      <td>IAH</td>\n",
       "      <td>3</td>\n",
       "      <td>30</td>\n",
       "      <td>181</td>\n",
       "      <td>1</td>\n",
       "      <td>large_airport</td>\n",
       "      <td>125.0</td>\n",
       "      <td>4.0</td>\n",
       "      <td>large_airport</td>\n",
       "      <td>97.0</td>\n",
       "      <td>5.0</td>\n",
       "      <td>42939104.0</td>\n",
       "      <td>21905309.0</td>\n",
       "      <td>1934.0</td>\n",
       "    </tr>\n",
       "  </tbody>\n",
       "</table>\n",
       "</div>"
      ],
      "text/plain": [
       "   id Airline  Flight AirportFrom AirportTo  DayOfWeek  Time  Length  Delay  \\\n",
       "0   1      CO     269         SFO       IAH          3    15     205      1   \n",
       "1   6      CO    1094         LAX       IAH          3    30     181      1   \n",
       "\n",
       "  type_source_airport  elevation_ft_source_airport  \\\n",
       "0       large_airport                         13.0   \n",
       "1       large_airport                        125.0   \n",
       "\n",
       "   runway_count_source_airport type_dest_airport  elevation_ft_dest_airport  \\\n",
       "0                          4.0     large_airport                       97.0   \n",
       "1                          4.0     large_airport                       97.0   \n",
       "\n",
       "   runway_count_dest_airport  data_2019_source_airport  \\\n",
       "0                        5.0                27779230.0   \n",
       "1                        5.0                42939104.0   \n",
       "\n",
       "   data_2019_dest_airport  Founded  \n",
       "0              21905309.0   1934.0  \n",
       "1              21905309.0   1934.0  "
      ]
     },
     "execution_count": 85,
     "metadata": {},
     "output_type": "execute_result"
    }
   ],
   "source": [
    "combined_data_pax.head(2)"
   ]
  },
  {
   "cell_type": "code",
   "execution_count": 86,
   "id": "b033a5cc",
   "metadata": {},
   "outputs": [
    {
     "data": {
      "text/plain": [
       "data_2019_source_airport       0.226205\n",
       "data_2019_dest_airport         0.224855\n",
       "id                             0.000000\n",
       "Airline                        0.000000\n",
       "runway_count_dest_airport      0.000000\n",
       "elevation_ft_dest_airport      0.000000\n",
       "type_dest_airport              0.000000\n",
       "runway_count_source_airport    0.000000\n",
       "elevation_ft_source_airport    0.000000\n",
       "type_source_airport            0.000000\n",
       "Delay                          0.000000\n",
       "Length                         0.000000\n",
       "Time                           0.000000\n",
       "DayOfWeek                      0.000000\n",
       "AirportTo                      0.000000\n",
       "AirportFrom                    0.000000\n",
       "Flight                         0.000000\n",
       "Founded                        0.000000\n",
       "dtype: float64"
      ]
     },
     "execution_count": 86,
     "metadata": {},
     "output_type": "execute_result"
    }
   ],
   "source": [
    "(combined_data_pax.isna().sum().sort_values(ascending = False)/combined_data_pax.shape[0])*100"
   ]
  },
  {
   "cell_type": "markdown",
   "id": "32dc727e",
   "metadata": {},
   "source": [
    "Since % of values missing is 0.2% we can simply eliminate these rows\n",
    "\n"
   ]
  },
  {
   "cell_type": "markdown",
   "id": "976b54fa",
   "metadata": {},
   "source": [
    "# 2. Perform data visualization and share your insights related to following aspects:\n"
   ]
  },
  {
   "cell_type": "markdown",
   "id": "d8ee3a91",
   "metadata": {},
   "source": [
    "airline_dict = pd.read_excel('/content/drive/MyDrive/capstone 3/Data Dictionary.xlsx', sheet_name = 'airlines',header = 11)\n",
    "airline_dict.head(2)"
   ]
  },
  {
   "cell_type": "code",
   "execution_count": 97,
   "id": "5d901f07",
   "metadata": {},
   "outputs": [],
   "source": [
    "#  get id for \"southwest Airlines\"\n",
    "id_airline = airline_dict.loc[airline_dict['Description'].str.strip().str.lower() == 'southwest', 'Airlines ID'].values[0]"
   ]
  },
  {
   "cell_type": "code",
   "execution_count": 98,
   "id": "d18adf22",
   "metadata": {},
   "outputs": [
    {
     "data": {
      "text/plain": [
       "70"
      ]
     },
     "execution_count": 98,
     "metadata": {},
     "output_type": "execute_result"
    }
   ],
   "source": [
    "round(combined_data_pax[combined_data_pax.Airline == id_airline].Delay.sum()/\n",
    "      combined_data_pax[combined_data_pax.Airline == id_airline].Delay.size*100)"
   ]
  },
  {
   "cell_type": "code",
   "execution_count": 99,
   "id": "1f140e9c",
   "metadata": {},
   "outputs": [],
   "source": [
    "def percent_Delay(x):\n",
    "    return round(x.sum()/x.size * 100,2)"
   ]
  },
  {
   "cell_type": "code",
   "execution_count": 100,
   "id": "43f052c8",
   "metadata": {},
   "outputs": [],
   "source": [
    "delay_perc = combined_data_pax.groupby('Airline')['Delay'].agg(percent_Delay)\n",
    "delay_perc = delay_perc.reset_index()"
   ]
  },
  {
   "cell_type": "code",
   "execution_count": 101,
   "id": "b9ecc1c6",
   "metadata": {},
   "outputs": [
    {
     "data": {
      "text/html": [
       "<div>\n",
       "<style scoped>\n",
       "    .dataframe tbody tr th:only-of-type {\n",
       "        vertical-align: middle;\n",
       "    }\n",
       "\n",
       "    .dataframe tbody tr th {\n",
       "        vertical-align: top;\n",
       "    }\n",
       "\n",
       "    .dataframe thead th {\n",
       "        text-align: right;\n",
       "    }\n",
       "</style>\n",
       "<table border=\"1\" class=\"dataframe\">\n",
       "  <thead>\n",
       "    <tr style=\"text-align: right;\">\n",
       "      <th></th>\n",
       "      <th>Airline</th>\n",
       "      <th>Description</th>\n",
       "      <th>Delay</th>\n",
       "    </tr>\n",
       "  </thead>\n",
       "  <tbody>\n",
       "    <tr>\n",
       "      <th>0</th>\n",
       "      <td>9E</td>\n",
       "      <td>Endeavor</td>\n",
       "      <td>39.77</td>\n",
       "    </tr>\n",
       "    <tr>\n",
       "      <th>1</th>\n",
       "      <td>AA</td>\n",
       "      <td>American Airlines</td>\n",
       "      <td>38.85</td>\n",
       "    </tr>\n",
       "    <tr>\n",
       "      <th>2</th>\n",
       "      <td>AS</td>\n",
       "      <td>Alaska</td>\n",
       "      <td>33.93</td>\n",
       "    </tr>\n",
       "    <tr>\n",
       "      <th>3</th>\n",
       "      <td>B6</td>\n",
       "      <td>Jetblue</td>\n",
       "      <td>46.70</td>\n",
       "    </tr>\n",
       "    <tr>\n",
       "      <th>4</th>\n",
       "      <td>CO</td>\n",
       "      <td>United Airlines (initially CO)</td>\n",
       "      <td>56.62</td>\n",
       "    </tr>\n",
       "    <tr>\n",
       "      <th>5</th>\n",
       "      <td>DL</td>\n",
       "      <td>Delta</td>\n",
       "      <td>45.05</td>\n",
       "    </tr>\n",
       "    <tr>\n",
       "      <th>6</th>\n",
       "      <td>EV</td>\n",
       "      <td>ExpressJet</td>\n",
       "      <td>40.22</td>\n",
       "    </tr>\n",
       "    <tr>\n",
       "      <th>7</th>\n",
       "      <td>F9</td>\n",
       "      <td>Frontier</td>\n",
       "      <td>44.90</td>\n",
       "    </tr>\n",
       "    <tr>\n",
       "      <th>8</th>\n",
       "      <td>HA</td>\n",
       "      <td>Hawaiian</td>\n",
       "      <td>32.02</td>\n",
       "    </tr>\n",
       "    <tr>\n",
       "      <th>9</th>\n",
       "      <td>MQ</td>\n",
       "      <td>Envoy</td>\n",
       "      <td>34.81</td>\n",
       "    </tr>\n",
       "    <tr>\n",
       "      <th>10</th>\n",
       "      <td>OH</td>\n",
       "      <td>PSA</td>\n",
       "      <td>27.73</td>\n",
       "    </tr>\n",
       "    <tr>\n",
       "      <th>11</th>\n",
       "      <td>OO</td>\n",
       "      <td>Skywest</td>\n",
       "      <td>45.29</td>\n",
       "    </tr>\n",
       "    <tr>\n",
       "      <th>12</th>\n",
       "      <td>UA</td>\n",
       "      <td>United Airlines</td>\n",
       "      <td>32.39</td>\n",
       "    </tr>\n",
       "    <tr>\n",
       "      <th>13</th>\n",
       "      <td>US</td>\n",
       "      <td>PSA (initially US Airway Express)</td>\n",
       "      <td>33.60</td>\n",
       "    </tr>\n",
       "    <tr>\n",
       "      <th>14</th>\n",
       "      <td>WN</td>\n",
       "      <td>Southwest</td>\n",
       "      <td>69.78</td>\n",
       "    </tr>\n",
       "    <tr>\n",
       "      <th>15</th>\n",
       "      <td>XE</td>\n",
       "      <td>JSX</td>\n",
       "      <td>37.89</td>\n",
       "    </tr>\n",
       "    <tr>\n",
       "      <th>16</th>\n",
       "      <td>YV</td>\n",
       "      <td>Mesa</td>\n",
       "      <td>24.29</td>\n",
       "    </tr>\n",
       "  </tbody>\n",
       "</table>\n",
       "</div>"
      ],
      "text/plain": [
       "   Airline                        Description  Delay\n",
       "0       9E                           Endeavor  39.77\n",
       "1       AA                  American Airlines  38.85\n",
       "2       AS                             Alaska  33.93\n",
       "3       B6                            Jetblue  46.70\n",
       "4       CO     United Airlines (initially CO)  56.62\n",
       "5       DL                              Delta  45.05\n",
       "6       EV                         ExpressJet  40.22\n",
       "7       F9                           Frontier  44.90\n",
       "8       HA                           Hawaiian  32.02\n",
       "9       MQ                              Envoy  34.81\n",
       "10      OH                                PSA  27.73\n",
       "11      OO                            Skywest  45.29\n",
       "12      UA                    United Airlines  32.39\n",
       "13      US  PSA (initially US Airway Express)  33.60\n",
       "14      WN                          Southwest  69.78\n",
       "15      XE                                JSX  37.89\n",
       "16      YV                               Mesa  24.29"
      ]
     },
     "execution_count": 101,
     "metadata": {},
     "output_type": "execute_result"
    }
   ],
   "source": [
    "plot_data = pd.merge(delay_perc, airline_dict, left_on = 'Airline', \n",
    "                     right_on = 'Airlines ID', how = 'left')[['Airline', 'Description', 'Delay']]\n",
    "plot_data"
   ]
  },
  {
   "cell_type": "code",
   "execution_count": 102,
   "id": "5bee5e3d",
   "metadata": {},
   "outputs": [
    {
     "name": "stderr",
     "output_type": "stream",
     "text": [
      "findfont: Font family ['times'] not found. Falling back to DejaVu Sans.\n",
      "findfont: Font family ['times'] not found. Falling back to DejaVu Sans.\n"
     ]
    },
    {
     "data": {
      "image/png": "[encoded data removed]",
      "text/plain": [
       "<Figure size 1584x360 with 1 Axes>"
      ]
     },
     "metadata": {
      "needs_background": "light"
     },
     "output_type": "display_data"
    }
   ],
   "source": [
    "plt.figure(figsize = (22,5))\n",
    "plt.bar(plot_data.Description, height =  plot_data.Delay, color = plt.get_cmap('Set3').colors)\n",
    "for v, idx in zip(plot_data.Delay.values,plot_data.index ):\n",
    "    plt.annotate('{:.1f}%'.format(v), xy = (idx-0.15, v), size = 18, family = 'times')\n",
    "plt.ylim(1,85)\n",
    "plt.xticks(size = 13, rotation = 75)\n",
    "plt.yticks(size = 13)\n",
    "plt.title('% delays for each airline', size = 25, color = 'midnightblue', weight = 'heavy', family = 'times')\n",
    "plt.show()"
   ]
  },
  {
   "cell_type": "markdown",
   "id": "316d8198",
   "metadata": {},
   "source": [
    "II.    No delayed flights on different weekdays. Which days of the week are safest to travel."
   ]
  },
  {
   "cell_type": "code",
   "execution_count": 103,
   "id": "76da2a66",
   "metadata": {},
   "outputs": [
    {
     "data": {
      "text/html": [
       "<div>\n",
       "<style scoped>\n",
       "    .dataframe tbody tr th:only-of-type {\n",
       "        vertical-align: middle;\n",
       "    }\n",
       "\n",
       "    .dataframe tbody tr th {\n",
       "        vertical-align: top;\n",
       "    }\n",
       "\n",
       "    .dataframe thead th {\n",
       "        text-align: right;\n",
       "    }\n",
       "</style>\n",
       "<table border=\"1\" class=\"dataframe\">\n",
       "  <thead>\n",
       "    <tr style=\"text-align: right;\">\n",
       "      <th></th>\n",
       "      <th>id</th>\n",
       "      <th>Airline</th>\n",
       "      <th>Flight</th>\n",
       "      <th>AirportFrom</th>\n",
       "      <th>AirportTo</th>\n",
       "      <th>DayOfWeek</th>\n",
       "      <th>Time</th>\n",
       "      <th>Length</th>\n",
       "      <th>Delay</th>\n",
       "      <th>type_source_airport</th>\n",
       "      <th>elevation_ft_source_airport</th>\n",
       "      <th>runway_count_source_airport</th>\n",
       "      <th>type_dest_airport</th>\n",
       "      <th>elevation_ft_dest_airport</th>\n",
       "      <th>runway_count_dest_airport</th>\n",
       "      <th>data_2019_source_airport</th>\n",
       "      <th>data_2019_dest_airport</th>\n",
       "      <th>Founded</th>\n",
       "    </tr>\n",
       "  </thead>\n",
       "  <tbody>\n",
       "    <tr>\n",
       "      <th>0</th>\n",
       "      <td>1</td>\n",
       "      <td>CO</td>\n",
       "      <td>269</td>\n",
       "      <td>SFO</td>\n",
       "      <td>IAH</td>\n",
       "      <td>3</td>\n",
       "      <td>15</td>\n",
       "      <td>205</td>\n",
       "      <td>1</td>\n",
       "      <td>large_airport</td>\n",
       "      <td>13.0</td>\n",
       "      <td>4.0</td>\n",
       "      <td>large_airport</td>\n",
       "      <td>97.0</td>\n",
       "      <td>5.0</td>\n",
       "      <td>27779230.0</td>\n",
       "      <td>21905309.0</td>\n",
       "      <td>1934.0</td>\n",
       "    </tr>\n",
       "    <tr>\n",
       "      <th>1</th>\n",
       "      <td>6</td>\n",
       "      <td>CO</td>\n",
       "      <td>1094</td>\n",
       "      <td>LAX</td>\n",
       "      <td>IAH</td>\n",
       "      <td>3</td>\n",
       "      <td>30</td>\n",
       "      <td>181</td>\n",
       "      <td>1</td>\n",
       "      <td>large_airport</td>\n",
       "      <td>125.0</td>\n",
       "      <td>4.0</td>\n",
       "      <td>large_airport</td>\n",
       "      <td>97.0</td>\n",
       "      <td>5.0</td>\n",
       "      <td>42939104.0</td>\n",
       "      <td>21905309.0</td>\n",
       "      <td>1934.0</td>\n",
       "    </tr>\n",
       "    <tr>\n",
       "      <th>2</th>\n",
       "      <td>11</td>\n",
       "      <td>CO</td>\n",
       "      <td>223</td>\n",
       "      <td>ANC</td>\n",
       "      <td>SEA</td>\n",
       "      <td>3</td>\n",
       "      <td>49</td>\n",
       "      <td>201</td>\n",
       "      <td>1</td>\n",
       "      <td>large_airport</td>\n",
       "      <td>152.0</td>\n",
       "      <td>3.0</td>\n",
       "      <td>large_airport</td>\n",
       "      <td>433.0</td>\n",
       "      <td>4.0</td>\n",
       "      <td>2713843.0</td>\n",
       "      <td>25001762.0</td>\n",
       "      <td>1934.0</td>\n",
       "    </tr>\n",
       "    <tr>\n",
       "      <th>3</th>\n",
       "      <td>18</td>\n",
       "      <td>CO</td>\n",
       "      <td>1496</td>\n",
       "      <td>LAS</td>\n",
       "      <td>IAH</td>\n",
       "      <td>3</td>\n",
       "      <td>60</td>\n",
       "      <td>162</td>\n",
       "      <td>0</td>\n",
       "      <td>large_airport</td>\n",
       "      <td>2181.0</td>\n",
       "      <td>4.0</td>\n",
       "      <td>large_airport</td>\n",
       "      <td>97.0</td>\n",
       "      <td>5.0</td>\n",
       "      <td>24728361.0</td>\n",
       "      <td>21905309.0</td>\n",
       "      <td>1934.0</td>\n",
       "    </tr>\n",
       "    <tr>\n",
       "      <th>4</th>\n",
       "      <td>20</td>\n",
       "      <td>CO</td>\n",
       "      <td>507</td>\n",
       "      <td>ONT</td>\n",
       "      <td>IAH</td>\n",
       "      <td>3</td>\n",
       "      <td>75</td>\n",
       "      <td>167</td>\n",
       "      <td>0</td>\n",
       "      <td>large_airport</td>\n",
       "      <td>944.0</td>\n",
       "      <td>2.0</td>\n",
       "      <td>large_airport</td>\n",
       "      <td>97.0</td>\n",
       "      <td>5.0</td>\n",
       "      <td>2723002.0</td>\n",
       "      <td>21905309.0</td>\n",
       "      <td>1934.0</td>\n",
       "    </tr>\n",
       "  </tbody>\n",
       "</table>\n",
       "</div>"
      ],
      "text/plain": [
       "   id Airline  Flight AirportFrom AirportTo  DayOfWeek  Time  Length  Delay  \\\n",
       "0   1      CO     269         SFO       IAH          3    15     205      1   \n",
       "1   6      CO    1094         LAX       IAH          3    30     181      1   \n",
       "2  11      CO     223         ANC       SEA          3    49     201      1   \n",
       "3  18      CO    1496         LAS       IAH          3    60     162      0   \n",
       "4  20      CO     507         ONT       IAH          3    75     167      0   \n",
       "\n",
       "  type_source_airport  elevation_ft_source_airport  \\\n",
       "0       large_airport                         13.0   \n",
       "1       large_airport                        125.0   \n",
       "2       large_airport                        152.0   \n",
       "3       large_airport                       2181.0   \n",
       "4       large_airport                        944.0   \n",
       "\n",
       "   runway_count_source_airport type_dest_airport  elevation_ft_dest_airport  \\\n",
       "0                          4.0     large_airport                       97.0   \n",
       "1                          4.0     large_airport                       97.0   \n",
       "2                          3.0     large_airport                      433.0   \n",
       "3                          4.0     large_airport                       97.0   \n",
       "4                          2.0     large_airport                       97.0   \n",
       "\n",
       "   runway_count_dest_airport  data_2019_source_airport  \\\n",
       "0                        5.0                27779230.0   \n",
       "1                        5.0                42939104.0   \n",
       "2                        4.0                 2713843.0   \n",
       "3                        5.0                24728361.0   \n",
       "4                        5.0                 2723002.0   \n",
       "\n",
       "   data_2019_dest_airport  Founded  \n",
       "0              21905309.0   1934.0  \n",
       "1              21905309.0   1934.0  \n",
       "2              25001762.0   1934.0  \n",
       "3              21905309.0   1934.0  \n",
       "4              21905309.0   1934.0  "
      ]
     },
     "execution_count": 103,
     "metadata": {},
     "output_type": "execute_result"
    }
   ],
   "source": [
    "combined_data_pax.head()"
   ]
  },
  {
   "cell_type": "code",
   "execution_count": 104,
   "id": "44502f74",
   "metadata": {},
   "outputs": [
    {
     "data": {
      "text/plain": [
       "DayOfWeek\n",
       "1    47.22\n",
       "2    45.21\n",
       "3    47.58\n",
       "4    45.78\n",
       "5    42.56\n",
       "6    40.56\n",
       "7    45.77\n",
       "Name: Delay, dtype: float64"
      ]
     },
     "execution_count": 104,
     "metadata": {},
     "output_type": "execute_result"
    }
   ],
   "source": [
    "delay_perc_weekday = combined_data_pax.groupby('DayOfWeek')['Delay'].agg(percent_Delay)\n",
    "delay_perc_weekday"
   ]
  },
  {
   "cell_type": "code",
   "execution_count": 105,
   "id": "76dfece4",
   "metadata": {},
   "outputs": [
    {
     "data": {
      "image/png": "[encoded data removed]",
      "text/plain": [
       "<Figure size 1440x360 with 1 Axes>"
      ]
     },
     "metadata": {
      "needs_background": "light"
     },
     "output_type": "display_data"
    }
   ],
   "source": [
    "plt.figure(figsize = (20,5))\n",
    "plt.bar(delay_perc_weekday.index, height =  delay_perc_weekday.values, color = plt.get_cmap('Set3').colors)\n",
    "for v, idx in zip(delay_perc_weekday.values, range(1, len(delay_perc_weekday.index)+1)):\n",
    "    # print(v, idx)\n",
    "    plt.annotate('{:.1f}%'.format(v), xy = (idx-0.15, v), size = 18, family = 'times')\n",
    "plt.ylim(1,65)\n",
    "plt.xticks(size = 13)\n",
    "plt.yticks(size = 13)\n",
    "plt.title('% delays for each airline', size = 25, color = 'midnightblue', weight = 'heavy', family = 'times')\n",
    "plt.show()"
   ]
  },
  {
   "cell_type": "markdown",
   "id": "0e73d8e0",
   "metadata": {},
   "source": [
    " III. Which airlines to recommend for short, medium and long length of travel."
   ]
  },
  {
   "cell_type": "code",
   "execution_count": 106,
   "id": "5c19cb24",
   "metadata": {},
   "outputs": [],
   "source": [
    "duration_data = combined_data_pax[['Airline', 'Length', 'Delay']].copy()"
   ]
  },
  {
   "cell_type": "code",
   "execution_count": 107,
   "id": "4e960975",
   "metadata": {},
   "outputs": [
    {
     "data": {
      "text/html": [
       "<div>\n",
       "<style scoped>\n",
       "    .dataframe tbody tr th:only-of-type {\n",
       "        vertical-align: middle;\n",
       "    }\n",
       "\n",
       "    .dataframe tbody tr th {\n",
       "        vertical-align: top;\n",
       "    }\n",
       "\n",
       "    .dataframe thead th {\n",
       "        text-align: right;\n",
       "    }\n",
       "</style>\n",
       "<table border=\"1\" class=\"dataframe\">\n",
       "  <thead>\n",
       "    <tr style=\"text-align: right;\">\n",
       "      <th>duration</th>\n",
       "      <th>Airline</th>\n",
       "      <th>short</th>\n",
       "      <th>medium</th>\n",
       "      <th>long</th>\n",
       "    </tr>\n",
       "  </thead>\n",
       "  <tbody>\n",
       "    <tr>\n",
       "      <th>0</th>\n",
       "      <td>9E</td>\n",
       "      <td>39.77</td>\n",
       "      <td>0.00</td>\n",
       "      <td>0.00</td>\n",
       "    </tr>\n",
       "    <tr>\n",
       "      <th>1</th>\n",
       "      <td>AA</td>\n",
       "      <td>37.62</td>\n",
       "      <td>43.25</td>\n",
       "      <td>60.40</td>\n",
       "    </tr>\n",
       "    <tr>\n",
       "      <th>2</th>\n",
       "      <td>AS</td>\n",
       "      <td>32.58</td>\n",
       "      <td>38.17</td>\n",
       "      <td>0.00</td>\n",
       "    </tr>\n",
       "    <tr>\n",
       "      <th>3</th>\n",
       "      <td>B6</td>\n",
       "      <td>45.70</td>\n",
       "      <td>51.05</td>\n",
       "      <td>0.00</td>\n",
       "    </tr>\n",
       "    <tr>\n",
       "      <th>4</th>\n",
       "      <td>CO</td>\n",
       "      <td>52.88</td>\n",
       "      <td>64.96</td>\n",
       "      <td>66.87</td>\n",
       "    </tr>\n",
       "    <tr>\n",
       "      <th>5</th>\n",
       "      <td>DL</td>\n",
       "      <td>43.88</td>\n",
       "      <td>50.24</td>\n",
       "      <td>48.62</td>\n",
       "    </tr>\n",
       "    <tr>\n",
       "      <th>6</th>\n",
       "      <td>EV</td>\n",
       "      <td>40.22</td>\n",
       "      <td>50.00</td>\n",
       "      <td>0.00</td>\n",
       "    </tr>\n",
       "    <tr>\n",
       "      <th>7</th>\n",
       "      <td>F9</td>\n",
       "      <td>45.03</td>\n",
       "      <td>43.56</td>\n",
       "      <td>0.00</td>\n",
       "    </tr>\n",
       "    <tr>\n",
       "      <th>8</th>\n",
       "      <td>HA</td>\n",
       "      <td>30.16</td>\n",
       "      <td>40.48</td>\n",
       "      <td>0.00</td>\n",
       "    </tr>\n",
       "    <tr>\n",
       "      <th>9</th>\n",
       "      <td>MQ</td>\n",
       "      <td>34.82</td>\n",
       "      <td>27.42</td>\n",
       "      <td>0.00</td>\n",
       "    </tr>\n",
       "    <tr>\n",
       "      <th>10</th>\n",
       "      <td>OH</td>\n",
       "      <td>27.61</td>\n",
       "      <td>39.20</td>\n",
       "      <td>0.00</td>\n",
       "    </tr>\n",
       "    <tr>\n",
       "      <th>11</th>\n",
       "      <td>OO</td>\n",
       "      <td>45.25</td>\n",
       "      <td>53.03</td>\n",
       "      <td>0.00</td>\n",
       "    </tr>\n",
       "    <tr>\n",
       "      <th>12</th>\n",
       "      <td>UA</td>\n",
       "      <td>29.92</td>\n",
       "      <td>37.10</td>\n",
       "      <td>39.26</td>\n",
       "    </tr>\n",
       "    <tr>\n",
       "      <th>13</th>\n",
       "      <td>US</td>\n",
       "      <td>31.96</td>\n",
       "      <td>40.72</td>\n",
       "      <td>0.00</td>\n",
       "    </tr>\n",
       "    <tr>\n",
       "      <th>14</th>\n",
       "      <td>WN</td>\n",
       "      <td>69.12</td>\n",
       "      <td>77.61</td>\n",
       "      <td>0.00</td>\n",
       "    </tr>\n",
       "    <tr>\n",
       "      <th>15</th>\n",
       "      <td>XE</td>\n",
       "      <td>37.87</td>\n",
       "      <td>53.70</td>\n",
       "      <td>0.00</td>\n",
       "    </tr>\n",
       "    <tr>\n",
       "      <th>16</th>\n",
       "      <td>YV</td>\n",
       "      <td>24.28</td>\n",
       "      <td>25.86</td>\n",
       "      <td>0.00</td>\n",
       "    </tr>\n",
       "  </tbody>\n",
       "</table>\n",
       "</div>"
      ],
      "text/plain": [
       "duration Airline  short  medium   long\n",
       "0             9E  39.77    0.00   0.00\n",
       "1             AA  37.62   43.25  60.40\n",
       "2             AS  32.58   38.17   0.00\n",
       "3             B6  45.70   51.05   0.00\n",
       "4             CO  52.88   64.96  66.87\n",
       "5             DL  43.88   50.24  48.62\n",
       "6             EV  40.22   50.00   0.00\n",
       "7             F9  45.03   43.56   0.00\n",
       "8             HA  30.16   40.48   0.00\n",
       "9             MQ  34.82   27.42   0.00\n",
       "10            OH  27.61   39.20   0.00\n",
       "11            OO  45.25   53.03   0.00\n",
       "12            UA  29.92   37.10  39.26\n",
       "13            US  31.96   40.72   0.00\n",
       "14            WN  69.12   77.61   0.00\n",
       "15            XE  37.87   53.70   0.00\n",
       "16            YV  24.28   25.86   0.00"
      ]
     },
     "execution_count": 107,
     "metadata": {},
     "output_type": "execute_result"
    }
   ],
   "source": [
    "duration_data['duration'] = pd.cut(duration_data.Length, 3, labels = ['short', 'medium', 'long'])\n",
    "duration_data_grp = duration_data.groupby(['Airline','duration'])['Delay'].agg(\n",
    "    percent_Delay).reset_index().pivot(index = 'Airline', \n",
    "                                       columns = 'duration').fillna(0)['Delay']\n",
    "duration_data_grp.columns = duration_data_grp.columns.astype(str)\n",
    "duration_data_grp.reset_index()"
   ]
  },
  {
   "cell_type": "code",
   "execution_count": 108,
   "id": "56224dad",
   "metadata": {},
   "outputs": [
    {
     "data": {
      "text/plain": [
       "Int64Index([     0,      1,      2,      3,      4,      5,      6,      7,\n",
       "                 8,      9,\n",
       "            ...\n",
       "            518546, 518547, 518548, 518549, 518550, 518551, 518552, 518553,\n",
       "            518554, 518555],\n",
       "           dtype='int64', length=518556)"
      ]
     },
     "execution_count": 108,
     "metadata": {},
     "output_type": "execute_result"
    }
   ],
   "source": [
    "duration_data.index"
   ]
  },
  {
   "cell_type": "code",
   "execution_count": 109,
   "id": "d6ffc0ed",
   "metadata": {},
   "outputs": [],
   "source": [
    "# get names of airlines also"
   ]
  },
  {
   "cell_type": "code",
   "execution_count": 112,
   "id": "3112977e",
   "metadata": {},
   "outputs": [
    {
     "data": {
      "text/html": [
       "<div>\n",
       "<style scoped>\n",
       "    .dataframe tbody tr th:only-of-type {\n",
       "        vertical-align: middle;\n",
       "    }\n",
       "\n",
       "    .dataframe tbody tr th {\n",
       "        vertical-align: top;\n",
       "    }\n",
       "\n",
       "    .dataframe thead th {\n",
       "        text-align: right;\n",
       "    }\n",
       "</style>\n",
       "<table border=\"1\" class=\"dataframe\">\n",
       "  <thead>\n",
       "    <tr style=\"text-align: right;\">\n",
       "      <th></th>\n",
       "      <th>Airlines ID</th>\n",
       "      <th>Description</th>\n",
       "    </tr>\n",
       "  </thead>\n",
       "  <tbody>\n",
       "    <tr>\n",
       "      <th>0</th>\n",
       "      <td>WN</td>\n",
       "      <td>Southwest</td>\n",
       "    </tr>\n",
       "    <tr>\n",
       "      <th>1</th>\n",
       "      <td>DL</td>\n",
       "      <td>Delta</td>\n",
       "    </tr>\n",
       "    <tr>\n",
       "      <th>2</th>\n",
       "      <td>OO</td>\n",
       "      <td>Skywest</td>\n",
       "    </tr>\n",
       "    <tr>\n",
       "      <th>3</th>\n",
       "      <td>AA</td>\n",
       "      <td>American Airlines</td>\n",
       "    </tr>\n",
       "    <tr>\n",
       "      <th>4</th>\n",
       "      <td>MQ</td>\n",
       "      <td>Envoy</td>\n",
       "    </tr>\n",
       "    <tr>\n",
       "      <th>...</th>\n",
       "      <td>...</td>\n",
       "      <td>...</td>\n",
       "    </tr>\n",
       "    <tr>\n",
       "      <th>683</th>\n",
       "      <td>XNA</td>\n",
       "      <td>Nambour Hospital Helipad</td>\n",
       "    </tr>\n",
       "    <tr>\n",
       "      <th>684</th>\n",
       "      <td>YAK</td>\n",
       "      <td>Aussenkehr Airport</td>\n",
       "    </tr>\n",
       "    <tr>\n",
       "      <th>685</th>\n",
       "      <td>YAK</td>\n",
       "      <td>Congo Town Airport</td>\n",
       "    </tr>\n",
       "    <tr>\n",
       "      <th>686</th>\n",
       "      <td>YAK</td>\n",
       "      <td>Yalkulka Airport</td>\n",
       "    </tr>\n",
       "    <tr>\n",
       "      <th>687</th>\n",
       "      <td>YUM</td>\n",
       "      <td>Yuinmery Airport</td>\n",
       "    </tr>\n",
       "  </tbody>\n",
       "</table>\n",
       "<p>688 rows × 2 columns</p>\n",
       "</div>"
      ],
      "text/plain": [
       "    Airlines ID               Description\n",
       "0            WN                 Southwest\n",
       "1            DL                     Delta\n",
       "2            OO                   Skywest\n",
       "3            AA         American Airlines\n",
       "4            MQ                     Envoy\n",
       "..          ...                       ...\n",
       "683         XNA  Nambour Hospital Helipad\n",
       "684         YAK        Aussenkehr Airport\n",
       "685         YAK        Congo Town Airport\n",
       "686         YAK          Yalkulka Airport\n",
       "687         YUM          Yuinmery Airport\n",
       "\n",
       "[688 rows x 2 columns]"
      ]
     },
     "execution_count": 112,
     "metadata": {},
     "output_type": "execute_result"
    }
   ],
   "source": [
    "airline_dict"
   ]
  },
  {
   "cell_type": "code",
   "execution_count": 113,
   "id": "dc2e21f7",
   "metadata": {},
   "outputs": [
    {
     "data": {
      "text/html": [
       "<div>\n",
       "<style scoped>\n",
       "    .dataframe tbody tr th:only-of-type {\n",
       "        vertical-align: middle;\n",
       "    }\n",
       "\n",
       "    .dataframe tbody tr th {\n",
       "        vertical-align: top;\n",
       "    }\n",
       "\n",
       "    .dataframe thead th {\n",
       "        text-align: right;\n",
       "    }\n",
       "</style>\n",
       "<table border=\"1\" class=\"dataframe\">\n",
       "  <thead>\n",
       "    <tr style=\"text-align: right;\">\n",
       "      <th></th>\n",
       "      <th>short</th>\n",
       "      <th>medium</th>\n",
       "      <th>long</th>\n",
       "      <th>Airlines ID</th>\n",
       "      <th>Description</th>\n",
       "    </tr>\n",
       "  </thead>\n",
       "  <tbody>\n",
       "    <tr>\n",
       "      <th>0</th>\n",
       "      <td>39.77</td>\n",
       "      <td>0.00</td>\n",
       "      <td>0.00</td>\n",
       "      <td>9E</td>\n",
       "      <td>Endeavor</td>\n",
       "    </tr>\n",
       "    <tr>\n",
       "      <th>1</th>\n",
       "      <td>37.62</td>\n",
       "      <td>43.25</td>\n",
       "      <td>60.40</td>\n",
       "      <td>AA</td>\n",
       "      <td>American Airlines</td>\n",
       "    </tr>\n",
       "    <tr>\n",
       "      <th>2</th>\n",
       "      <td>32.58</td>\n",
       "      <td>38.17</td>\n",
       "      <td>0.00</td>\n",
       "      <td>AS</td>\n",
       "      <td>Alaska</td>\n",
       "    </tr>\n",
       "    <tr>\n",
       "      <th>3</th>\n",
       "      <td>45.70</td>\n",
       "      <td>51.05</td>\n",
       "      <td>0.00</td>\n",
       "      <td>B6</td>\n",
       "      <td>Jetblue</td>\n",
       "    </tr>\n",
       "    <tr>\n",
       "      <th>4</th>\n",
       "      <td>52.88</td>\n",
       "      <td>64.96</td>\n",
       "      <td>66.87</td>\n",
       "      <td>CO</td>\n",
       "      <td>United Airlines (initially CO)</td>\n",
       "    </tr>\n",
       "    <tr>\n",
       "      <th>5</th>\n",
       "      <td>43.88</td>\n",
       "      <td>50.24</td>\n",
       "      <td>48.62</td>\n",
       "      <td>DL</td>\n",
       "      <td>Delta</td>\n",
       "    </tr>\n",
       "    <tr>\n",
       "      <th>6</th>\n",
       "      <td>40.22</td>\n",
       "      <td>50.00</td>\n",
       "      <td>0.00</td>\n",
       "      <td>EV</td>\n",
       "      <td>ExpressJet</td>\n",
       "    </tr>\n",
       "    <tr>\n",
       "      <th>7</th>\n",
       "      <td>45.03</td>\n",
       "      <td>43.56</td>\n",
       "      <td>0.00</td>\n",
       "      <td>F9</td>\n",
       "      <td>Frontier</td>\n",
       "    </tr>\n",
       "    <tr>\n",
       "      <th>8</th>\n",
       "      <td>30.16</td>\n",
       "      <td>40.48</td>\n",
       "      <td>0.00</td>\n",
       "      <td>HA</td>\n",
       "      <td>Hawaiian</td>\n",
       "    </tr>\n",
       "    <tr>\n",
       "      <th>9</th>\n",
       "      <td>34.82</td>\n",
       "      <td>27.42</td>\n",
       "      <td>0.00</td>\n",
       "      <td>MQ</td>\n",
       "      <td>Envoy</td>\n",
       "    </tr>\n",
       "    <tr>\n",
       "      <th>10</th>\n",
       "      <td>27.61</td>\n",
       "      <td>39.20</td>\n",
       "      <td>0.00</td>\n",
       "      <td>OH</td>\n",
       "      <td>PSA</td>\n",
       "    </tr>\n",
       "    <tr>\n",
       "      <th>11</th>\n",
       "      <td>45.25</td>\n",
       "      <td>53.03</td>\n",
       "      <td>0.00</td>\n",
       "      <td>OO</td>\n",
       "      <td>Skywest</td>\n",
       "    </tr>\n",
       "    <tr>\n",
       "      <th>12</th>\n",
       "      <td>29.92</td>\n",
       "      <td>37.10</td>\n",
       "      <td>39.26</td>\n",
       "      <td>UA</td>\n",
       "      <td>United Airlines</td>\n",
       "    </tr>\n",
       "    <tr>\n",
       "      <th>13</th>\n",
       "      <td>31.96</td>\n",
       "      <td>40.72</td>\n",
       "      <td>0.00</td>\n",
       "      <td>US</td>\n",
       "      <td>PSA (initially US Airway Express)</td>\n",
       "    </tr>\n",
       "    <tr>\n",
       "      <th>14</th>\n",
       "      <td>69.12</td>\n",
       "      <td>77.61</td>\n",
       "      <td>0.00</td>\n",
       "      <td>WN</td>\n",
       "      <td>Southwest</td>\n",
       "    </tr>\n",
       "    <tr>\n",
       "      <th>15</th>\n",
       "      <td>37.87</td>\n",
       "      <td>53.70</td>\n",
       "      <td>0.00</td>\n",
       "      <td>XE</td>\n",
       "      <td>JSX</td>\n",
       "    </tr>\n",
       "    <tr>\n",
       "      <th>16</th>\n",
       "      <td>24.28</td>\n",
       "      <td>25.86</td>\n",
       "      <td>0.00</td>\n",
       "      <td>YV</td>\n",
       "      <td>Mesa</td>\n",
       "    </tr>\n",
       "  </tbody>\n",
       "</table>\n",
       "</div>"
      ],
      "text/plain": [
       "    short  medium   long Airlines ID                        Description\n",
       "0   39.77    0.00   0.00          9E                           Endeavor\n",
       "1   37.62   43.25  60.40          AA                  American Airlines\n",
       "2   32.58   38.17   0.00          AS                             Alaska\n",
       "3   45.70   51.05   0.00          B6                            Jetblue\n",
       "4   52.88   64.96  66.87          CO     United Airlines (initially CO)\n",
       "5   43.88   50.24  48.62          DL                              Delta\n",
       "6   40.22   50.00   0.00          EV                         ExpressJet\n",
       "7   45.03   43.56   0.00          F9                           Frontier\n",
       "8   30.16   40.48   0.00          HA                           Hawaiian\n",
       "9   34.82   27.42   0.00          MQ                              Envoy\n",
       "10  27.61   39.20   0.00          OH                                PSA\n",
       "11  45.25   53.03   0.00          OO                            Skywest\n",
       "12  29.92   37.10  39.26          UA                    United Airlines\n",
       "13  31.96   40.72   0.00          US  PSA (initially US Airway Express)\n",
       "14  69.12   77.61   0.00          WN                          Southwest\n",
       "15  37.87   53.70   0.00          XE                                JSX\n",
       "16  24.28   25.86   0.00          YV                               Mesa"
      ]
     },
     "execution_count": 113,
     "metadata": {},
     "output_type": "execute_result"
    }
   ],
   "source": [
    "airline_dict.Description = airline_dict.Description.str.strip()\n",
    "duration_data_grp = pd.merge(duration_data_grp,airline_dict[['Airlines ID', 'Description']],\n",
    "         left_on = 'Airline', right_on = 'Airlines ID', \n",
    "         how = 'left')\n",
    "duration_data_grp"
   ]
  },
  {
   "cell_type": "code",
   "execution_count": 114,
   "id": "28cce979",
   "metadata": {},
   "outputs": [
    {
     "data": {
      "text/plain": [
       "17"
      ]
     },
     "execution_count": 114,
     "metadata": {},
     "output_type": "execute_result"
    }
   ],
   "source": [
    "combined_data_pax.Airline.nunique()"
   ]
  },
  {
   "cell_type": "code",
   "execution_count": 115,
   "id": "8ad53cb0",
   "metadata": {},
   "outputs": [
    {
     "name": "stdout",
     "output_type": "stream",
     "text": [
      "Airlines with no delays for long flights :\n",
      " Endeavor, Alaska, Jetblue, ExpressJet, Frontier, Hawaiian, Envoy, PSA, Skywest, PSA (initially US Airway Express), Southwest, JSX, Mesa\n",
      "\n",
      "Airlines with no delays for medium flights :\n",
      " Endeavor\n",
      "\n",
      "Airlines with no delays for short flights :\n",
      " Mesa\n"
     ]
    }
   ],
   "source": [
    "long = duration_data_grp[duration_data_grp.long == duration_data_grp.long.min()].Description.values.tolist()\n",
    "print('Airlines with no delays for long flights :\\n',', '.join(long))\n",
    "medium = duration_data_grp[duration_data_grp.medium == duration_data_grp.medium.min()].Description.values.tolist()\n",
    "print('\\nAirlines with no delays for medium flights :\\n', ', '.join(medium))\n",
    "short = duration_data_grp[duration_data_grp.short == duration_data_grp.short.min()].Description.values.tolist()\n",
    "print('\\nAirlines with no delays for short flights :\\n',  ', '.join(short)     )"
   ]
  },
  {
   "cell_type": "markdown",
   "id": "a0fa3827",
   "metadata": {},
   "source": [
    "IV.    Do you observe any pattern in the time of departure of flights of long duration"
   ]
  },
  {
   "cell_type": "code",
   "execution_count": 116,
   "id": "c0868ad6",
   "metadata": {},
   "outputs": [],
   "source": [
    "combined_data_pax['duration'] = pd.cut(combined_data_pax.Length, 3, labels = ['short', 'medium', 'long'])"
   ]
  },
  {
   "cell_type": "code",
   "execution_count": 119,
   "id": "56d02e0d",
   "metadata": {},
   "outputs": [
    {
     "data": {
      "text/html": [
       "<div>\n",
       "<style scoped>\n",
       "    .dataframe tbody tr th:only-of-type {\n",
       "        vertical-align: middle;\n",
       "    }\n",
       "\n",
       "    .dataframe tbody tr th {\n",
       "        vertical-align: top;\n",
       "    }\n",
       "\n",
       "    .dataframe thead th {\n",
       "        text-align: right;\n",
       "    }\n",
       "</style>\n",
       "<table border=\"1\" class=\"dataframe\">\n",
       "  <thead>\n",
       "    <tr style=\"text-align: right;\">\n",
       "      <th></th>\n",
       "      <th>id</th>\n",
       "      <th>Airline</th>\n",
       "      <th>Flight</th>\n",
       "      <th>AirportFrom</th>\n",
       "      <th>AirportTo</th>\n",
       "      <th>DayOfWeek</th>\n",
       "      <th>Time</th>\n",
       "      <th>Length</th>\n",
       "      <th>Delay</th>\n",
       "      <th>type_source_airport</th>\n",
       "      <th>elevation_ft_source_airport</th>\n",
       "      <th>runway_count_source_airport</th>\n",
       "      <th>type_dest_airport</th>\n",
       "      <th>elevation_ft_dest_airport</th>\n",
       "      <th>runway_count_dest_airport</th>\n",
       "      <th>data_2019_source_airport</th>\n",
       "      <th>data_2019_dest_airport</th>\n",
       "      <th>Founded</th>\n",
       "      <th>duration</th>\n",
       "    </tr>\n",
       "  </thead>\n",
       "  <tbody>\n",
       "    <tr>\n",
       "      <th>0</th>\n",
       "      <td>1</td>\n",
       "      <td>CO</td>\n",
       "      <td>269</td>\n",
       "      <td>SFO</td>\n",
       "      <td>IAH</td>\n",
       "      <td>3</td>\n",
       "      <td>15</td>\n",
       "      <td>205</td>\n",
       "      <td>1</td>\n",
       "      <td>large_airport</td>\n",
       "      <td>13.0</td>\n",
       "      <td>4.0</td>\n",
       "      <td>large_airport</td>\n",
       "      <td>97.0</td>\n",
       "      <td>5.0</td>\n",
       "      <td>27779230.0</td>\n",
       "      <td>21905309.0</td>\n",
       "      <td>1934.0</td>\n",
       "      <td>short</td>\n",
       "    </tr>\n",
       "    <tr>\n",
       "      <th>1</th>\n",
       "      <td>6</td>\n",
       "      <td>CO</td>\n",
       "      <td>1094</td>\n",
       "      <td>LAX</td>\n",
       "      <td>IAH</td>\n",
       "      <td>3</td>\n",
       "      <td>30</td>\n",
       "      <td>181</td>\n",
       "      <td>1</td>\n",
       "      <td>large_airport</td>\n",
       "      <td>125.0</td>\n",
       "      <td>4.0</td>\n",
       "      <td>large_airport</td>\n",
       "      <td>97.0</td>\n",
       "      <td>5.0</td>\n",
       "      <td>42939104.0</td>\n",
       "      <td>21905309.0</td>\n",
       "      <td>1934.0</td>\n",
       "      <td>short</td>\n",
       "    </tr>\n",
       "  </tbody>\n",
       "</table>\n",
       "</div>"
      ],
      "text/plain": [
       "   id Airline  Flight AirportFrom AirportTo  DayOfWeek  Time  Length  Delay  \\\n",
       "0   1      CO     269         SFO       IAH          3    15     205      1   \n",
       "1   6      CO    1094         LAX       IAH          3    30     181      1   \n",
       "\n",
       "  type_source_airport  elevation_ft_source_airport  \\\n",
       "0       large_airport                         13.0   \n",
       "1       large_airport                        125.0   \n",
       "\n",
       "   runway_count_source_airport type_dest_airport  elevation_ft_dest_airport  \\\n",
       "0                          4.0     large_airport                       97.0   \n",
       "1                          4.0     large_airport                       97.0   \n",
       "\n",
       "   runway_count_dest_airport  data_2019_source_airport  \\\n",
       "0                        5.0                27779230.0   \n",
       "1                        5.0                42939104.0   \n",
       "\n",
       "   data_2019_dest_airport  Founded duration  \n",
       "0              21905309.0   1934.0    short  \n",
       "1              21905309.0   1934.0    short  "
      ]
     },
     "execution_count": 119,
     "metadata": {},
     "output_type": "execute_result"
    }
   ],
   "source": [
    "combined_data_pax.head(2)"
   ]
  },
  {
   "cell_type": "code",
   "execution_count": 118,
   "id": "7c7c0e8c",
   "metadata": {},
   "outputs": [
    {
     "data": {
      "text/plain": [
       "Time\n",
       "10      0\n",
       "15      0\n",
       "20      0\n",
       "21      0\n",
       "25      0\n",
       "       ..\n",
       "1428    0\n",
       "1430    0\n",
       "1431    0\n",
       "1435    0\n",
       "1439    0\n",
       "Name: long, Length: 1131, dtype: int64"
      ]
     },
     "execution_count": 118,
     "metadata": {},
     "output_type": "execute_result"
    }
   ],
   "source": [
    "pd.crosstab(combined_data_pax.Time, combined_data_pax.duration)['long']"
   ]
  },
  {
   "cell_type": "code",
   "execution_count": 120,
   "id": "0d637c6a",
   "metadata": {},
   "outputs": [],
   "source": [
    "y = pd.crosstab(combined_data_pax.Time, combined_data_pax.duration)['long'].index\n",
    "x = pd.crosstab(combined_data_pax.Time, combined_data_pax.duration)['long'].values"
   ]
  },
  {
   "cell_type": "code",
   "execution_count": 121,
   "id": "b6ddeebc",
   "metadata": {},
   "outputs": [],
   "source": [
    "filter_data = combined_data_pax.loc[combined_data_pax.duration == 'long', ['Time', 'duration']]"
   ]
  },
  {
   "cell_type": "code",
   "execution_count": 122,
   "id": "9bba6538",
   "metadata": {},
   "outputs": [
    {
     "data": {
      "text/plain": [
       "count     559.000000\n",
       "mean      840.635063\n",
       "std       221.020092\n",
       "min       540.000000\n",
       "25%       670.000000\n",
       "50%       717.000000\n",
       "75%      1045.000000\n",
       "max      1310.000000\n",
       "Name: Time, dtype: float64"
      ]
     },
     "execution_count": 122,
     "metadata": {},
     "output_type": "execute_result"
    }
   ],
   "source": [
    "filter_data.Time.describe()"
   ]
  },
  {
   "cell_type": "code",
   "execution_count": 123,
   "id": "6fc0332f",
   "metadata": {},
   "outputs": [
    {
     "data": {
      "image/png": "[encoded data removed]",
      "text/plain": [
       "<Figure size 432x288 with 1 Axes>"
      ]
     },
     "metadata": {
      "needs_background": "light"
     },
     "output_type": "display_data"
    }
   ],
   "source": [
    "plt.hist(filter_data.Time, bins = 12)\n",
    "plt.show()"
   ]
  },
  {
   "cell_type": "markdown",
   "id": "d3738469",
   "metadata": {},
   "source": [
    "# 3. How Large Hubs compare to Medium hubs in terms of count of delayed flights. Use appropriate visualization to represent your findings."
   ]
  },
  {
   "cell_type": "code",
   "execution_count": 125,
   "id": "010c71f2",
   "metadata": {},
   "outputs": [
    {
     "data": {
      "text/html": [
       "<div>\n",
       "<style scoped>\n",
       "    .dataframe tbody tr th:only-of-type {\n",
       "        vertical-align: middle;\n",
       "    }\n",
       "\n",
       "    .dataframe tbody tr th {\n",
       "        vertical-align: top;\n",
       "    }\n",
       "\n",
       "    .dataframe thead th {\n",
       "        text-align: right;\n",
       "    }\n",
       "</style>\n",
       "<table border=\"1\" class=\"dataframe\">\n",
       "  <thead>\n",
       "    <tr style=\"text-align: right;\">\n",
       "      <th></th>\n",
       "      <th>id</th>\n",
       "      <th>Airline</th>\n",
       "      <th>Flight</th>\n",
       "      <th>AirportFrom</th>\n",
       "      <th>AirportTo</th>\n",
       "      <th>DayOfWeek</th>\n",
       "      <th>Time</th>\n",
       "      <th>Length</th>\n",
       "      <th>Delay</th>\n",
       "      <th>type_source_airport</th>\n",
       "      <th>elevation_ft_source_airport</th>\n",
       "      <th>runway_count_source_airport</th>\n",
       "      <th>type_dest_airport</th>\n",
       "      <th>elevation_ft_dest_airport</th>\n",
       "      <th>runway_count_dest_airport</th>\n",
       "      <th>data_2019_source_airport</th>\n",
       "      <th>data_2019_dest_airport</th>\n",
       "      <th>Founded</th>\n",
       "      <th>duration</th>\n",
       "    </tr>\n",
       "  </thead>\n",
       "  <tbody>\n",
       "    <tr>\n",
       "      <th>0</th>\n",
       "      <td>1</td>\n",
       "      <td>CO</td>\n",
       "      <td>269</td>\n",
       "      <td>SFO</td>\n",
       "      <td>IAH</td>\n",
       "      <td>3</td>\n",
       "      <td>15</td>\n",
       "      <td>205</td>\n",
       "      <td>1</td>\n",
       "      <td>large_airport</td>\n",
       "      <td>13.0</td>\n",
       "      <td>4.0</td>\n",
       "      <td>large_airport</td>\n",
       "      <td>97.0</td>\n",
       "      <td>5.0</td>\n",
       "      <td>27779230.0</td>\n",
       "      <td>21905309.0</td>\n",
       "      <td>1934.0</td>\n",
       "      <td>short</td>\n",
       "    </tr>\n",
       "    <tr>\n",
       "      <th>1</th>\n",
       "      <td>6</td>\n",
       "      <td>CO</td>\n",
       "      <td>1094</td>\n",
       "      <td>LAX</td>\n",
       "      <td>IAH</td>\n",
       "      <td>3</td>\n",
       "      <td>30</td>\n",
       "      <td>181</td>\n",
       "      <td>1</td>\n",
       "      <td>large_airport</td>\n",
       "      <td>125.0</td>\n",
       "      <td>4.0</td>\n",
       "      <td>large_airport</td>\n",
       "      <td>97.0</td>\n",
       "      <td>5.0</td>\n",
       "      <td>42939104.0</td>\n",
       "      <td>21905309.0</td>\n",
       "      <td>1934.0</td>\n",
       "      <td>short</td>\n",
       "    </tr>\n",
       "    <tr>\n",
       "      <th>2</th>\n",
       "      <td>11</td>\n",
       "      <td>CO</td>\n",
       "      <td>223</td>\n",
       "      <td>ANC</td>\n",
       "      <td>SEA</td>\n",
       "      <td>3</td>\n",
       "      <td>49</td>\n",
       "      <td>201</td>\n",
       "      <td>1</td>\n",
       "      <td>large_airport</td>\n",
       "      <td>152.0</td>\n",
       "      <td>3.0</td>\n",
       "      <td>large_airport</td>\n",
       "      <td>433.0</td>\n",
       "      <td>4.0</td>\n",
       "      <td>2713843.0</td>\n",
       "      <td>25001762.0</td>\n",
       "      <td>1934.0</td>\n",
       "      <td>short</td>\n",
       "    </tr>\n",
       "    <tr>\n",
       "      <th>3</th>\n",
       "      <td>18</td>\n",
       "      <td>CO</td>\n",
       "      <td>1496</td>\n",
       "      <td>LAS</td>\n",
       "      <td>IAH</td>\n",
       "      <td>3</td>\n",
       "      <td>60</td>\n",
       "      <td>162</td>\n",
       "      <td>0</td>\n",
       "      <td>large_airport</td>\n",
       "      <td>2181.0</td>\n",
       "      <td>4.0</td>\n",
       "      <td>large_airport</td>\n",
       "      <td>97.0</td>\n",
       "      <td>5.0</td>\n",
       "      <td>24728361.0</td>\n",
       "      <td>21905309.0</td>\n",
       "      <td>1934.0</td>\n",
       "      <td>short</td>\n",
       "    </tr>\n",
       "    <tr>\n",
       "      <th>4</th>\n",
       "      <td>20</td>\n",
       "      <td>CO</td>\n",
       "      <td>507</td>\n",
       "      <td>ONT</td>\n",
       "      <td>IAH</td>\n",
       "      <td>3</td>\n",
       "      <td>75</td>\n",
       "      <td>167</td>\n",
       "      <td>0</td>\n",
       "      <td>large_airport</td>\n",
       "      <td>944.0</td>\n",
       "      <td>2.0</td>\n",
       "      <td>large_airport</td>\n",
       "      <td>97.0</td>\n",
       "      <td>5.0</td>\n",
       "      <td>2723002.0</td>\n",
       "      <td>21905309.0</td>\n",
       "      <td>1934.0</td>\n",
       "      <td>short</td>\n",
       "    </tr>\n",
       "  </tbody>\n",
       "</table>\n",
       "</div>"
      ],
      "text/plain": [
       "   id Airline  Flight AirportFrom AirportTo  DayOfWeek  Time  Length  Delay  \\\n",
       "0   1      CO     269         SFO       IAH          3    15     205      1   \n",
       "1   6      CO    1094         LAX       IAH          3    30     181      1   \n",
       "2  11      CO     223         ANC       SEA          3    49     201      1   \n",
       "3  18      CO    1496         LAS       IAH          3    60     162      0   \n",
       "4  20      CO     507         ONT       IAH          3    75     167      0   \n",
       "\n",
       "  type_source_airport  elevation_ft_source_airport  \\\n",
       "0       large_airport                         13.0   \n",
       "1       large_airport                        125.0   \n",
       "2       large_airport                        152.0   \n",
       "3       large_airport                       2181.0   \n",
       "4       large_airport                        944.0   \n",
       "\n",
       "   runway_count_source_airport type_dest_airport  elevation_ft_dest_airport  \\\n",
       "0                          4.0     large_airport                       97.0   \n",
       "1                          4.0     large_airport                       97.0   \n",
       "2                          3.0     large_airport                      433.0   \n",
       "3                          4.0     large_airport                       97.0   \n",
       "4                          2.0     large_airport                       97.0   \n",
       "\n",
       "   runway_count_dest_airport  data_2019_source_airport  \\\n",
       "0                        5.0                27779230.0   \n",
       "1                        5.0                42939104.0   \n",
       "2                        4.0                 2713843.0   \n",
       "3                        5.0                24728361.0   \n",
       "4                        5.0                 2723002.0   \n",
       "\n",
       "   data_2019_dest_airport  Founded duration  \n",
       "0              21905309.0   1934.0    short  \n",
       "1              21905309.0   1934.0    short  \n",
       "2              25001762.0   1934.0    short  \n",
       "3              21905309.0   1934.0    short  \n",
       "4              21905309.0   1934.0    short  "
      ]
     },
     "execution_count": 125,
     "metadata": {},
     "output_type": "execute_result"
    }
   ],
   "source": [
    "combined_data_pax.head()"
   ]
  },
  {
   "cell_type": "code",
   "execution_count": 126,
   "id": "254cfefc",
   "metadata": {},
   "outputs": [
    {
     "data": {
      "text/plain": [
       "<AxesSubplot:xlabel='type_source_airport'>"
      ]
     },
     "execution_count": 126,
     "metadata": {},
     "output_type": "execute_result"
    },
    {
     "data": {
      "image/png": "[encoded data removed]",
      "text/plain": [
       "<Figure size 432x288 with 1 Axes>"
      ]
     },
     "metadata": {
      "needs_background": "light"
     },
     "output_type": "display_data"
    }
   ],
   "source": [
    "combined_data_pax.groupby('type_source_airport')[['Delay']].agg('sum').plot.bar()"
   ]
  },
  {
   "cell_type": "code",
   "execution_count": 127,
   "id": "29f04b06",
   "metadata": {},
   "outputs": [
    {
     "data": {
      "text/plain": [
       "<AxesSubplot:xlabel='type_dest_airport'>"
      ]
     },
     "execution_count": 127,
     "metadata": {},
     "output_type": "execute_result"
    },
    {
     "data": {
      "image/png": "[encoded data removed]",
      "text/plain": [
       "<Figure size 432x288 with 1 Axes>"
      ]
     },
     "metadata": {
      "needs_background": "light"
     },
     "output_type": "display_data"
    }
   ],
   "source": [
    "combined_data_pax.groupby('type_dest_airport')[['Delay']].agg('sum').plot.bar()"
   ]
  },
  {
   "cell_type": "markdown",
   "id": "a7d614e5",
   "metadata": {},
   "source": [
    "# 4. For Large hubs, forecast the number of passengers for 2022 using simple moving average method."
   ]
  },
  {
   "cell_type": "code",
   "execution_count": 128,
   "id": "815499ae",
   "metadata": {},
   "outputs": [],
   "source": [
    "# develop the series "
   ]
  },
  {
   "cell_type": "code",
   "execution_count": 129,
   "id": "68ae91f4",
   "metadata": {},
   "outputs": [],
   "source": [
    "cols = ['iatacode'] + final_hub_data.columns[ final_hub_data.columns.str.startswith('data_')].tolist()\n"
   ]
  },
  {
   "cell_type": "code",
   "execution_count": 130,
   "id": "c8baaab9",
   "metadata": {},
   "outputs": [],
   "source": [
    "time_series = final_hub_data.loc[final_hub_data.hub_type == 'large', cols].set_index('iatacode').T"
   ]
  },
  {
   "cell_type": "code",
   "execution_count": 131,
   "id": "e7396036",
   "metadata": {},
   "outputs": [
    {
     "data": {
      "text/plain": [
       "data_2021    36676010\n",
       "data_2020    20559866\n",
       "data_2019    53505795\n",
       "data_2018    51865797\n",
       "data_2017    50251964\n",
       "data_2016    50501858\n",
       "data_2015    49340732\n",
       "data_2014    46604273\n",
       "data_2013    45308407\n",
       "data_2012    45798928\n",
       "Name: ATL, dtype: int64"
      ]
     },
     "execution_count": 131,
     "metadata": {},
     "output_type": "execute_result"
    }
   ],
   "source": [
    "time_series['ATL']"
   ]
  },
  {
   "cell_type": "code",
   "execution_count": 132,
   "id": "e2806c40",
   "metadata": {},
   "outputs": [],
   "source": [
    "# there are 28 series with 11 values each \n"
   ]
  },
  {
   "cell_type": "code",
   "execution_count": 133,
   "id": "c0c01ab4",
   "metadata": {},
   "outputs": [
    {
     "data": {
      "image/png": "[encoded data removed]",
      "text/plain": [
       "<Figure size 1080x576 with 1 Axes>"
      ]
     },
     "metadata": {
      "needs_background": "light"
     },
     "output_type": "display_data"
    }
   ],
   "source": [
    "plt.figure(figsize = (15,8))\n",
    "for ser in time_series.columns:\n",
    "    plt.plot(time_series[ser], label = ser)\n",
    "    plt.legend()\n",
    "plt.show(block = True)"
   ]
  },
  {
   "cell_type": "code",
   "execution_count": 134,
   "id": "4a98b730",
   "metadata": {},
   "outputs": [
    {
     "data": {
      "image/png": "[encoded data removed]",
      "text/plain": [
       "<Figure size 432x288 with 4 Axes>"
      ]
     },
     "metadata": {
      "needs_background": "light"
     },
     "output_type": "display_data"
    },
    {
     "data": {
      "image/png": "[encoded data removed]",
      "text/plain": [
       "<Figure size 432x288 with 4 Axes>"
      ]
     },
     "metadata": {
      "needs_background": "light"
     },
     "output_type": "display_data"
    },
    {
     "data": {
      "image/png": "[encoded data removed]",
      "text/plain": [
       "<Figure size 432x288 with 4 Axes>"
      ]
     },
     "metadata": {
      "needs_background": "light"
     },
     "output_type": "display_data"
    },
    {
     "data": {
      "image/png": "[encoded data removed]",
      "text/plain": [
       "<Figure size 432x288 with 4 Axes>"
      ]
     },
     "metadata": {
      "needs_background": "light"
     },
     "output_type": "display_data"
    }
   ],
   "source": [
    "for ser in time_series.columns[:4]:\n",
    "    series = time_series[ser].copy()\n",
    "    series.index = pd.to_datetime(series.index.str.replace('data_',''))\n",
    "    series.sort_index(inplace = True)\n",
    "    decomposition = sm.tsa.seasonal_decompose(series, model='multiplicative') \n",
    "    decomposition.plot()\n",
    "plt.show()"
   ]
  },
  {
   "cell_type": "code",
   "execution_count": 135,
   "id": "a540ae5b",
   "metadata": {},
   "outputs": [],
   "source": [
    "error = {}\n",
    "forecast_2022 = {}\n",
    "f = {}\n",
    "wind_min = {}\n",
    "win_min_mape = {}\n",
    "for ser in time_series.columns:\n",
    "    series = time_series[ser].copy()\n",
    "    series.index = pd.to_datetime(series.index.str.replace('data_',''))\n",
    "    series.sort_index(inplace = True)\n",
    "    test = series[-1:]\n",
    "    train = series[:-1]\n",
    "    err_temp = {}\n",
    "    fore_2022 = {}\n",
    "    for window in range(2,10):\n",
    "        forecast = series.rolling(window).mean()\n",
    "        # accuracy \n",
    "        mape = round(mean_absolute_percentage_error(test, forecast[-1:]),4)\n",
    "        err_temp.update({window : mape})\n",
    "        # forecast for 2022\n",
    "        fore_2022.update({window : series[-window:].mean()})\n",
    "    err_ser = pd.Series(err_temp)\n",
    "    min_wind = err_ser[(err_ser == err_ser.min())].index.values[0]\n",
    "    forecast_2022.update({ser : round(series[-min_wind:].mean(),2)})\n",
    "    wind_min.update({ser : min_wind})\n",
    "    win_min_mape.update({ser :err_temp[min_wind] })\n",
    "    f.update({ser :pd.Series(fore_2022).round(2) })\n",
    "    error.update({ser : err_ser})\n",
    "    \n",
    "    # forecast for 2022\n"
   ]
  },
  {
   "cell_type": "code",
   "execution_count": 136,
   "id": "294c7d96",
   "metadata": {},
   "outputs": [
    {
     "data": {
      "text/plain": [
       "{'ATL': 0.0065,\n",
       " 'DFW': 0.0015,\n",
       " 'DEN': 0.023,\n",
       " 'ORD': 0.0351,\n",
       " 'LAX': 0.1362,\n",
       " 'CLT': 0.0006,\n",
       " 'MCO': 0.0077,\n",
       " 'LAS': 0.0212,\n",
       " 'PHX': 0.0001,\n",
       " 'MIA': 0.0182,\n",
       " 'SEA': 0.0076,\n",
       " 'IAH': 0.0389,\n",
       " 'JFK': 0.1912,\n",
       " 'EWR': 0.0486,\n",
       " 'FLL': 0.0122,\n",
       " 'MSP': 0.0502,\n",
       " 'SFO': 0.1697,\n",
       " 'DTW': 0.0559,\n",
       " 'BOS': 0.1502,\n",
       " 'SLC': 0.0062,\n",
       " 'PHL': 0.0719,\n",
       " 'BWI': 0.0082,\n",
       " 'TPA': 0.0029,\n",
       " 'SAN': 0.0686,\n",
       " 'LGA': 0.1655,\n",
       " 'MDW': 0.0453,\n",
       " 'BNA': 0.0598,\n",
       " 'IAD': 0.0595,\n",
       " 'DCA': 0.0844,\n",
       " 'AUS': 0.0017}"
      ]
     },
     "execution_count": 136,
     "metadata": {},
     "output_type": "execute_result"
    }
   ],
   "source": [
    "win_min_mape"
   ]
  },
  {
   "cell_type": "code",
   "execution_count": 137,
   "id": "97cb2681",
   "metadata": {},
   "outputs": [],
   "source": [
    "sma_forecast = pd.DataFrame(f)\n",
    "sma_error = pd.DataFrame(error)"
   ]
  },
  {
   "cell_type": "code",
   "execution_count": 138,
   "id": "c545802f",
   "metadata": {},
   "outputs": [],
   "source": [
    "sma_prediction = pd.DataFrame(forecast_2022.values(), index = forecast_2022.keys(), columns = ['forecast_2022'] )\n",
    "sma_prediction['window_used'] = wind_min.values()\n",
    "sma_prediction['mape_at_window'] = win_min_mape.values()"
   ]
  },
  {
   "cell_type": "code",
   "execution_count": 139,
   "id": "0065670a",
   "metadata": {},
   "outputs": [
    {
     "data": {
      "text/html": [
       "<div>\n",
       "<style scoped>\n",
       "    .dataframe tbody tr th:only-of-type {\n",
       "        vertical-align: middle;\n",
       "    }\n",
       "\n",
       "    .dataframe tbody tr th {\n",
       "        vertical-align: top;\n",
       "    }\n",
       "\n",
       "    .dataframe thead th {\n",
       "        text-align: right;\n",
       "    }\n",
       "</style>\n",
       "<table border=\"1\" class=\"dataframe\">\n",
       "  <thead>\n",
       "    <tr style=\"text-align: right;\">\n",
       "      <th></th>\n",
       "      <th>forecast_2022</th>\n",
       "      <th>window_used</th>\n",
       "      <th>mape_at_window</th>\n",
       "    </tr>\n",
       "  </thead>\n",
       "  <tbody>\n",
       "    <tr>\n",
       "      <th>ATL</th>\n",
       "      <td>36913890.33</td>\n",
       "      <td>3</td>\n",
       "      <td>0.0065</td>\n",
       "    </tr>\n",
       "    <tr>\n",
       "      <th>DFW</th>\n",
       "      <td>30049928.50</td>\n",
       "      <td>6</td>\n",
       "      <td>0.0015</td>\n",
       "    </tr>\n",
       "    <tr>\n",
       "      <th>DEN</th>\n",
       "      <td>27986853.33</td>\n",
       "      <td>6</td>\n",
       "      <td>0.0230</td>\n",
       "    </tr>\n",
       "    <tr>\n",
       "      <th>ORD</th>\n",
       "      <td>27276077.67</td>\n",
       "      <td>3</td>\n",
       "      <td>0.0351</td>\n",
       "    </tr>\n",
       "    <tr>\n",
       "      <th>LAX</th>\n",
       "      <td>26886097.00</td>\n",
       "      <td>3</td>\n",
       "      <td>0.1362</td>\n",
       "    </tr>\n",
       "    <tr>\n",
       "      <th>CLT</th>\n",
       "      <td>20913675.38</td>\n",
       "      <td>8</td>\n",
       "      <td>0.0006</td>\n",
       "    </tr>\n",
       "    <tr>\n",
       "      <th>MCO</th>\n",
       "      <td>19467356.50</td>\n",
       "      <td>8</td>\n",
       "      <td>0.0077</td>\n",
       "    </tr>\n",
       "    <tr>\n",
       "      <th>LAS</th>\n",
       "      <td>19566943.50</td>\n",
       "      <td>4</td>\n",
       "      <td>0.0212</td>\n",
       "    </tr>\n",
       "    <tr>\n",
       "      <th>PHX</th>\n",
       "      <td>18942662.60</td>\n",
       "      <td>5</td>\n",
       "      <td>0.0001</td>\n",
       "    </tr>\n",
       "    <tr>\n",
       "      <th>MIA</th>\n",
       "      <td>17182193.50</td>\n",
       "      <td>4</td>\n",
       "      <td>0.0182</td>\n",
       "    </tr>\n",
       "    <tr>\n",
       "      <th>SEA</th>\n",
       "      <td>17298122.67</td>\n",
       "      <td>3</td>\n",
       "      <td>0.0076</td>\n",
       "    </tr>\n",
       "    <tr>\n",
       "      <th>IAH</th>\n",
       "      <td>15610229.33</td>\n",
       "      <td>3</td>\n",
       "      <td>0.0389</td>\n",
       "    </tr>\n",
       "    <tr>\n",
       "      <th>JFK</th>\n",
       "      <td>18193272.00</td>\n",
       "      <td>3</td>\n",
       "      <td>0.1912</td>\n",
       "    </tr>\n",
       "    <tr>\n",
       "      <th>EWR</th>\n",
       "      <td>15220095.33</td>\n",
       "      <td>3</td>\n",
       "      <td>0.0486</td>\n",
       "    </tr>\n",
       "    <tr>\n",
       "      <th>FLL</th>\n",
       "      <td>13765555.89</td>\n",
       "      <td>9</td>\n",
       "      <td>0.0122</td>\n",
       "    </tr>\n",
       "    <tr>\n",
       "      <th>MSP</th>\n",
       "      <td>12824682.00</td>\n",
       "      <td>3</td>\n",
       "      <td>0.0502</td>\n",
       "    </tr>\n",
       "    <tr>\n",
       "      <th>SFO</th>\n",
       "      <td>9735202.00</td>\n",
       "      <td>2</td>\n",
       "      <td>0.1697</td>\n",
       "    </tr>\n",
       "    <tr>\n",
       "      <th>DTW</th>\n",
       "      <td>12161020.00</td>\n",
       "      <td>3</td>\n",
       "      <td>0.0559</td>\n",
       "    </tr>\n",
       "    <tr>\n",
       "      <th>BOS</th>\n",
       "      <td>12548215.33</td>\n",
       "      <td>3</td>\n",
       "      <td>0.1502</td>\n",
       "    </tr>\n",
       "    <tr>\n",
       "      <th>SLC</th>\n",
       "      <td>10729401.33</td>\n",
       "      <td>6</td>\n",
       "      <td>0.0062</td>\n",
       "    </tr>\n",
       "    <tr>\n",
       "      <th>PHL</th>\n",
       "      <td>10526616.67</td>\n",
       "      <td>3</td>\n",
       "      <td>0.0719</td>\n",
       "    </tr>\n",
       "    <tr>\n",
       "      <th>BWI</th>\n",
       "      <td>9329867.67</td>\n",
       "      <td>3</td>\n",
       "      <td>0.0082</td>\n",
       "    </tr>\n",
       "    <tr>\n",
       "      <th>TPA</th>\n",
       "      <td>8872731.89</td>\n",
       "      <td>9</td>\n",
       "      <td>0.0029</td>\n",
       "    </tr>\n",
       "    <tr>\n",
       "      <th>SAN</th>\n",
       "      <td>8374302.67</td>\n",
       "      <td>3</td>\n",
       "      <td>0.0686</td>\n",
       "    </tr>\n",
       "    <tr>\n",
       "      <th>LGA</th>\n",
       "      <td>9122674.67</td>\n",
       "      <td>3</td>\n",
       "      <td>0.1655</td>\n",
       "    </tr>\n",
       "    <tr>\n",
       "      <th>MDW</th>\n",
       "      <td>7333000.33</td>\n",
       "      <td>3</td>\n",
       "      <td>0.0453</td>\n",
       "    </tr>\n",
       "    <tr>\n",
       "      <th>BNA</th>\n",
       "      <td>7140261.25</td>\n",
       "      <td>4</td>\n",
       "      <td>0.0598</td>\n",
       "    </tr>\n",
       "    <tr>\n",
       "      <th>IAD</th>\n",
       "      <td>7658216.67</td>\n",
       "      <td>3</td>\n",
       "      <td>0.0595</td>\n",
       "    </tr>\n",
       "    <tr>\n",
       "      <th>DCA</th>\n",
       "      <td>7300226.67</td>\n",
       "      <td>3</td>\n",
       "      <td>0.0844</td>\n",
       "    </tr>\n",
       "    <tr>\n",
       "      <th>AUS</th>\n",
       "      <td>6677268.60</td>\n",
       "      <td>5</td>\n",
       "      <td>0.0017</td>\n",
       "    </tr>\n",
       "  </tbody>\n",
       "</table>\n",
       "</div>"
      ],
      "text/plain": [
       "     forecast_2022  window_used  mape_at_window\n",
       "ATL    36913890.33            3          0.0065\n",
       "DFW    30049928.50            6          0.0015\n",
       "DEN    27986853.33            6          0.0230\n",
       "ORD    27276077.67            3          0.0351\n",
       "LAX    26886097.00            3          0.1362\n",
       "CLT    20913675.38            8          0.0006\n",
       "MCO    19467356.50            8          0.0077\n",
       "LAS    19566943.50            4          0.0212\n",
       "PHX    18942662.60            5          0.0001\n",
       "MIA    17182193.50            4          0.0182\n",
       "SEA    17298122.67            3          0.0076\n",
       "IAH    15610229.33            3          0.0389\n",
       "JFK    18193272.00            3          0.1912\n",
       "EWR    15220095.33            3          0.0486\n",
       "FLL    13765555.89            9          0.0122\n",
       "MSP    12824682.00            3          0.0502\n",
       "SFO     9735202.00            2          0.1697\n",
       "DTW    12161020.00            3          0.0559\n",
       "BOS    12548215.33            3          0.1502\n",
       "SLC    10729401.33            6          0.0062\n",
       "PHL    10526616.67            3          0.0719\n",
       "BWI     9329867.67            3          0.0082\n",
       "TPA     8872731.89            9          0.0029\n",
       "SAN     8374302.67            3          0.0686\n",
       "LGA     9122674.67            3          0.1655\n",
       "MDW     7333000.33            3          0.0453\n",
       "BNA     7140261.25            4          0.0598\n",
       "IAD     7658216.67            3          0.0595\n",
       "DCA     7300226.67            3          0.0844\n",
       "AUS     6677268.60            5          0.0017"
      ]
     },
     "execution_count": 139,
     "metadata": {},
     "output_type": "execute_result"
    }
   ],
   "source": [
    "sma_prediction"
   ]
  },
  {
   "cell_type": "markdown",
   "id": "7494893c",
   "metadata": {},
   "source": [
    "5. Perform hypothesis testing techniques to learn:\n",
    "\n",
    "I. Has the altitude of the airport anything to do with flight delays. Check for incoming and outgoing flights II. Has surface-type of runways of airports anything to do with flight delays III. Has length, duration of flight, anything to do with flight delays"
   ]
  },
  {
   "cell_type": "markdown",
   "id": "2a548a5d",
   "metadata": {},
   "source": [
    "# I. Has the altitude of the airport anything to do with flight delays. Check for incoming and outgoing flights 2 sample t test for outgoing"
   ]
  },
  {
   "cell_type": "markdown",
   "id": "fc061908",
   "metadata": {},
   "source": [
    "H0 : avg elevation for Delayed flights - avg elevation for not Delayed flights = 0\n",
    "\n",
    "Ha : avg elevation for Delayed flights - avg elevation for not Delayed flights != 0"
   ]
  },
  {
   "cell_type": "code",
   "execution_count": 141,
   "id": "4dc6b55e",
   "metadata": {},
   "outputs": [],
   "source": [
    "sample1 = combined_data_pax[combined_data_pax.Delay == 1].elevation_ft_source_airport\n",
    "sample2 = combined_data_pax[combined_data_pax.Delay == 0].elevation_ft_source_airport"
   ]
  },
  {
   "cell_type": "code",
   "execution_count": 142,
   "id": "152b0818",
   "metadata": {},
   "outputs": [],
   "source": [
    "t, p = stats.ttest_ind(sample1, sample2)"
   ]
  },
  {
   "cell_type": "code",
   "execution_count": 143,
   "id": "f2750211",
   "metadata": {},
   "outputs": [],
   "source": [
    "if p < 0.05:\n",
    "    result = 'reject null'\n",
    "else :\n",
    "    result = 'fail to reject null'"
   ]
  },
  {
   "cell_type": "code",
   "execution_count": 144,
   "id": "87e05c9c",
   "metadata": {},
   "outputs": [
    {
     "data": {
      "text/plain": [
       "'reject null'"
      ]
     },
     "execution_count": 144,
     "metadata": {},
     "output_type": "execute_result"
    }
   ],
   "source": [
    "result"
   ]
  },
  {
   "cell_type": "markdown",
   "id": "792a2f6d",
   "metadata": {},
   "source": [
    "# for incoming flights"
   ]
  },
  {
   "cell_type": "markdown",
   "id": "0b6912de",
   "metadata": {},
   "source": [
    "H0 : avg elevation for Delayed flights - avg elevation for not Delayed flights = 0\n",
    "    \n",
    "Ha : avg elevation for Delayed flights - avg elevation for not Delayed flights != 0"
   ]
  },
  {
   "cell_type": "code",
   "execution_count": 145,
   "id": "e3944397",
   "metadata": {},
   "outputs": [],
   "source": [
    "sample1 = combined_data_pax[combined_data_pax.Delay == 1].elevation_ft_dest_airport\n",
    "sample2 = combined_data_pax[combined_data_pax.Delay == 0].elevation_ft_dest_airport"
   ]
  },
  {
   "cell_type": "code",
   "execution_count": 146,
   "id": "0ffcbbbb",
   "metadata": {},
   "outputs": [],
   "source": [
    "t, p = stats.ttest_ind(sample1, sample2)"
   ]
  },
  {
   "cell_type": "code",
   "execution_count": 147,
   "id": "b79b7836",
   "metadata": {},
   "outputs": [],
   "source": [
    "if p < 0.05:\n",
    "    result = 'reject null'\n",
    "else :\n",
    "    result = 'fail to reject null'"
   ]
  },
  {
   "cell_type": "code",
   "execution_count": 148,
   "id": "7f9cff04",
   "metadata": {},
   "outputs": [
    {
     "data": {
      "text/plain": [
       "'reject null'"
      ]
     },
     "execution_count": 148,
     "metadata": {},
     "output_type": "execute_result"
    }
   ],
   "source": [
    "result"
   ]
  },
  {
   "cell_type": "markdown",
   "id": "72624105",
   "metadata": {},
   "source": [
    "Conclusion : Significant difference in avg elevation wrt flight delay for both incoming and outgoing flights is                                                           \n",
    "\n",
    "no. of runway at airport for delayed < for non delayed"
   ]
  },
  {
   "cell_type": "markdown",
   "id": "09d0b314",
   "metadata": {},
   "source": [
    "# t test :\n",
    "\n",
    "H0 : avg runway count for delayed filghts - avg runway count for non delayed flights => 0 \n",
    "    \n",
    "Ha : avg runway count for delayed filghts - avg runway count for non delayed flights < 0 "
   ]
  },
  {
   "cell_type": "code",
   "execution_count": 150,
   "id": "f726daff",
   "metadata": {},
   "outputs": [
    {
     "data": {
      "text/html": [
       "<div>\n",
       "<style scoped>\n",
       "    .dataframe tbody tr th:only-of-type {\n",
       "        vertical-align: middle;\n",
       "    }\n",
       "\n",
       "    .dataframe tbody tr th {\n",
       "        vertical-align: top;\n",
       "    }\n",
       "\n",
       "    .dataframe thead th {\n",
       "        text-align: right;\n",
       "    }\n",
       "</style>\n",
       "<table border=\"1\" class=\"dataframe\">\n",
       "  <thead>\n",
       "    <tr style=\"text-align: right;\">\n",
       "      <th></th>\n",
       "      <th>id</th>\n",
       "      <th>Airline</th>\n",
       "      <th>Flight</th>\n",
       "      <th>AirportFrom</th>\n",
       "      <th>AirportTo</th>\n",
       "      <th>DayOfWeek</th>\n",
       "      <th>Time</th>\n",
       "      <th>Length</th>\n",
       "      <th>Delay</th>\n",
       "      <th>type_source_airport</th>\n",
       "      <th>elevation_ft_source_airport</th>\n",
       "      <th>runway_count_source_airport</th>\n",
       "      <th>type_dest_airport</th>\n",
       "      <th>elevation_ft_dest_airport</th>\n",
       "      <th>runway_count_dest_airport</th>\n",
       "      <th>data_2019_source_airport</th>\n",
       "      <th>data_2019_dest_airport</th>\n",
       "      <th>Founded</th>\n",
       "      <th>duration</th>\n",
       "    </tr>\n",
       "  </thead>\n",
       "  <tbody>\n",
       "    <tr>\n",
       "      <th>0</th>\n",
       "      <td>1</td>\n",
       "      <td>CO</td>\n",
       "      <td>269</td>\n",
       "      <td>SFO</td>\n",
       "      <td>IAH</td>\n",
       "      <td>3</td>\n",
       "      <td>15</td>\n",
       "      <td>205</td>\n",
       "      <td>1</td>\n",
       "      <td>large_airport</td>\n",
       "      <td>13.0</td>\n",
       "      <td>4.0</td>\n",
       "      <td>large_airport</td>\n",
       "      <td>97.0</td>\n",
       "      <td>5.0</td>\n",
       "      <td>27779230.0</td>\n",
       "      <td>21905309.0</td>\n",
       "      <td>1934.0</td>\n",
       "      <td>short</td>\n",
       "    </tr>\n",
       "    <tr>\n",
       "      <th>1</th>\n",
       "      <td>6</td>\n",
       "      <td>CO</td>\n",
       "      <td>1094</td>\n",
       "      <td>LAX</td>\n",
       "      <td>IAH</td>\n",
       "      <td>3</td>\n",
       "      <td>30</td>\n",
       "      <td>181</td>\n",
       "      <td>1</td>\n",
       "      <td>large_airport</td>\n",
       "      <td>125.0</td>\n",
       "      <td>4.0</td>\n",
       "      <td>large_airport</td>\n",
       "      <td>97.0</td>\n",
       "      <td>5.0</td>\n",
       "      <td>42939104.0</td>\n",
       "      <td>21905309.0</td>\n",
       "      <td>1934.0</td>\n",
       "      <td>short</td>\n",
       "    </tr>\n",
       "    <tr>\n",
       "      <th>2</th>\n",
       "      <td>11</td>\n",
       "      <td>CO</td>\n",
       "      <td>223</td>\n",
       "      <td>ANC</td>\n",
       "      <td>SEA</td>\n",
       "      <td>3</td>\n",
       "      <td>49</td>\n",
       "      <td>201</td>\n",
       "      <td>1</td>\n",
       "      <td>large_airport</td>\n",
       "      <td>152.0</td>\n",
       "      <td>3.0</td>\n",
       "      <td>large_airport</td>\n",
       "      <td>433.0</td>\n",
       "      <td>4.0</td>\n",
       "      <td>2713843.0</td>\n",
       "      <td>25001762.0</td>\n",
       "      <td>1934.0</td>\n",
       "      <td>short</td>\n",
       "    </tr>\n",
       "    <tr>\n",
       "      <th>3</th>\n",
       "      <td>18</td>\n",
       "      <td>CO</td>\n",
       "      <td>1496</td>\n",
       "      <td>LAS</td>\n",
       "      <td>IAH</td>\n",
       "      <td>3</td>\n",
       "      <td>60</td>\n",
       "      <td>162</td>\n",
       "      <td>0</td>\n",
       "      <td>large_airport</td>\n",
       "      <td>2181.0</td>\n",
       "      <td>4.0</td>\n",
       "      <td>large_airport</td>\n",
       "      <td>97.0</td>\n",
       "      <td>5.0</td>\n",
       "      <td>24728361.0</td>\n",
       "      <td>21905309.0</td>\n",
       "      <td>1934.0</td>\n",
       "      <td>short</td>\n",
       "    </tr>\n",
       "    <tr>\n",
       "      <th>4</th>\n",
       "      <td>20</td>\n",
       "      <td>CO</td>\n",
       "      <td>507</td>\n",
       "      <td>ONT</td>\n",
       "      <td>IAH</td>\n",
       "      <td>3</td>\n",
       "      <td>75</td>\n",
       "      <td>167</td>\n",
       "      <td>0</td>\n",
       "      <td>large_airport</td>\n",
       "      <td>944.0</td>\n",
       "      <td>2.0</td>\n",
       "      <td>large_airport</td>\n",
       "      <td>97.0</td>\n",
       "      <td>5.0</td>\n",
       "      <td>2723002.0</td>\n",
       "      <td>21905309.0</td>\n",
       "      <td>1934.0</td>\n",
       "      <td>short</td>\n",
       "    </tr>\n",
       "    <tr>\n",
       "      <th>...</th>\n",
       "      <td>...</td>\n",
       "      <td>...</td>\n",
       "      <td>...</td>\n",
       "      <td>...</td>\n",
       "      <td>...</td>\n",
       "      <td>...</td>\n",
       "      <td>...</td>\n",
       "      <td>...</td>\n",
       "      <td>...</td>\n",
       "      <td>...</td>\n",
       "      <td>...</td>\n",
       "      <td>...</td>\n",
       "      <td>...</td>\n",
       "      <td>...</td>\n",
       "      <td>...</td>\n",
       "      <td>...</td>\n",
       "      <td>...</td>\n",
       "      <td>...</td>\n",
       "      <td>...</td>\n",
       "    </tr>\n",
       "    <tr>\n",
       "      <th>518551</th>\n",
       "      <td>538750</td>\n",
       "      <td>WN</td>\n",
       "      <td>2601</td>\n",
       "      <td>LAS</td>\n",
       "      <td>SMF</td>\n",
       "      <td>5</td>\n",
       "      <td>1230</td>\n",
       "      <td>85</td>\n",
       "      <td>1</td>\n",
       "      <td>large_airport</td>\n",
       "      <td>2181.0</td>\n",
       "      <td>4.0</td>\n",
       "      <td>large_airport</td>\n",
       "      <td>27.0</td>\n",
       "      <td>2.0</td>\n",
       "      <td>24728361.0</td>\n",
       "      <td>6454413.0</td>\n",
       "      <td>1967.0</td>\n",
       "      <td>short</td>\n",
       "    </tr>\n",
       "    <tr>\n",
       "      <th>518552</th>\n",
       "      <td>538783</td>\n",
       "      <td>WN</td>\n",
       "      <td>1936</td>\n",
       "      <td>SMF</td>\n",
       "      <td>SAN</td>\n",
       "      <td>5</td>\n",
       "      <td>1235</td>\n",
       "      <td>85</td>\n",
       "      <td>1</td>\n",
       "      <td>large_airport</td>\n",
       "      <td>27.0</td>\n",
       "      <td>2.0</td>\n",
       "      <td>large_airport</td>\n",
       "      <td>17.0</td>\n",
       "      <td>1.0</td>\n",
       "      <td>6454413.0</td>\n",
       "      <td>12648692.0</td>\n",
       "      <td>1967.0</td>\n",
       "      <td>short</td>\n",
       "    </tr>\n",
       "    <tr>\n",
       "      <th>518553</th>\n",
       "      <td>538810</td>\n",
       "      <td>WN</td>\n",
       "      <td>2629</td>\n",
       "      <td>LAS</td>\n",
       "      <td>RNO</td>\n",
       "      <td>5</td>\n",
       "      <td>1240</td>\n",
       "      <td>75</td>\n",
       "      <td>1</td>\n",
       "      <td>large_airport</td>\n",
       "      <td>2181.0</td>\n",
       "      <td>4.0</td>\n",
       "      <td>large_airport</td>\n",
       "      <td>4415.0</td>\n",
       "      <td>3.0</td>\n",
       "      <td>24728361.0</td>\n",
       "      <td>2162250.0</td>\n",
       "      <td>1967.0</td>\n",
       "      <td>short</td>\n",
       "    </tr>\n",
       "    <tr>\n",
       "      <th>518554</th>\n",
       "      <td>538833</td>\n",
       "      <td>WN</td>\n",
       "      <td>1226</td>\n",
       "      <td>SFO</td>\n",
       "      <td>LAX</td>\n",
       "      <td>5</td>\n",
       "      <td>1245</td>\n",
       "      <td>75</td>\n",
       "      <td>1</td>\n",
       "      <td>large_airport</td>\n",
       "      <td>13.0</td>\n",
       "      <td>4.0</td>\n",
       "      <td>large_airport</td>\n",
       "      <td>125.0</td>\n",
       "      <td>4.0</td>\n",
       "      <td>27779230.0</td>\n",
       "      <td>42939104.0</td>\n",
       "      <td>1967.0</td>\n",
       "      <td>short</td>\n",
       "    </tr>\n",
       "    <tr>\n",
       "      <th>518555</th>\n",
       "      <td>538834</td>\n",
       "      <td>WN</td>\n",
       "      <td>2370</td>\n",
       "      <td>LAX</td>\n",
       "      <td>SFO</td>\n",
       "      <td>5</td>\n",
       "      <td>1245</td>\n",
       "      <td>75</td>\n",
       "      <td>1</td>\n",
       "      <td>large_airport</td>\n",
       "      <td>125.0</td>\n",
       "      <td>4.0</td>\n",
       "      <td>large_airport</td>\n",
       "      <td>13.0</td>\n",
       "      <td>4.0</td>\n",
       "      <td>42939104.0</td>\n",
       "      <td>27779230.0</td>\n",
       "      <td>1967.0</td>\n",
       "      <td>short</td>\n",
       "    </tr>\n",
       "  </tbody>\n",
       "</table>\n",
       "<p>518556 rows × 19 columns</p>\n",
       "</div>"
      ],
      "text/plain": [
       "            id Airline  Flight AirportFrom AirportTo  DayOfWeek  Time  Length  \\\n",
       "0            1      CO     269         SFO       IAH          3    15     205   \n",
       "1            6      CO    1094         LAX       IAH          3    30     181   \n",
       "2           11      CO     223         ANC       SEA          3    49     201   \n",
       "3           18      CO    1496         LAS       IAH          3    60     162   \n",
       "4           20      CO     507         ONT       IAH          3    75     167   \n",
       "...        ...     ...     ...         ...       ...        ...   ...     ...   \n",
       "518551  538750      WN    2601         LAS       SMF          5  1230      85   \n",
       "518552  538783      WN    1936         SMF       SAN          5  1235      85   \n",
       "518553  538810      WN    2629         LAS       RNO          5  1240      75   \n",
       "518554  538833      WN    1226         SFO       LAX          5  1245      75   \n",
       "518555  538834      WN    2370         LAX       SFO          5  1245      75   \n",
       "\n",
       "        Delay type_source_airport  elevation_ft_source_airport  \\\n",
       "0           1       large_airport                         13.0   \n",
       "1           1       large_airport                        125.0   \n",
       "2           1       large_airport                        152.0   \n",
       "3           0       large_airport                       2181.0   \n",
       "4           0       large_airport                        944.0   \n",
       "...       ...                 ...                          ...   \n",
       "518551      1       large_airport                       2181.0   \n",
       "518552      1       large_airport                         27.0   \n",
       "518553      1       large_airport                       2181.0   \n",
       "518554      1       large_airport                         13.0   \n",
       "518555      1       large_airport                        125.0   \n",
       "\n",
       "        runway_count_source_airport type_dest_airport  \\\n",
       "0                               4.0     large_airport   \n",
       "1                               4.0     large_airport   \n",
       "2                               3.0     large_airport   \n",
       "3                               4.0     large_airport   \n",
       "4                               2.0     large_airport   \n",
       "...                             ...               ...   \n",
       "518551                          4.0     large_airport   \n",
       "518552                          2.0     large_airport   \n",
       "518553                          4.0     large_airport   \n",
       "518554                          4.0     large_airport   \n",
       "518555                          4.0     large_airport   \n",
       "\n",
       "        elevation_ft_dest_airport  runway_count_dest_airport  \\\n",
       "0                            97.0                        5.0   \n",
       "1                            97.0                        5.0   \n",
       "2                           433.0                        4.0   \n",
       "3                            97.0                        5.0   \n",
       "4                            97.0                        5.0   \n",
       "...                           ...                        ...   \n",
       "518551                       27.0                        2.0   \n",
       "518552                       17.0                        1.0   \n",
       "518553                     4415.0                        3.0   \n",
       "518554                      125.0                        4.0   \n",
       "518555                       13.0                        4.0   \n",
       "\n",
       "        data_2019_source_airport  data_2019_dest_airport  Founded duration  \n",
       "0                     27779230.0              21905309.0   1934.0    short  \n",
       "1                     42939104.0              21905309.0   1934.0    short  \n",
       "2                      2713843.0              25001762.0   1934.0    short  \n",
       "3                     24728361.0              21905309.0   1934.0    short  \n",
       "4                      2723002.0              21905309.0   1934.0    short  \n",
       "...                          ...                     ...      ...      ...  \n",
       "518551                24728361.0               6454413.0   1967.0    short  \n",
       "518552                 6454413.0              12648692.0   1967.0    short  \n",
       "518553                24728361.0               2162250.0   1967.0    short  \n",
       "518554                27779230.0              42939104.0   1967.0    short  \n",
       "518555                42939104.0              27779230.0   1967.0    short  \n",
       "\n",
       "[518556 rows x 19 columns]"
      ]
     },
     "execution_count": 150,
     "metadata": {},
     "output_type": "execute_result"
    }
   ],
   "source": [
    "combined_data_pax"
   ]
  },
  {
   "cell_type": "code",
   "execution_count": 151,
   "id": "05fa009a",
   "metadata": {},
   "outputs": [],
   "source": [
    "s1 = combined_data_pax[combined_data_pax.Delay == 1].runway_count_source_airport\n",
    "s2 = combined_data_pax[combined_data_pax.Delay == 0].runway_count_source_airport"
   ]
  },
  {
   "cell_type": "code",
   "execution_count": 152,
   "id": "1dbbe842",
   "metadata": {},
   "outputs": [
    {
     "name": "stdout",
     "output_type": "stream",
     "text": [
      "reject null\n"
     ]
    }
   ],
   "source": [
    "t, p = stats.ttest_ind(s1, s2)\n",
    "if p < 0.05:\n",
    "    result = 'reject null'\n",
    "else :\n",
    "    result = 'fail to reject null'\n",
    "print(result)"
   ]
  },
  {
   "cell_type": "code",
   "execution_count": 153,
   "id": "fb7f8713",
   "metadata": {},
   "outputs": [],
   "source": [
    "s1 = combined_data_pax[combined_data_pax.Delay == 1].runway_count_dest_airport\n",
    "s2 = combined_data_pax[combined_data_pax.Delay == 0].runway_count_dest_airport"
   ]
  },
  {
   "cell_type": "code",
   "execution_count": 154,
   "id": "ad9ccbb9",
   "metadata": {},
   "outputs": [
    {
     "name": "stdout",
     "output_type": "stream",
     "text": [
      "reject null\n"
     ]
    }
   ],
   "source": [
    "t, p = stats.ttest_ind(s1, s2)\n",
    "if p < 0.05:\n",
    "    result = 'reject null'\n",
    "else :\n",
    "    result = 'fail to reject null'\n",
    "print(result)"
   ]
  },
  {
   "cell_type": "code",
   "execution_count": 155,
   "id": "e07631cc",
   "metadata": {},
   "outputs": [
    {
     "data": {
      "text/plain": [
       "Index(['id', 'Airline', 'Flight', 'AirportFrom', 'AirportTo', 'DayOfWeek',\n",
       "       'Time', 'Length', 'Delay', 'type_source_airport',\n",
       "       'elevation_ft_source_airport', 'runway_count_source_airport',\n",
       "       'type_dest_airport', 'elevation_ft_dest_airport',\n",
       "       'runway_count_dest_airport', 'data_2019_source_airport',\n",
       "       'data_2019_dest_airport', 'Founded', 'duration'],\n",
       "      dtype='object')"
      ]
     },
     "execution_count": 155,
     "metadata": {},
     "output_type": "execute_result"
    }
   ],
   "source": [
    "combined_data_pax.columns"
   ]
  },
  {
   "cell_type": "code",
   "execution_count": 156,
   "id": "a004b0c6",
   "metadata": {},
   "outputs": [
    {
     "data": {
      "image/png": "[encoded data removed]",
      "text/plain": [
       "<Figure size 432x288 with 2 Axes>"
      ]
     },
     "metadata": {
      "needs_background": "light"
     },
     "output_type": "display_data"
    }
   ],
   "source": [
    "# Find correlation matrix amongst predictors of flight delay. Create a heatmap to visualize. Share your findings.\n",
    "\n",
    "correlation_matix = combined_data_pax.drop(columns = ['DayOfWeek', 'Time', 'Length', 'Delay','type_source_airport','type_dest_airport']).corr()\n",
    "\n",
    "sns.heatmap(correlation_matix, cmap='Blues',linecolor='white', linewidths=2)\n",
    "plt.show()"
   ]
  },
  {
   "cell_type": "markdown",
   "id": "37579b9d",
   "metadata": {},
   "source": [
    "Conclusion : \n",
    "\n",
    "avg runway count at destination airport for delayed filghts < avg runway count at destination airport for delayed filghts for Incoming flights\n",
    "Has length, duration of flight, anything to do with flight delays!"
   ]
  },
  {
   "cell_type": "markdown",
   "id": "05e62330",
   "metadata": {},
   "source": [
    "# t test :\n",
    "\n",
    "H0 : avg duration for delayed filghts - avg duration for non delayed flights = 0 \n",
    "    \n",
    "Ha : avg duration for delayed filghts - avg duration for non delayed flights != 0 "
   ]
  },
  {
   "cell_type": "code",
   "execution_count": 158,
   "id": "e9fed70e",
   "metadata": {},
   "outputs": [],
   "source": [
    "s1 = combined_data_pax[combined_data_pax.Delay == 1].Length\n",
    "s2 = combined_data_pax[combined_data_pax.Delay == 0].Length"
   ]
  },
  {
   "cell_type": "code",
   "execution_count": 159,
   "id": "9bc7d9c7",
   "metadata": {},
   "outputs": [],
   "source": [
    "t, p = stats.ttest_ind(s1, s2)"
   ]
  },
  {
   "cell_type": "code",
   "execution_count": 160,
   "id": "8421db83",
   "metadata": {},
   "outputs": [
    {
     "name": "stdout",
     "output_type": "stream",
     "text": [
      "reject null\n"
     ]
    }
   ],
   "source": [
    "if p < 0.05:\n",
    "    result = 'reject null'\n",
    "else :\n",
    "    result = 'fail to reject null'\n",
    "print(result)"
   ]
  },
  {
   "cell_type": "code",
   "execution_count": 161,
   "id": "3c7511c1",
   "metadata": {},
   "outputs": [],
   "source": [
    "# there is isgnificant difference"
   ]
  },
  {
   "cell_type": "code",
   "execution_count": 162,
   "id": "db0ce811",
   "metadata": {},
   "outputs": [
    {
     "data": {
      "text/html": [
       "<div>\n",
       "<style scoped>\n",
       "    .dataframe tbody tr th:only-of-type {\n",
       "        vertical-align: middle;\n",
       "    }\n",
       "\n",
       "    .dataframe tbody tr th {\n",
       "        vertical-align: top;\n",
       "    }\n",
       "\n",
       "    .dataframe thead th {\n",
       "        text-align: right;\n",
       "    }\n",
       "</style>\n",
       "<table border=\"1\" class=\"dataframe\">\n",
       "  <thead>\n",
       "    <tr style=\"text-align: right;\">\n",
       "      <th>Delay</th>\n",
       "      <th>0</th>\n",
       "      <th>1</th>\n",
       "    </tr>\n",
       "    <tr>\n",
       "      <th>duration</th>\n",
       "      <th></th>\n",
       "      <th></th>\n",
       "    </tr>\n",
       "  </thead>\n",
       "  <tbody>\n",
       "    <tr>\n",
       "      <th>short</th>\n",
       "      <td>255324</td>\n",
       "      <td>204474</td>\n",
       "    </tr>\n",
       "    <tr>\n",
       "      <th>medium</th>\n",
       "      <td>28991</td>\n",
       "      <td>29208</td>\n",
       "    </tr>\n",
       "    <tr>\n",
       "      <th>long</th>\n",
       "      <td>252</td>\n",
       "      <td>307</td>\n",
       "    </tr>\n",
       "  </tbody>\n",
       "</table>\n",
       "</div>"
      ],
      "text/plain": [
       "Delay          0       1\n",
       "duration                \n",
       "short     255324  204474\n",
       "medium     28991   29208\n",
       "long         252     307"
      ]
     },
     "execution_count": 162,
     "metadata": {},
     "output_type": "execute_result"
    }
   ],
   "source": [
    "cs = pd.crosstab(combined_data_pax.duration, combined_data_pax.Delay)\n",
    "cs"
   ]
  },
  {
   "cell_type": "code",
   "execution_count": 163,
   "id": "1540d78f",
   "metadata": {},
   "outputs": [
    {
     "name": "stdout",
     "output_type": "stream",
     "text": [
      "reject null\n"
     ]
    }
   ],
   "source": [
    "chi, p, df, ex = stats.chi2_contingency(cs)\n",
    "if p < 0.05:\n",
    "    result = 'reject null'\n",
    "else :\n",
    "    result = 'fail to reject null'\n",
    "print(result)"
   ]
  },
  {
   "cell_type": "markdown",
   "id": "03bdaee5",
   "metadata": {},
   "source": [
    "# t test :\n",
    "\n",
    "H0 : avg duration for delayed filghts - avg duration for non delayed flights <= 0 \n",
    "    \n",
    "Ha : avg duration for delayed filghts - avg duration for non delayed flights > 0 "
   ]
  },
  {
   "cell_type": "code",
   "execution_count": 164,
   "id": "6c50045d",
   "metadata": {},
   "outputs": [
    {
     "name": "stdout",
     "output_type": "stream",
     "text": [
      "reject null\n"
     ]
    }
   ],
   "source": [
    "t, p = stats.ttest_ind(s1, s2)\n",
    "if p < 0.05:\n",
    "    result = 'reject null'\n",
    "else :\n",
    "    result = 'fail to reject null'\n",
    "print(result)"
   ]
  },
  {
   "cell_type": "markdown",
   "id": "a623674c",
   "metadata": {},
   "source": [
    "Conclusion : avg duration for delayed filghts and non Delayed flights are significantly different.\n",
    "    \n",
    "    - avg duration of flights is less for non delayed flights\n",
    "    - short duration flights get delayed less. "
   ]
  },
  {
   "cell_type": "markdown",
   "id": "06b369d7",
   "metadata": {},
   "source": [
    "check info of data"
   ]
  },
  {
   "cell_type": "code",
   "execution_count": 166,
   "id": "17ffe2ea",
   "metadata": {},
   "outputs": [
    {
     "data": {
      "text/html": [
       "<div>\n",
       "<style scoped>\n",
       "    .dataframe tbody tr th:only-of-type {\n",
       "        vertical-align: middle;\n",
       "    }\n",
       "\n",
       "    .dataframe tbody tr th {\n",
       "        vertical-align: top;\n",
       "    }\n",
       "\n",
       "    .dataframe thead th {\n",
       "        text-align: right;\n",
       "    }\n",
       "</style>\n",
       "<table border=\"1\" class=\"dataframe\">\n",
       "  <thead>\n",
       "    <tr style=\"text-align: right;\">\n",
       "      <th></th>\n",
       "      <th>id</th>\n",
       "      <th>Airline</th>\n",
       "      <th>Flight</th>\n",
       "      <th>AirportFrom</th>\n",
       "      <th>AirportTo</th>\n",
       "      <th>DayOfWeek</th>\n",
       "      <th>Time</th>\n",
       "      <th>Length</th>\n",
       "      <th>Delay</th>\n",
       "      <th>type_source_airport</th>\n",
       "      <th>elevation_ft_source_airport</th>\n",
       "      <th>runway_count_source_airport</th>\n",
       "      <th>type_dest_airport</th>\n",
       "      <th>elevation_ft_dest_airport</th>\n",
       "      <th>runway_count_dest_airport</th>\n",
       "      <th>data_2019_source_airport</th>\n",
       "      <th>data_2019_dest_airport</th>\n",
       "      <th>Founded</th>\n",
       "      <th>duration</th>\n",
       "    </tr>\n",
       "  </thead>\n",
       "  <tbody>\n",
       "    <tr>\n",
       "      <th>0</th>\n",
       "      <td>1</td>\n",
       "      <td>CO</td>\n",
       "      <td>269</td>\n",
       "      <td>SFO</td>\n",
       "      <td>IAH</td>\n",
       "      <td>3</td>\n",
       "      <td>15</td>\n",
       "      <td>205</td>\n",
       "      <td>1</td>\n",
       "      <td>large_airport</td>\n",
       "      <td>13.0</td>\n",
       "      <td>4.0</td>\n",
       "      <td>large_airport</td>\n",
       "      <td>97.0</td>\n",
       "      <td>5.0</td>\n",
       "      <td>27779230.0</td>\n",
       "      <td>21905309.0</td>\n",
       "      <td>1934.0</td>\n",
       "      <td>short</td>\n",
       "    </tr>\n",
       "    <tr>\n",
       "      <th>1</th>\n",
       "      <td>6</td>\n",
       "      <td>CO</td>\n",
       "      <td>1094</td>\n",
       "      <td>LAX</td>\n",
       "      <td>IAH</td>\n",
       "      <td>3</td>\n",
       "      <td>30</td>\n",
       "      <td>181</td>\n",
       "      <td>1</td>\n",
       "      <td>large_airport</td>\n",
       "      <td>125.0</td>\n",
       "      <td>4.0</td>\n",
       "      <td>large_airport</td>\n",
       "      <td>97.0</td>\n",
       "      <td>5.0</td>\n",
       "      <td>42939104.0</td>\n",
       "      <td>21905309.0</td>\n",
       "      <td>1934.0</td>\n",
       "      <td>short</td>\n",
       "    </tr>\n",
       "  </tbody>\n",
       "</table>\n",
       "</div>"
      ],
      "text/plain": [
       "   id Airline  Flight AirportFrom AirportTo  DayOfWeek  Time  Length  Delay  \\\n",
       "0   1      CO     269         SFO       IAH          3    15     205      1   \n",
       "1   6      CO    1094         LAX       IAH          3    30     181      1   \n",
       "\n",
       "  type_source_airport  elevation_ft_source_airport  \\\n",
       "0       large_airport                         13.0   \n",
       "1       large_airport                        125.0   \n",
       "\n",
       "   runway_count_source_airport type_dest_airport  elevation_ft_dest_airport  \\\n",
       "0                          4.0     large_airport                       97.0   \n",
       "1                          4.0     large_airport                       97.0   \n",
       "\n",
       "   runway_count_dest_airport  data_2019_source_airport  \\\n",
       "0                        5.0                27779230.0   \n",
       "1                        5.0                42939104.0   \n",
       "\n",
       "   data_2019_dest_airport  Founded duration  \n",
       "0              21905309.0   1934.0    short  \n",
       "1              21905309.0   1934.0    short  "
      ]
     },
     "execution_count": 166,
     "metadata": {},
     "output_type": "execute_result"
    }
   ],
   "source": [
    "combined_data_pax.head(2)"
   ]
  },
  {
   "cell_type": "code",
   "execution_count": 167,
   "id": "e50af511",
   "metadata": {},
   "outputs": [
    {
     "data": {
      "text/plain": [
       "Index(['id', 'Airline', 'Flight', 'AirportFrom', 'AirportTo', 'DayOfWeek',\n",
       "       'Time', 'Length', 'Delay', 'type_source_airport',\n",
       "       'elevation_ft_source_airport', 'runway_count_source_airport',\n",
       "       'type_dest_airport', 'elevation_ft_dest_airport',\n",
       "       'runway_count_dest_airport', 'data_2019_source_airport',\n",
       "       'data_2019_dest_airport', 'Founded', 'duration'],\n",
       "      dtype='object')"
      ]
     },
     "execution_count": 167,
     "metadata": {},
     "output_type": "execute_result"
    }
   ],
   "source": [
    "combined_data_pax.columns"
   ]
  },
  {
   "cell_type": "code",
   "execution_count": 168,
   "id": "82f339fa",
   "metadata": {},
   "outputs": [],
   "source": [
    "combined_data_pax.to_csv('combined_data_pax.csv', index=False)"
   ]
  },
  {
   "cell_type": "markdown",
   "id": "c5531064",
   "metadata": {},
   "source": [
    "# 7. Use Onehotencoder and Ordinalencoder to deal with categorical variables."
   ]
  },
  {
   "cell_type": "code",
   "execution_count": 169,
   "id": "586d46bb",
   "metadata": {},
   "outputs": [
    {
     "data": {
      "text/plain": [
       "id                                0\n",
       "Airline                           0\n",
       "Flight                            0\n",
       "AirportFrom                       0\n",
       "AirportTo                         0\n",
       "DayOfWeek                         0\n",
       "Time                              0\n",
       "Length                            0\n",
       "Delay                             0\n",
       "type_source_airport               0\n",
       "elevation_ft_source_airport       0\n",
       "runway_count_source_airport       0\n",
       "type_dest_airport                 0\n",
       "elevation_ft_dest_airport         0\n",
       "runway_count_dest_airport         0\n",
       "data_2019_source_airport       1173\n",
       "data_2019_dest_airport         1166\n",
       "Founded                           0\n",
       "duration                          0\n",
       "dtype: int64"
      ]
     },
     "execution_count": 169,
     "metadata": {},
     "output_type": "execute_result"
    }
   ],
   "source": [
    "combined_data_pax.isna().sum()"
   ]
  },
  {
   "cell_type": "code",
   "execution_count": 170,
   "id": "f6df4dd3",
   "metadata": {},
   "outputs": [],
   "source": [
    "combined_data_pax.dropna(inplace = True)"
   ]
  },
  {
   "cell_type": "code",
   "execution_count": 171,
   "id": "4993fffb",
   "metadata": {},
   "outputs": [],
   "source": [
    "combined_data_pax.drop(columns = ['id', 'Flight',  'duration'], inplace = True)"
   ]
  },
  {
   "cell_type": "code",
   "execution_count": 172,
   "id": "7e4b7313",
   "metadata": {},
   "outputs": [
    {
     "data": {
      "text/html": [
       "<div>\n",
       "<style scoped>\n",
       "    .dataframe tbody tr th:only-of-type {\n",
       "        vertical-align: middle;\n",
       "    }\n",
       "\n",
       "    .dataframe tbody tr th {\n",
       "        vertical-align: top;\n",
       "    }\n",
       "\n",
       "    .dataframe thead th {\n",
       "        text-align: right;\n",
       "    }\n",
       "</style>\n",
       "<table border=\"1\" class=\"dataframe\">\n",
       "  <thead>\n",
       "    <tr style=\"text-align: right;\">\n",
       "      <th></th>\n",
       "      <th>Airline</th>\n",
       "      <th>AirportFrom</th>\n",
       "      <th>AirportTo</th>\n",
       "      <th>DayOfWeek</th>\n",
       "      <th>Time</th>\n",
       "      <th>Length</th>\n",
       "      <th>Delay</th>\n",
       "      <th>type_source_airport</th>\n",
       "      <th>elevation_ft_source_airport</th>\n",
       "      <th>runway_count_source_airport</th>\n",
       "      <th>type_dest_airport</th>\n",
       "      <th>elevation_ft_dest_airport</th>\n",
       "      <th>runway_count_dest_airport</th>\n",
       "      <th>data_2019_source_airport</th>\n",
       "      <th>data_2019_dest_airport</th>\n",
       "      <th>Founded</th>\n",
       "    </tr>\n",
       "  </thead>\n",
       "  <tbody>\n",
       "    <tr>\n",
       "      <th>0</th>\n",
       "      <td>CO</td>\n",
       "      <td>SFO</td>\n",
       "      <td>IAH</td>\n",
       "      <td>3</td>\n",
       "      <td>15</td>\n",
       "      <td>205</td>\n",
       "      <td>1</td>\n",
       "      <td>large_airport</td>\n",
       "      <td>13.0</td>\n",
       "      <td>4.0</td>\n",
       "      <td>large_airport</td>\n",
       "      <td>97.0</td>\n",
       "      <td>5.0</td>\n",
       "      <td>27779230.0</td>\n",
       "      <td>21905309.0</td>\n",
       "      <td>1934.0</td>\n",
       "    </tr>\n",
       "    <tr>\n",
       "      <th>1</th>\n",
       "      <td>CO</td>\n",
       "      <td>LAX</td>\n",
       "      <td>IAH</td>\n",
       "      <td>3</td>\n",
       "      <td>30</td>\n",
       "      <td>181</td>\n",
       "      <td>1</td>\n",
       "      <td>large_airport</td>\n",
       "      <td>125.0</td>\n",
       "      <td>4.0</td>\n",
       "      <td>large_airport</td>\n",
       "      <td>97.0</td>\n",
       "      <td>5.0</td>\n",
       "      <td>42939104.0</td>\n",
       "      <td>21905309.0</td>\n",
       "      <td>1934.0</td>\n",
       "    </tr>\n",
       "  </tbody>\n",
       "</table>\n",
       "</div>"
      ],
      "text/plain": [
       "  Airline AirportFrom AirportTo  DayOfWeek  Time  Length  Delay  \\\n",
       "0      CO         SFO       IAH          3    15     205      1   \n",
       "1      CO         LAX       IAH          3    30     181      1   \n",
       "\n",
       "  type_source_airport  elevation_ft_source_airport  \\\n",
       "0       large_airport                         13.0   \n",
       "1       large_airport                        125.0   \n",
       "\n",
       "   runway_count_source_airport type_dest_airport  elevation_ft_dest_airport  \\\n",
       "0                          4.0     large_airport                       97.0   \n",
       "1                          4.0     large_airport                       97.0   \n",
       "\n",
       "   runway_count_dest_airport  data_2019_source_airport  \\\n",
       "0                        5.0                27779230.0   \n",
       "1                        5.0                42939104.0   \n",
       "\n",
       "   data_2019_dest_airport  Founded  \n",
       "0              21905309.0   1934.0  \n",
       "1              21905309.0   1934.0  "
      ]
     },
     "execution_count": 172,
     "metadata": {},
     "output_type": "execute_result"
    }
   ],
   "source": [
    "combined_data_pax.head(2)"
   ]
  },
  {
   "cell_type": "code",
   "execution_count": 173,
   "id": "e465b214",
   "metadata": {},
   "outputs": [
    {
     "data": {
      "text/plain": [
       "array(['large_airport', 'medium_airport'], dtype=object)"
      ]
     },
     "execution_count": 173,
     "metadata": {},
     "output_type": "execute_result"
    }
   ],
   "source": [
    "combined_data_pax.type_dest_airport.unique()"
   ]
  },
  {
   "cell_type": "code",
   "execution_count": 174,
   "id": "f2f5e246",
   "metadata": {},
   "outputs": [
    {
     "data": {
      "text/plain": [
       "OrdinalEncoder(categories=[['medium_airport', 'large_airport'],\n",
       "                           ['medium_airport', 'large_airport']])"
      ]
     },
     "execution_count": 174,
     "metadata": {},
     "output_type": "execute_result"
    }
   ],
   "source": [
    "ordinal = OrdinalEncoder(categories=[['medium_airport', 'large_airport'],['medium_airport', 'large_airport']])\n",
    "ordinal.fit(combined_data_pax[['type_source_airport', 'type_dest_airport']])"
   ]
  },
  {
   "cell_type": "code",
   "execution_count": 175,
   "id": "d76fe399",
   "metadata": {},
   "outputs": [],
   "source": [
    "combined_data_pax[['type_source_airport', 'type_dest_airport']] = ordinal.transform(combined_data_pax[['type_source_airport', 'type_dest_airport']])"
   ]
  },
  {
   "cell_type": "code",
   "execution_count": 176,
   "id": "df401ab0",
   "metadata": {},
   "outputs": [],
   "source": [
    "model_data = combined_data_pax.drop(columns = ['Airline', 'AirportFrom', 'AirportTo'])"
   ]
  },
  {
   "cell_type": "code",
   "execution_count": 177,
   "id": "c95f52f4",
   "metadata": {},
   "outputs": [
    {
     "data": {
      "text/plain": [
       "(516217, 13)"
      ]
     },
     "execution_count": 177,
     "metadata": {},
     "output_type": "execute_result"
    }
   ],
   "source": [
    "model_data.shape"
   ]
  },
  {
   "cell_type": "code",
   "execution_count": 178,
   "id": "ffa8b3af",
   "metadata": {},
   "outputs": [
    {
     "data": {
      "text/plain": [
       "(516217, 13)"
      ]
     },
     "execution_count": 178,
     "metadata": {},
     "output_type": "execute_result"
    }
   ],
   "source": [
    "dummy = pd.get_dummies(model_data)\n",
    "dummy.shape"
   ]
  },
  {
   "cell_type": "code",
   "execution_count": 179,
   "id": "b68343b0",
   "metadata": {},
   "outputs": [
    {
     "data": {
      "text/plain": [
       "(518556, 9)"
      ]
     },
     "execution_count": 179,
     "metadata": {},
     "output_type": "execute_result"
    }
   ],
   "source": [
    "airlines.shape"
   ]
  },
  {
   "cell_type": "code",
   "execution_count": 180,
   "id": "9e0ce1fe",
   "metadata": {},
   "outputs": [],
   "source": [
    "dummy.Founded = 2022 - dummy.Founded"
   ]
  },
  {
   "cell_type": "code",
   "execution_count": 181,
   "id": "8cef15ac",
   "metadata": {},
   "outputs": [
    {
     "data": {
      "text/html": [
       "<div>\n",
       "<style scoped>\n",
       "    .dataframe tbody tr th:only-of-type {\n",
       "        vertical-align: middle;\n",
       "    }\n",
       "\n",
       "    .dataframe tbody tr th {\n",
       "        vertical-align: top;\n",
       "    }\n",
       "\n",
       "    .dataframe thead th {\n",
       "        text-align: right;\n",
       "    }\n",
       "</style>\n",
       "<table border=\"1\" class=\"dataframe\">\n",
       "  <thead>\n",
       "    <tr style=\"text-align: right;\">\n",
       "      <th></th>\n",
       "      <th>DayOfWeek</th>\n",
       "      <th>Time</th>\n",
       "      <th>Length</th>\n",
       "      <th>Delay</th>\n",
       "      <th>type_source_airport</th>\n",
       "      <th>elevation_ft_source_airport</th>\n",
       "      <th>runway_count_source_airport</th>\n",
       "      <th>type_dest_airport</th>\n",
       "      <th>elevation_ft_dest_airport</th>\n",
       "      <th>runway_count_dest_airport</th>\n",
       "      <th>data_2019_source_airport</th>\n",
       "      <th>data_2019_dest_airport</th>\n",
       "      <th>Founded</th>\n",
       "    </tr>\n",
       "  </thead>\n",
       "  <tbody>\n",
       "    <tr>\n",
       "      <th>0</th>\n",
       "      <td>3</td>\n",
       "      <td>15</td>\n",
       "      <td>205</td>\n",
       "      <td>1</td>\n",
       "      <td>1.0</td>\n",
       "      <td>13.0</td>\n",
       "      <td>4.0</td>\n",
       "      <td>1.0</td>\n",
       "      <td>97.0</td>\n",
       "      <td>5.0</td>\n",
       "      <td>27779230.0</td>\n",
       "      <td>21905309.0</td>\n",
       "      <td>88.0</td>\n",
       "    </tr>\n",
       "    <tr>\n",
       "      <th>1</th>\n",
       "      <td>3</td>\n",
       "      <td>30</td>\n",
       "      <td>181</td>\n",
       "      <td>1</td>\n",
       "      <td>1.0</td>\n",
       "      <td>125.0</td>\n",
       "      <td>4.0</td>\n",
       "      <td>1.0</td>\n",
       "      <td>97.0</td>\n",
       "      <td>5.0</td>\n",
       "      <td>42939104.0</td>\n",
       "      <td>21905309.0</td>\n",
       "      <td>88.0</td>\n",
       "    </tr>\n",
       "  </tbody>\n",
       "</table>\n",
       "</div>"
      ],
      "text/plain": [
       "   DayOfWeek  Time  Length  Delay  type_source_airport  \\\n",
       "0          3    15     205      1                  1.0   \n",
       "1          3    30     181      1                  1.0   \n",
       "\n",
       "   elevation_ft_source_airport  runway_count_source_airport  \\\n",
       "0                         13.0                          4.0   \n",
       "1                        125.0                          4.0   \n",
       "\n",
       "   type_dest_airport  elevation_ft_dest_airport  runway_count_dest_airport  \\\n",
       "0                1.0                       97.0                        5.0   \n",
       "1                1.0                       97.0                        5.0   \n",
       "\n",
       "   data_2019_source_airport  data_2019_dest_airport  Founded  \n",
       "0                27779230.0              21905309.0     88.0  \n",
       "1                42939104.0              21905309.0     88.0  "
      ]
     },
     "execution_count": 181,
     "metadata": {},
     "output_type": "execute_result"
    }
   ],
   "source": [
    "dummy.head(2)"
   ]
  },
  {
   "cell_type": "markdown",
   "id": "2a9e447e",
   "metadata": {},
   "source": [
    "8.\tModel Building:\n",
    "\n",
    "I.\tUse logistic regression(use stochastic gradient descent optimizer)  and decision tree models\n",
    "\n",
    "II.\tUse stratified 5-fold method to build the models and validate\n",
    "\n",
    "III.\tMake sure you use standardization effectively ensuring no data leakage\n",
    "\n",
    "IV.\tPipelines need to leveraged to have a cleaner code\n",
    "\n",
    "V.\tUse randomized search CV for Hyperparameter tuning. For CV, use k-fold. \n",
    "\n",
    "VI.\tKeep a few data points(10%) away for the prediction purposes. \n",
    "\n",
    "VII.\tFinal prediction has to be done based on voting(majority class by 5 models created using \n",
    "stratified 5-fold method\n",
    "\n",
    "VIII.\tCompare the results of logistic regression and decision tree classifier"
   ]
  },
  {
   "cell_type": "code",
   "execution_count": 182,
   "id": "234e89fd",
   "metadata": {},
   "outputs": [],
   "source": [
    "model_data.reset_index(drop = True, inplace = True)"
   ]
  },
  {
   "cell_type": "code",
   "execution_count": 183,
   "id": "e65875ae",
   "metadata": {},
   "outputs": [],
   "source": [
    "np.random.seed(12)\n",
    "deploy_idx = np.random.choice(model_data.index, replace = False, size = 5000)"
   ]
  },
  {
   "cell_type": "code",
   "execution_count": 184,
   "id": "39ade57b",
   "metadata": {},
   "outputs": [],
   "source": [
    "deploy = model_data.loc[deploy_idx]"
   ]
  },
  {
   "cell_type": "code",
   "execution_count": 185,
   "id": "9edf9406",
   "metadata": {},
   "outputs": [],
   "source": [
    "X_deploy = deploy.drop(columns = 'Delay')"
   ]
  },
  {
   "cell_type": "code",
   "execution_count": 186,
   "id": "a02cb7a6",
   "metadata": {},
   "outputs": [],
   "source": [
    "model_dev = model_data.loc[~model_data.index.isin(deploy.index)]"
   ]
  },
  {
   "cell_type": "code",
   "execution_count": 187,
   "id": "ccd4f224",
   "metadata": {},
   "outputs": [],
   "source": [
    "deploy.reset_index(drop = True, inplace = True)\n",
    "model_dev.reset_index(drop = True, inplace = True)"
   ]
  },
  {
   "cell_type": "code",
   "execution_count": 188,
   "id": "1bfe67da",
   "metadata": {},
   "outputs": [],
   "source": [
    "X = model_dev.drop(columns = 'Delay')\n",
    "y = model_dev.Delay"
   ]
  },
  {
   "cell_type": "code",
   "execution_count": 191,
   "id": "9605f080",
   "metadata": {},
   "outputs": [
    {
     "name": "stdout",
     "output_type": "stream",
     "text": [
      "iter  1\n",
      "iter  2\n",
      "iter  3\n",
      "iter  4\n",
      "iter  5\n"
     ]
    }
   ],
   "source": [
    "folds = StratifiedKFold(n_splits=5, shuffle = True, random_state=12)\n",
    "accuracy_train = {}\n",
    "accuracy_test = {}\n",
    "final_predictions_sgd = {}\n",
    "i = 1\n",
    "for train_index, test_index in folds.split(X,y):\n",
    "    print('iter ', i)\n",
    "    train, test = model_dev.loc[train_index,], model_dev.loc[test_index,]\n",
    "    sc = StandardScaler()\n",
    "    sgd = SGDClassifier()\n",
    "    \n",
    "    # define search space\n",
    "    \n",
    "    space = dict()\n",
    "    space['sgd__penalty'] = ['l1', 'l2', 'elasticnet']\n",
    "    space['sgd__l1_ratio'] = [0,.1,.2,.8,1]\n",
    "    space['sgd__alpha'] = [1e-5, 1e-4, 1e-3, 1e-2, 1e-1, 1, 10, 100, 1000,10000] \n",
    "    space['sgd__learning_rate'] = ['constant', 'adaptive'] \n",
    "    space['sgd__eta0']=[1e-5, 1e-4, 1e-3, 1e-2, 1e-1 , 2e-1, 3e-1, 5e-1, 8e-1, 4e-1, 8e-1, 1, 10, 100] \n",
    "    \n",
    "    pipe = Pipeline([('sc',sc), ('sgd', sgd)])\n",
    "    \n",
    "    # define search\n",
    "    search = RandomizedSearchCV( pipe, space, scoring='accuracy', \n",
    "                                cv=5, refit=True, return_train_score = True,\n",
    "                                random_state = 12, n_jobs = -1, n_iter = 2\n",
    "                           )\n",
    "    \n",
    "    # execute search\n",
    "    X_train = train.drop(columns = 'Delay')\n",
    "    y_train = train.Delay\n",
    "    \n",
    "    result = search.fit(X_train, y_train)\n",
    "\n",
    "    train_pred = result.predict(X_train)\n",
    "    \n",
    "    X_test = test.drop(columns = 'Delay')\n",
    "    y_test = test.Delay\n",
    "    test_pred = result.predict(X_test)\n",
    "    final_predictions_sgd.update({'Fold{}'.format(i):result.predict(X_deploy)})\n",
    "    \n",
    "    # get rmse for each fold for train data \n",
    "    accuracy_train.update({'Fold{}'.format(i): round(accuracy_score(y_true = y_train, y_pred = train_pred)*100,3)})\n",
    "    accuracy_test.update({'Fold{}'.format(i): round(accuracy_score(y_true = y_test, y_pred = test_pred) * 100,3)})\n",
    "    i += 1"
   ]
  },
  {
   "cell_type": "code",
   "execution_count": 192,
   "id": "2fc4c46b",
   "metadata": {},
   "outputs": [
    {
     "name": "stdout",
     "output_type": "stream",
     "text": [
      "iter  1\n",
      "iter  2\n",
      "iter  3\n",
      "iter  4\n",
      "iter  5\n"
     ]
    }
   ],
   "source": [
    "folds = StratifiedKFold(n_splits=5, shuffle = True, random_state=12)\n",
    "dt_accuracy_train = {}\n",
    "dt_accuracy_test = {}\n",
    "final_predictions_dt = {}\n",
    "i = 1\n",
    "for train_index, test_index in folds.split(X,y):\n",
    "    print('iter ', i)\n",
    "    \n",
    "    train, test = model_dev.loc[train_index,], model_dev.loc[test_index,]\n",
    "    \n",
    "    sc = StandardScaler()\n",
    "    dt = DecisionTreeClassifier()\n",
    "    \n",
    "    \n",
    "    # define search space\n",
    "    space = dict()\n",
    "    space['dt__min_samples_split'] = [25000, 30000, 35000, 40000, 45000, 50000, 60000 ]\n",
    "    space['dt__min_samples_leaf'] = [10000, 15000, 20000]\n",
    "    \n",
    "    pipe = Pipeline([('sc',sc), ('dt', dt)])\n",
    "    \n",
    "    # define search\n",
    "    search = RandomizedSearchCV( pipe, space, scoring='accuracy', \n",
    "                                cv=5, refit=True, return_train_score = True,\n",
    "                                random_state = 12, n_jobs = -1, n_iter = 2\n",
    "                           )\n",
    "    \n",
    "    # execute search\n",
    "    X_train = train.drop(columns = 'Delay')\n",
    "    y_train = train.Delay\n",
    "    \n",
    "    result = search.fit(X_train, y_train)\n",
    "\n",
    "    train_pred = result.predict(X_train)\n",
    "    \n",
    "    X_test = test.drop(columns = 'Delay')\n",
    "    y_test = test.Delay\n",
    "    test_pred = result.predict(X_test)\n",
    "    final_predictions_dt.update({'Fold{}'.format(i):result.predict(X_deploy)})\n",
    "    \n",
    "    # get rmse for each fold for train data \n",
    "    dt_accuracy_train.update({'Fold{}'.format(i): round(accuracy_score(y_true = y_train, y_pred = train_pred)*100,3)})\n",
    "    dt_accuracy_test.update({'Fold{}'.format(i): round(accuracy_score(y_true = y_test, y_pred = test_pred) * 100,3)})\n",
    "    i += 1"
   ]
  },
  {
   "cell_type": "code",
   "execution_count": 195,
   "id": "83965ffc",
   "metadata": {},
   "outputs": [
    {
     "data": {
      "text/html": [
       "<div>\n",
       "<style scoped>\n",
       "    .dataframe tbody tr th:only-of-type {\n",
       "        vertical-align: middle;\n",
       "    }\n",
       "\n",
       "    .dataframe tbody tr th {\n",
       "        vertical-align: top;\n",
       "    }\n",
       "\n",
       "    .dataframe thead th {\n",
       "        text-align: right;\n",
       "    }\n",
       "</style>\n",
       "<table border=\"1\" class=\"dataframe\">\n",
       "  <thead>\n",
       "    <tr style=\"text-align: right;\">\n",
       "      <th></th>\n",
       "      <th>sgd</th>\n",
       "      <th>dt</th>\n",
       "    </tr>\n",
       "  </thead>\n",
       "  <tbody>\n",
       "    <tr>\n",
       "      <th>Fold 1</th>\n",
       "      <td>57.094</td>\n",
       "      <td>62.149</td>\n",
       "    </tr>\n",
       "    <tr>\n",
       "      <th>Fold 2</th>\n",
       "      <td>57.133</td>\n",
       "      <td>61.945</td>\n",
       "    </tr>\n",
       "    <tr>\n",
       "      <th>Fold 3</th>\n",
       "      <td>47.332</td>\n",
       "      <td>62.041</td>\n",
       "    </tr>\n",
       "    <tr>\n",
       "      <th>Fold 4</th>\n",
       "      <td>57.106</td>\n",
       "      <td>62.123</td>\n",
       "    </tr>\n",
       "    <tr>\n",
       "      <th>Fold 5</th>\n",
       "      <td>57.117</td>\n",
       "      <td>61.940</td>\n",
       "    </tr>\n",
       "  </tbody>\n",
       "</table>\n",
       "</div>"
      ],
      "text/plain": [
       "           sgd      dt\n",
       "Fold 1  57.094  62.149\n",
       "Fold 2  57.133  61.945\n",
       "Fold 3  47.332  62.041\n",
       "Fold 4  57.106  62.123\n",
       "Fold 5  57.117  61.940"
      ]
     },
     "execution_count": 195,
     "metadata": {},
     "output_type": "execute_result"
    }
   ],
   "source": [
    "# compare results : \n",
    "\n",
    "train_results = pd.DataFrame ({'sgd' : accuracy_train.values(), 'dt': dt_accuracy_train.values() },\n",
    "                             index = ['Fold {}'.format(i) for i in range(1,6)])\n",
    "train_results"
   ]
  },
  {
   "cell_type": "code",
   "execution_count": 196,
   "id": "1b6fc016",
   "metadata": {},
   "outputs": [
    {
     "data": {
      "text/html": [
       "<div>\n",
       "<style scoped>\n",
       "    .dataframe tbody tr th:only-of-type {\n",
       "        vertical-align: middle;\n",
       "    }\n",
       "\n",
       "    .dataframe tbody tr th {\n",
       "        vertical-align: top;\n",
       "    }\n",
       "\n",
       "    .dataframe thead th {\n",
       "        text-align: right;\n",
       "    }\n",
       "</style>\n",
       "<table border=\"1\" class=\"dataframe\">\n",
       "  <thead>\n",
       "    <tr style=\"text-align: right;\">\n",
       "      <th></th>\n",
       "      <th>sgd</th>\n",
       "      <th>dt</th>\n",
       "    </tr>\n",
       "  </thead>\n",
       "  <tbody>\n",
       "    <tr>\n",
       "      <th>Fold 1</th>\n",
       "      <td>57.075</td>\n",
       "      <td>62.145</td>\n",
       "    </tr>\n",
       "    <tr>\n",
       "      <th>Fold 2</th>\n",
       "      <td>57.028</td>\n",
       "      <td>61.773</td>\n",
       "    </tr>\n",
       "    <tr>\n",
       "      <th>Fold 3</th>\n",
       "      <td>47.135</td>\n",
       "      <td>62.248</td>\n",
       "    </tr>\n",
       "    <tr>\n",
       "      <th>Fold 4</th>\n",
       "      <td>57.155</td>\n",
       "      <td>61.918</td>\n",
       "    </tr>\n",
       "    <tr>\n",
       "      <th>Fold 5</th>\n",
       "      <td>57.035</td>\n",
       "      <td>62.019</td>\n",
       "    </tr>\n",
       "  </tbody>\n",
       "</table>\n",
       "</div>"
      ],
      "text/plain": [
       "           sgd      dt\n",
       "Fold 1  57.075  62.145\n",
       "Fold 2  57.028  61.773\n",
       "Fold 3  47.135  62.248\n",
       "Fold 4  57.155  61.918\n",
       "Fold 5  57.035  62.019"
      ]
     },
     "execution_count": 196,
     "metadata": {},
     "output_type": "execute_result"
    }
   ],
   "source": [
    "test_results = pd.DataFrame ({'sgd' : accuracy_test.values(), 'dt': dt_accuracy_test.values() },\n",
    "                             index = ['Fold {}'.format(i) for i in range(1,6)])\n",
    "test_results"
   ]
  },
  {
   "cell_type": "markdown",
   "id": "54162708",
   "metadata": {},
   "source": [
    "# getting accuracies for final predictions"
   ]
  },
  {
   "cell_type": "code",
   "execution_count": 197,
   "id": "914e19eb",
   "metadata": {},
   "outputs": [
    {
     "data": {
      "text/plain": [
       "{'Fold1': array([1, 0, 0, ..., 1, 0, 0], dtype=int64),\n",
       " 'Fold2': array([0, 0, 0, ..., 0, 0, 0], dtype=int64),\n",
       " 'Fold3': array([1, 0, 0, ..., 1, 0, 0], dtype=int64),\n",
       " 'Fold4': array([1, 0, 0, ..., 1, 0, 0], dtype=int64),\n",
       " 'Fold5': array([0, 0, 0, ..., 0, 0, 0], dtype=int64)}"
      ]
     },
     "execution_count": 197,
     "metadata": {},
     "output_type": "execute_result"
    }
   ],
   "source": [
    "final_predictions_dt"
   ]
  },
  {
   "cell_type": "code",
   "execution_count": 198,
   "id": "341aa52d",
   "metadata": {},
   "outputs": [
    {
     "data": {
      "text/plain": [
       "{'Fold1': array([1, 0, 0, ..., 0, 0, 0], dtype=int64),\n",
       " 'Fold2': array([1, 0, 0, ..., 0, 0, 0], dtype=int64),\n",
       " 'Fold3': array([1, 0, 0, ..., 0, 1, 0], dtype=int64),\n",
       " 'Fold4': array([1, 0, 0, ..., 0, 0, 0], dtype=int64),\n",
       " 'Fold5': array([0, 0, 0, ..., 0, 0, 0], dtype=int64)}"
      ]
     },
     "execution_count": 198,
     "metadata": {},
     "output_type": "execute_result"
    }
   ],
   "source": [
    "final_predictions_sgd"
   ]
  },
  {
   "cell_type": "markdown",
   "id": "69157908",
   "metadata": {},
   "source": [
    "9.\tUse XGB classifier for the model building, again use stratified 5-fold method to build the models and validate. Compare all the methods and share your learnings."
   ]
  },
  {
   "cell_type": "markdown",
   "id": "3c09ac42",
   "metadata": {},
   "source": [
    "folds = StratifiedKFold(n_splits=5, shuffle = True, random_state=12)\n",
    "xgb_accuracy_train = {}\n",
    "xgb_accuracy_test = {}\n",
    "final_predictions_xgb = []\n",
    "\n",
    "i = 1\n",
    "for train_index, test_index in folds.split(X,y):\n",
    "    print('iter ', i)\n",
    "    train, test = model_dev.loc[train_index,], model_dev.loc[test_index,]\n",
    "    sc = StandardScaler()\n",
    "    xgb_r = XGBClassifier(random_state = 12, use_label_encoder = False)\n",
    "\n",
    "    # define search space\n",
    "    space = dict()\n",
    "    space['xgb_r__n_estimators'] = [40,50,60]\n",
    "    space['xgb_r__max_depth'] = [3,4,5]\n",
    "    space['xgb_r__colsample_bytree']:[0.4,.5,.6]\n",
    "    space['xgb_r__lambda'] = [.0001,.002,.0004,.0003]\n",
    "    space['xgb_r__alpha'] = [.01,.02,.1,.4]\n",
    "    \n",
    "    pipe = Pipeline([('sc',sc), ('xgb_r', xgb_r)])\n",
    "    \n",
    "    # define search\n",
    "    search = RandomizedSearchCV( pipe, space, scoring='neg_root_mean_squared_error', \n",
    "                                cv=5, refit=True, return_train_score = True,\n",
    "                                random_state = 12, n_jobs = -1, n_iter = 2\n",
    "                           )\n",
    "    \n",
    "    # execute search\n",
    "    X_train = train.drop(columns = 'Delay')\n",
    "    y_train = train.Delay\n",
    "    \n",
    "    result = search.fit(X_train, y_train)\n",
    "\n",
    "    train_pred = result.predict(X_train)\n",
    "    \n",
    "    X_test = test.drop(columns = 'Delay')\n",
    "    y_test = test.Delay\n",
    "    test_pred = result.predict(X_test)\n",
    "    \n",
    "    final_predictions_xgb.append(result.predict(X_deploy))  \n",
    "    \n",
    "    # get rmse for each fold for train data \n",
    "    xgb_accuracy_train.update({'Fold{}'.format(i): round(accuracy_score(y_true = y_train, y_pred = train_pred),3)})\n",
    "    xgb_accuracy_test.update({'Fold{}'.format(i): round(accuracy_score(y_true = y_test, y_pred = test_pred),3)})\n",
    "    i += 1\n",
    "    \n",
    "    \n",
    "    \n",
    "   Output: \n",
    "   \n",
    "           iter  1 \n",
    "   \n",
    "           iter  2\n",
    "           \n",
    "           iter  3\n",
    "           \n",
    "           iter  4\n",
    "           \n",
    "           iter  5"
   ]
  },
  {
   "cell_type": "code",
   "execution_count": 200,
   "id": "eccb333a",
   "metadata": {},
   "outputs": [
    {
     "data": {
      "text/plain": [
       "{'Fold1': 0.641, 'Fold2': 0.647, 'Fold3': 0.64, 'Fold4': 0.647, 'Fold5': 0.641}"
      ]
     },
     "execution_count": 200,
     "metadata": {},
     "output_type": "execute_result"
    }
   ],
   "source": [
    "xgb_accuracy_train"
   ]
  },
  {
   "cell_type": "code",
   "execution_count": 201,
   "id": "b03bf51c",
   "metadata": {},
   "outputs": [
    {
     "data": {
      "text/plain": [
       "dict_values([0.641, 0.647, 0.64, 0.647, 0.641])"
      ]
     },
     "execution_count": 201,
     "metadata": {},
     "output_type": "execute_result"
    }
   ],
   "source": [
    "xgb_accuracy_train.values()"
   ]
  },
  {
   "cell_type": "code",
   "execution_count": 202,
   "id": "b15a6cca",
   "metadata": {},
   "outputs": [],
   "source": [
    "train_results['xgb'] = xgb_accuracy_train.values()\n",
    "test_results['xgb'] = xgb_accuracy_test.values()"
   ]
  },
  {
   "cell_type": "code",
   "execution_count": 203,
   "id": "060ac2a8",
   "metadata": {},
   "outputs": [
    {
     "data": {
      "text/html": [
       "<div>\n",
       "<style scoped>\n",
       "    .dataframe tbody tr th:only-of-type {\n",
       "        vertical-align: middle;\n",
       "    }\n",
       "\n",
       "    .dataframe tbody tr th {\n",
       "        vertical-align: top;\n",
       "    }\n",
       "\n",
       "    .dataframe thead th {\n",
       "        text-align: right;\n",
       "    }\n",
       "</style>\n",
       "<table border=\"1\" class=\"dataframe\">\n",
       "  <thead>\n",
       "    <tr style=\"text-align: right;\">\n",
       "      <th></th>\n",
       "      <th>sgd</th>\n",
       "      <th>dt</th>\n",
       "      <th>xgb</th>\n",
       "    </tr>\n",
       "  </thead>\n",
       "  <tbody>\n",
       "    <tr>\n",
       "      <th>Fold 1</th>\n",
       "      <td>57.094</td>\n",
       "      <td>62.149</td>\n",
       "      <td>0.641</td>\n",
       "    </tr>\n",
       "    <tr>\n",
       "      <th>Fold 2</th>\n",
       "      <td>57.133</td>\n",
       "      <td>61.945</td>\n",
       "      <td>0.647</td>\n",
       "    </tr>\n",
       "    <tr>\n",
       "      <th>Fold 3</th>\n",
       "      <td>47.332</td>\n",
       "      <td>62.041</td>\n",
       "      <td>0.640</td>\n",
       "    </tr>\n",
       "    <tr>\n",
       "      <th>Fold 4</th>\n",
       "      <td>57.106</td>\n",
       "      <td>62.123</td>\n",
       "      <td>0.647</td>\n",
       "    </tr>\n",
       "    <tr>\n",
       "      <th>Fold 5</th>\n",
       "      <td>57.117</td>\n",
       "      <td>61.940</td>\n",
       "      <td>0.641</td>\n",
       "    </tr>\n",
       "  </tbody>\n",
       "</table>\n",
       "</div>"
      ],
      "text/plain": [
       "           sgd      dt    xgb\n",
       "Fold 1  57.094  62.149  0.641\n",
       "Fold 2  57.133  61.945  0.647\n",
       "Fold 3  47.332  62.041  0.640\n",
       "Fold 4  57.106  62.123  0.647\n",
       "Fold 5  57.117  61.940  0.641"
      ]
     },
     "execution_count": 203,
     "metadata": {},
     "output_type": "execute_result"
    }
   ],
   "source": [
    "train_results"
   ]
  },
  {
   "cell_type": "code",
   "execution_count": 204,
   "id": "ecc258ae",
   "metadata": {},
   "outputs": [
    {
     "data": {
      "text/html": [
       "<div>\n",
       "<style scoped>\n",
       "    .dataframe tbody tr th:only-of-type {\n",
       "        vertical-align: middle;\n",
       "    }\n",
       "\n",
       "    .dataframe tbody tr th {\n",
       "        vertical-align: top;\n",
       "    }\n",
       "\n",
       "    .dataframe thead th {\n",
       "        text-align: right;\n",
       "    }\n",
       "</style>\n",
       "<table border=\"1\" class=\"dataframe\">\n",
       "  <thead>\n",
       "    <tr style=\"text-align: right;\">\n",
       "      <th></th>\n",
       "      <th>sgd</th>\n",
       "      <th>dt</th>\n",
       "      <th>xgb</th>\n",
       "    </tr>\n",
       "  </thead>\n",
       "  <tbody>\n",
       "    <tr>\n",
       "      <th>Fold 1</th>\n",
       "      <td>57.075</td>\n",
       "      <td>62.145</td>\n",
       "      <td>0.640</td>\n",
       "    </tr>\n",
       "    <tr>\n",
       "      <th>Fold 2</th>\n",
       "      <td>57.028</td>\n",
       "      <td>61.773</td>\n",
       "      <td>0.643</td>\n",
       "    </tr>\n",
       "    <tr>\n",
       "      <th>Fold 3</th>\n",
       "      <td>47.135</td>\n",
       "      <td>62.248</td>\n",
       "      <td>0.641</td>\n",
       "    </tr>\n",
       "    <tr>\n",
       "      <th>Fold 4</th>\n",
       "      <td>57.155</td>\n",
       "      <td>61.918</td>\n",
       "      <td>0.645</td>\n",
       "    </tr>\n",
       "    <tr>\n",
       "      <th>Fold 5</th>\n",
       "      <td>57.035</td>\n",
       "      <td>62.019</td>\n",
       "      <td>0.639</td>\n",
       "    </tr>\n",
       "  </tbody>\n",
       "</table>\n",
       "</div>"
      ],
      "text/plain": [
       "           sgd      dt    xgb\n",
       "Fold 1  57.075  62.145  0.640\n",
       "Fold 2  57.028  61.773  0.643\n",
       "Fold 3  47.135  62.248  0.641\n",
       "Fold 4  57.155  61.918  0.645\n",
       "Fold 5  57.035  62.019  0.639"
      ]
     },
     "execution_count": 204,
     "metadata": {},
     "output_type": "execute_result"
    }
   ],
   "source": [
    "test_results"
   ]
  }
 ],
 "metadata": {
  "kernelspec": {
   "display_name": "Python 3 (ipykernel)",
   "language": "python",
   "name": "python3"
  },
  "language_info": {
   "codemirror_mode": {
    "name": "ipython",
    "version": 3
   },
   "file_extension": ".py",
   "mimetype": "text/x-python",
   "name": "python",
   "nbconvert_exporter": "python",
   "pygments_lexer": "ipython3",
   "version": "3.9.12"
  }
 },
 "nbformat": 4,
 "nbformat_minor": 5
}
